{
 "cells": [
  {
   "cell_type": "code",
   "execution_count": 11,
   "id": "ce91d811-fbba-4990-a015-d43184543219",
   "metadata": {
    "tags": []
   },
   "outputs": [
    {
     "name": "stderr",
     "output_type": "stream",
     "text": [
      "/Users/kimmo/anaconda3/envs/lens-bot-or-not/lib/python3.10/site-packages/tqdm/auto.py:21: TqdmWarning: IProgress not found. Please update jupyter and ipywidgets. See https://ipywidgets.readthedocs.io/en/stable/user_install.html\n",
      "  from .autonotebook import tqdm as notebook_tqdm\n"
     ]
    }
   ],
   "source": [
    "import pandas as pd\n",
    "import glob\n",
    "from sklearn.model_selection import train_test_split\n",
    "from pytorch_tabnet.tab_model import TabNetClassifier\n",
    "from pytorch_tabnet.pretraining import TabNetPretrainer\n",
    "from sklearn.preprocessing import QuantileTransformer\n",
    "import torch\n",
    "savepath = f\"data\""
   ]
  },
  {
   "cell_type": "code",
   "execution_count": null,
   "id": "3525a8d9-6b9a-459f-be7a-503b6f88bee6",
   "metadata": {},
   "outputs": [],
   "source": []
  },
  {
   "cell_type": "code",
   "execution_count": 21,
   "id": "6bed780f-9706-41b8-93cd-a56467a07957",
   "metadata": {
    "tags": []
   },
   "outputs": [],
   "source": [
    "def get_dtypes(data):\n",
    "    data[data.dtypes[data.dtypes=='object'].index] = data[data.dtypes[data.dtypes=='object'].index].fillna(-1).astype('int')\n",
    "    data[data.dtypes[data.dtypes=='bool'].index] = data[data.dtypes[data.dtypes=='bool'].index].fillna(-1).astype('int')\n",
    "\n",
    "    return data\n"
   ]
  },
  {
   "cell_type": "code",
   "execution_count": 5,
   "id": "ca0a86bf-ef36-4753-977c-64748743e3cc",
   "metadata": {
    "tags": []
   },
   "outputs": [
    {
     "data": {
      "text/html": [
       "<div>\n",
       "<style scoped>\n",
       "    .dataframe tbody tr th:only-of-type {\n",
       "        vertical-align: middle;\n",
       "    }\n",
       "\n",
       "    .dataframe tbody tr th {\n",
       "        vertical-align: top;\n",
       "    }\n",
       "\n",
       "    .dataframe thead th {\n",
       "        text-align: right;\n",
       "    }\n",
       "</style>\n",
       "<table border=\"1\" class=\"dataframe\">\n",
       "  <thead>\n",
       "    <tr style=\"text-align: right;\">\n",
       "      <th></th>\n",
       "      <th>0x112b57A293d99b79Fe360Af042bb3bfFc824Ab3a</th>\n",
       "      <th>0x25418Bcf53dAe1167cD5d0cad34Eec31C0C37E41</th>\n",
       "      <th>0x3530c7CAc2E47F27bA82a5d0D3671181171292DB</th>\n",
       "      <th>0x45F71328a415129CB25e3917e70f5BCA346C6151</th>\n",
       "      <th>0x46fAf146C4683663667af868dFc2F98ADc27fBd6</th>\n",
       "      <th>0x57B7bf6f792a6181Ec5aFB88cE7bcE330a9d1b67</th>\n",
       "      <th>0x62D0e168e35f87a1dB804C2b2daf63AE4D195cD1</th>\n",
       "      <th>0x6bC45934A408f7151093479bf59933cD3B75701d</th>\n",
       "      <th>0x761010EFc8826fFdcb8Ad005BD935698ed38DfE7</th>\n",
       "      <th>0x76D4fFdA8c66864FA07f0a285B8E01E11b4Bb7b3</th>\n",
       "      <th>...</th>\n",
       "      <th>q25_paid_collect_data_insights</th>\n",
       "      <th>q75_paid_collect_data_insights</th>\n",
       "      <th>q90_paid_collect_data_insights</th>\n",
       "      <th>max_paid_collect_data_insights</th>\n",
       "      <th>min_paid_collect_data_insights</th>\n",
       "      <th>id</th>\n",
       "      <th>score</th>\n",
       "      <th>rank</th>\n",
       "      <th>handle</th>\n",
       "      <th>followersCount</th>\n",
       "    </tr>\n",
       "  </thead>\n",
       "  <tbody>\n",
       "    <tr>\n",
       "      <th>0</th>\n",
       "      <td>False</td>\n",
       "      <td>False</td>\n",
       "      <td>False</td>\n",
       "      <td>True</td>\n",
       "      <td>False</td>\n",
       "      <td>False</td>\n",
       "      <td>False</td>\n",
       "      <td>False</td>\n",
       "      <td>False</td>\n",
       "      <td>False</td>\n",
       "      <td>...</td>\n",
       "      <td>-1.0</td>\n",
       "      <td>-1.0</td>\n",
       "      <td>-1.0</td>\n",
       "      <td>-1.0</td>\n",
       "      <td>-1.0</td>\n",
       "      <td>44206</td>\n",
       "      <td>1.204615e-32</td>\n",
       "      <td>73917</td>\n",
       "      <td>lalalisa.lens</td>\n",
       "      <td>4</td>\n",
       "    </tr>\n",
       "    <tr>\n",
       "      <th>1</th>\n",
       "      <td>False</td>\n",
       "      <td>False</td>\n",
       "      <td>False</td>\n",
       "      <td>False</td>\n",
       "      <td>True</td>\n",
       "      <td>False</td>\n",
       "      <td>False</td>\n",
       "      <td>False</td>\n",
       "      <td>False</td>\n",
       "      <td>False</td>\n",
       "      <td>...</td>\n",
       "      <td>-1.0</td>\n",
       "      <td>-1.0</td>\n",
       "      <td>-1.0</td>\n",
       "      <td>-1.0</td>\n",
       "      <td>-1.0</td>\n",
       "      <td>63491</td>\n",
       "      <td>2.780876e-04</td>\n",
       "      <td>357</td>\n",
       "      <td>wearenewt.lens</td>\n",
       "      <td>99</td>\n",
       "    </tr>\n",
       "    <tr>\n",
       "      <th>2</th>\n",
       "      <td>False</td>\n",
       "      <td>False</td>\n",
       "      <td>False</td>\n",
       "      <td>False</td>\n",
       "      <td>False</td>\n",
       "      <td>False</td>\n",
       "      <td>False</td>\n",
       "      <td>True</td>\n",
       "      <td>False</td>\n",
       "      <td>False</td>\n",
       "      <td>...</td>\n",
       "      <td>-1.0</td>\n",
       "      <td>-1.0</td>\n",
       "      <td>-1.0</td>\n",
       "      <td>-1.0</td>\n",
       "      <td>-1.0</td>\n",
       "      <td>42808</td>\n",
       "      <td>1.055264e-03</td>\n",
       "      <td>101</td>\n",
       "      <td>korudao.lens</td>\n",
       "      <td>7233</td>\n",
       "    </tr>\n",
       "    <tr>\n",
       "      <th>3</th>\n",
       "      <td>False</td>\n",
       "      <td>False</td>\n",
       "      <td>False</td>\n",
       "      <td>True</td>\n",
       "      <td>False</td>\n",
       "      <td>False</td>\n",
       "      <td>False</td>\n",
       "      <td>False</td>\n",
       "      <td>False</td>\n",
       "      <td>False</td>\n",
       "      <td>...</td>\n",
       "      <td>-1.0</td>\n",
       "      <td>-1.0</td>\n",
       "      <td>-1.0</td>\n",
       "      <td>-1.0</td>\n",
       "      <td>-1.0</td>\n",
       "      <td>58734</td>\n",
       "      <td>6.004227e-33</td>\n",
       "      <td>82601</td>\n",
       "      <td>lenstyle.lens</td>\n",
       "      <td>3</td>\n",
       "    </tr>\n",
       "    <tr>\n",
       "      <th>4</th>\n",
       "      <td>False</td>\n",
       "      <td>False</td>\n",
       "      <td>False</td>\n",
       "      <td>False</td>\n",
       "      <td>False</td>\n",
       "      <td>False</td>\n",
       "      <td>True</td>\n",
       "      <td>False</td>\n",
       "      <td>False</td>\n",
       "      <td>False</td>\n",
       "      <td>...</td>\n",
       "      <td>-1.0</td>\n",
       "      <td>-1.0</td>\n",
       "      <td>-1.0</td>\n",
       "      <td>-1.0</td>\n",
       "      <td>-1.0</td>\n",
       "      <td>7059</td>\n",
       "      <td>5.603351e-32</td>\n",
       "      <td>55999</td>\n",
       "      <td>edaen.lens</td>\n",
       "      <td>11</td>\n",
       "    </tr>\n",
       "  </tbody>\n",
       "</table>\n",
       "<p>5 rows × 218 columns</p>\n",
       "</div>"
      ],
      "text/plain": [
       "  0x112b57A293d99b79Fe360Af042bb3bfFc824Ab3a   \n",
       "0                                      False  \\\n",
       "1                                      False   \n",
       "2                                      False   \n",
       "3                                      False   \n",
       "4                                      False   \n",
       "\n",
       "  0x25418Bcf53dAe1167cD5d0cad34Eec31C0C37E41   \n",
       "0                                      False  \\\n",
       "1                                      False   \n",
       "2                                      False   \n",
       "3                                      False   \n",
       "4                                      False   \n",
       "\n",
       "  0x3530c7CAc2E47F27bA82a5d0D3671181171292DB   \n",
       "0                                      False  \\\n",
       "1                                      False   \n",
       "2                                      False   \n",
       "3                                      False   \n",
       "4                                      False   \n",
       "\n",
       "  0x45F71328a415129CB25e3917e70f5BCA346C6151   \n",
       "0                                       True  \\\n",
       "1                                      False   \n",
       "2                                      False   \n",
       "3                                       True   \n",
       "4                                      False   \n",
       "\n",
       "  0x46fAf146C4683663667af868dFc2F98ADc27fBd6   \n",
       "0                                      False  \\\n",
       "1                                       True   \n",
       "2                                      False   \n",
       "3                                      False   \n",
       "4                                      False   \n",
       "\n",
       "  0x57B7bf6f792a6181Ec5aFB88cE7bcE330a9d1b67   \n",
       "0                                      False  \\\n",
       "1                                      False   \n",
       "2                                      False   \n",
       "3                                      False   \n",
       "4                                      False   \n",
       "\n",
       "  0x62D0e168e35f87a1dB804C2b2daf63AE4D195cD1   \n",
       "0                                      False  \\\n",
       "1                                      False   \n",
       "2                                      False   \n",
       "3                                      False   \n",
       "4                                       True   \n",
       "\n",
       "  0x6bC45934A408f7151093479bf59933cD3B75701d   \n",
       "0                                      False  \\\n",
       "1                                      False   \n",
       "2                                       True   \n",
       "3                                      False   \n",
       "4                                      False   \n",
       "\n",
       "  0x761010EFc8826fFdcb8Ad005BD935698ed38DfE7   \n",
       "0                                      False  \\\n",
       "1                                      False   \n",
       "2                                      False   \n",
       "3                                      False   \n",
       "4                                      False   \n",
       "\n",
       "  0x76D4fFdA8c66864FA07f0a285B8E01E11b4Bb7b3  ...   \n",
       "0                                      False  ...  \\\n",
       "1                                      False  ...   \n",
       "2                                      False  ...   \n",
       "3                                      False  ...   \n",
       "4                                      False  ...   \n",
       "\n",
       "  q25_paid_collect_data_insights q75_paid_collect_data_insights   \n",
       "0                           -1.0                           -1.0  \\\n",
       "1                           -1.0                           -1.0   \n",
       "2                           -1.0                           -1.0   \n",
       "3                           -1.0                           -1.0   \n",
       "4                           -1.0                           -1.0   \n",
       "\n",
       "  q90_paid_collect_data_insights max_paid_collect_data_insights   \n",
       "0                           -1.0                           -1.0  \\\n",
       "1                           -1.0                           -1.0   \n",
       "2                           -1.0                           -1.0   \n",
       "3                           -1.0                           -1.0   \n",
       "4                           -1.0                           -1.0   \n",
       "\n",
       "  min_paid_collect_data_insights     id         score   rank          handle   \n",
       "0                           -1.0  44206  1.204615e-32  73917   lalalisa.lens  \\\n",
       "1                           -1.0  63491  2.780876e-04    357  wearenewt.lens   \n",
       "2                           -1.0  42808  1.055264e-03    101    korudao.lens   \n",
       "3                           -1.0  58734  6.004227e-33  82601   lenstyle.lens   \n",
       "4                           -1.0   7059  5.603351e-32  55999      edaen.lens   \n",
       "\n",
       "   followersCount  \n",
       "0               4  \n",
       "1              99  \n",
       "2            7233  \n",
       "3               3  \n",
       "4              11  \n",
       "\n",
       "[5 rows x 218 columns]"
      ]
     },
     "execution_count": 5,
     "metadata": {},
     "output_type": "execute_result"
    }
   ],
   "source": [
    "files = glob.glob(f'{savepath}/*')\n",
    "\n",
    "labels = pd.read_csv(f'{savepath}/karma_data.csv',index_col=0)\n",
    "\n",
    "\n",
    "address = pd.read_csv(f'{savepath}/address',index_col=0)\n",
    "address = address.drop({'block_timestamp'},axis=1)#.join( ((pd.to_datetime('2023-04-15',utc=True) - pd.to_datetime(address['block_timestamp'])).dt.total_seconds()/60/24).round(0))\n",
    "address = address.drop({'metadata_block_timestamp'},axis=1)#.join( ((pd.to_datetime('2023-04-15',utc=True) - pd.to_datetime(address['metadata_block_timestamp'])).dt.total_seconds()/60/24).round(0))\n",
    "\n",
    "address = address.rename({'block_timestamp':'days_since_profile_created', 'metadata_block_timestamp':'days_since_metadata_changed'},axis=1)\n",
    "\n",
    "\n",
    "\n",
    "dispatcher = pd.read_csv(f'{savepath}/dispatcher_data',index_col=0)\n",
    "dispatcher = dispatcher.drop(['profile_dispatcher_address','dispatcher_setup_timestamp'],axis=1).join(pd.get_dummies(dispatcher['profile_dispatcher_address'])).join( ((pd.to_datetime('2023-04-15',utc=True) - pd.to_datetime(dispatcher['dispatcher_setup_timestamp'])).dt.total_seconds()/60/24).round(0))\n",
    "dispatcher = dispatcher.rename({'dispatcher_setup_timestamp':'days_since_dispatcher_changed'},axis=1)\n",
    "\n",
    "profile_data = pd.merge(dispatcher,address, on='profile_id', how='outer')\n",
    "\n",
    "\n",
    "worldcoin_human = pd.read_csv(f'{savepath}/worldcoin_human_check',index_col=0)\n",
    "worldcoin_human['worldcoin_human']=True\n",
    "profile_data = pd.merge(profile_data,worldcoin_human, on='profile_id', how='outer')\n",
    "\n",
    "aggregated_stats = pd.read_csv(f'{savepath}/aggregated_stats',index_col=0)\n",
    "profile_data = pd.merge(profile_data,aggregated_stats, on='profile_id', how='outer')\n",
    "\n",
    "\n",
    "\n",
    "def read_insight_data(profile_data, name,group_col='profile_id'):\n",
    "    profile_data.copy()\n",
    "    df = pd.read_csv(f'{savepath}/{name}',index_col=0,skiprows=[0,2])\n",
    "    df.columns = [f'{i}_{name}' for i in df.columns]\n",
    "    profile_data = pd.merge(profile_data,df, left_on=group_col,right_index=True, how='outer')\n",
    "    return profile_data\n",
    "\n",
    "profile_data = read_insight_data(profile_data, name='post_data_insights')\n",
    "\n",
    "profile_data = read_insight_data(profile_data, name='comment_data_insights')\n",
    "\n",
    "profile_data = read_insight_data(profile_data, name='mirror_data_insights')\n",
    "\n",
    "profile_data = read_insight_data(profile_data, name='like_data_insights')\n",
    "\n",
    "\n",
    "most_used_app = pd.read_csv(f'{savepath}/most_used_app',index_col=0)\n",
    "most_used_app = most_used_app.join(pd.get_dummies(most_used_app[['app_id_highest_posts','app_id_highest_comments']])).drop(['app_id_highest_posts','app_id_highest_comments'],axis=1)\n",
    "profile_data = pd.merge(profile_data,most_used_app, on='profile_id', how='outer')\n",
    "\n",
    "\n",
    "ens_address = pd.read_csv(f'{savepath}/ens_address',index_col=0)\n",
    "ens_address['ens']=True\n",
    "\n",
    "proof_of_humanity = pd.read_csv(f'{savepath}/proof_of_humanity',index_col=0)\n",
    "proof_of_humanity['proof_of_humanity']=True\n",
    "\n",
    "sybil_dot_org_address_verified_twitter = pd.read_csv(f'{savepath}/sybil_dot_org_address_verified_twitter',index_col=0)\n",
    "sybil_dot_org_address_verified_twitter['sybil_dot_org_address_verified_twitter']=True\n",
    "\n",
    "address_data = pd.merge(ens_address,proof_of_humanity, on='address',how='outer')\n",
    "address_data = pd.merge(address_data,sybil_dot_org_address_verified_twitter, on='address',how='outer')\n",
    "\n",
    "address_data = read_insight_data(address_data, name='collect_data_insights',group_col='address')\n",
    "\n",
    "address_data = read_insight_data(address_data, name='paid_collect_data_insights',group_col='address')\n",
    "\n",
    "\n",
    "\n",
    "data = profile_data.merge(address_data,on='address',how='outer').drop('address',axis=1)\n",
    "\n",
    "\n",
    "\n",
    "def intify(x):\n",
    "    return int(x,16)\n",
    "\n",
    "\n",
    "\n",
    "data = data.dropna(subset=['profile_id'])\n",
    "data['id'] = data['profile_id'].apply(intify)\n",
    "data = data.set_index('profile_id')\n",
    "\n",
    "data = data.merge(labels,on='id',how='inner')\n",
    "data = data.fillna(-1)\n",
    "data.head()"
   ]
  },
  {
   "cell_type": "code",
   "execution_count": 25,
   "id": "c606dfbb-e34d-473e-8fbb-edb4b51388b7",
   "metadata": {
    "tags": []
   },
   "outputs": [],
   "source": [
    "bad = data.dropna(subset=['rank','total_mirrors']).query('total_mirrors>100').sort_values(by='rank').tail(500).drop(labels.columns,axis=1)\n",
    "good = data[data['worldcoin_human']==True].drop(labels.columns,axis=1).copy()\n",
    "bad['label'] = 0\n",
    "good['label'] = 1\n",
    "\n",
    "training_data = pd.concat([bad,good])\n",
    "validation_data = data.drop(training_data.index).drop(labels.columns,axis=1)\n"
   ]
  },
  {
   "cell_type": "code",
   "execution_count": 26,
   "id": "16176c2a-abef-45b0-ac08-34cbf6e2cbec",
   "metadata": {
    "tags": []
   },
   "outputs": [
    {
     "data": {
      "text/plain": [
       "int64      160\n",
       "float64     54\n",
       "Name: count, dtype: int64"
      ]
     },
     "execution_count": 26,
     "metadata": {},
     "output_type": "execute_result"
    }
   ],
   "source": [
    "training_data = get_dtypes(training_data)\n",
    "validation_data = get_dtypes(validation_data)\n",
    "\n",
    "X_train, X_test, y_train, y_test = train_test_split(training_data.drop('label',axis=1), training_data['label'], test_size=0.33, random_state=42)\n",
    "max_epochs = 1000\n",
    "\n",
    "\n",
    "training_data.dtypes.value_counts()"
   ]
  },
  {
   "cell_type": "code",
   "execution_count": 28,
   "id": "12b8c387-e351-4000-a0b5-3fe55e2f0f42",
   "metadata": {
    "tags": []
   },
   "outputs": [
    {
     "data": {
      "text/plain": [
       "(370, 213)"
      ]
     },
     "execution_count": 28,
     "metadata": {},
     "output_type": "execute_result"
    }
   ],
   "source": [
    "mc = QuantileTransformer()\n",
    "X_train.shape"
   ]
  },
  {
   "cell_type": "code",
   "execution_count": 29,
   "id": "7f9e824c-7c55-49af-8629-5eddf567e21f",
   "metadata": {
    "tags": []
   },
   "outputs": [
    {
     "name": "stderr",
     "output_type": "stream",
     "text": [
      "/Users/kimmo/anaconda3/envs/lens-bot-or-not/lib/python3.10/site-packages/pytorch_tabnet/abstract_model.py:75: UserWarning: Device used : cpu\n",
      "  warnings.warn(f\"Device used : {self.device}\")\n"
     ]
    }
   ],
   "source": [
    "\n",
    "# TabNetPretrainer\n",
    "unsupervised_model = TabNetPretrainer(\n",
    "    optimizer_fn=torch.optim.Adam,\n",
    "    optimizer_params=dict(lr=2e-2),\n",
    "    mask_type='entmax', # \"sparsemax\",\n",
    "    n_shared_decoder=1, # nb shared glu for decoding\n",
    "    n_indep_decoder=1, # nb independent glu for decoding\n",
    "#     grouped_features=[[0, 1]], # you can group features together here\n",
    "    verbose=5,\n",
    ")"
   ]
  },
  {
   "cell_type": "code",
   "execution_count": 30,
   "id": "826f2fc0-d7ed-4ec5-a060-687fe4d67f5a",
   "metadata": {
    "tags": []
   },
   "outputs": [
    {
     "name": "stdout",
     "output_type": "stream",
     "text": [
      "epoch 0  | loss: 6.27129 | val_0_unsup_loss_numpy: 0.8522099852561951|  0:00:09s\n",
      "epoch 5  | loss: 0.20671 | val_0_unsup_loss_numpy: 0.3834199905395508|  0:00:54s\n",
      "epoch 10 | loss: 0.17494 | val_0_unsup_loss_numpy: 0.5738800168037415|  0:01:44s\n",
      "\n",
      "Early stopping occurred at epoch 14 with best_epoch = 4 and best_val_0_unsup_loss_numpy = 0.3672899901866913\n"
     ]
    },
    {
     "name": "stderr",
     "output_type": "stream",
     "text": [
      "/Users/kimmo/anaconda3/envs/lens-bot-or-not/lib/python3.10/site-packages/pytorch_tabnet/callbacks.py:172: UserWarning: Best weights from best epoch are automatically used!\n",
      "  warnings.warn(wrn_msg)\n"
     ]
    }
   ],
   "source": [
    "unsupervised_model.fit(\n",
    "     X_train=mc.fit_transform(validation_data.values),\n",
    "     eval_set=[mc.transform(training_data.drop('label',axis=1).values)],\n",
    "    \n",
    "       \n",
    "\n",
    "    max_epochs=max_epochs , patience=10,\n",
    "    batch_size=2048, virtual_batch_size=128,\n",
    "    num_workers=0,\n",
    "    drop_last=False,\n",
    "    pretraining_ratio=0.5,\n",
    ") "
   ]
  },
  {
   "cell_type": "code",
   "execution_count": 31,
   "id": "a895a9f6-4aba-4141-9e47-dfa71e87cca6",
   "metadata": {
    "tags": []
   },
   "outputs": [
    {
     "name": "stderr",
     "output_type": "stream",
     "text": [
      "/Users/kimmo/anaconda3/envs/lens-bot-or-not/lib/python3.10/site-packages/pytorch_tabnet/abstract_model.py:75: UserWarning: Device used : cpu\n",
      "  warnings.warn(f\"Device used : {self.device}\")\n"
     ]
    }
   ],
   "source": [
    "clf = TabNetClassifier(optimizer_fn=torch.optim.Adam,\n",
    "                       optimizer_params=dict(lr=2e-3),\n",
    "                       scheduler_params={\"step_size\":10, # how to use learning rate scheduler\n",
    "                                         \"gamma\":0.9},\n",
    "                       scheduler_fn=torch.optim.lr_scheduler.StepLR,\n",
    "                       mask_type='sparsemax', # This will be overwritten if using pretrain model\n",
    "                       verbose=5,\n",
    "                      )"
   ]
  },
  {
   "cell_type": "code",
   "execution_count": 32,
   "id": "1866aa8f-8021-49aa-8457-c2c785227ce1",
   "metadata": {
    "tags": []
   },
   "outputs": [
    {
     "name": "stderr",
     "output_type": "stream",
     "text": [
      "/Users/kimmo/anaconda3/envs/lens-bot-or-not/lib/python3.10/site-packages/sklearn/preprocessing/_data.py:2627: UserWarning: n_quantiles (1000) is greater than the total number of samples (370). n_quantiles is set to n_samples.\n",
      "  warnings.warn(\n",
      "/Users/kimmo/anaconda3/envs/lens-bot-or-not/lib/python3.10/site-packages/pytorch_tabnet/abstract_model.py:105: UserWarning: Pretraining: mask_type changed from sparsemax to entmax\n",
      "  warnings.warn(wrn_msg)\n",
      "/Users/kimmo/anaconda3/envs/lens-bot-or-not/lib/python3.10/site-packages/pytorch_tabnet/abstract_model.py:231: UserWarning: Loading weights from unsupervised pretraining\n",
      "  warnings.warn(\"Loading weights from unsupervised pretraining\")\n"
     ]
    },
    {
     "name": "stdout",
     "output_type": "stream",
     "text": [
      "epoch 0  | loss: 0.95176 | train_logloss: 2.59761 | valid_logloss: 2.72036 |  0:00:00s\n",
      "epoch 5  | loss: 0.9006  | train_logloss: 1.66019 | valid_logloss: 1.67178 |  0:00:00s\n",
      "epoch 10 | loss: 0.77828 | train_logloss: 1.26496 | valid_logloss: 1.14416 |  0:00:00s\n",
      "epoch 15 | loss: 0.7447  | train_logloss: 1.14225 | valid_logloss: 1.09608 |  0:00:00s\n",
      "epoch 20 | loss: 0.71069 | train_logloss: 1.12387 | valid_logloss: 0.97406 |  0:00:01s\n",
      "epoch 25 | loss: 0.72893 | train_logloss: 1.15323 | valid_logloss: 1.00024 |  0:00:01s\n",
      "\n",
      "Early stopping occurred at epoch 27 with best_epoch = 22 and best_valid_logloss = 0.96883\n"
     ]
    },
    {
     "name": "stderr",
     "output_type": "stream",
     "text": [
      "/Users/kimmo/anaconda3/envs/lens-bot-or-not/lib/python3.10/site-packages/pytorch_tabnet/callbacks.py:172: UserWarning: Best weights from best epoch are automatically used!\n",
      "  warnings.warn(wrn_msg)\n"
     ]
    }
   ],
   "source": [
    "clf.fit(\n",
    "    X_train=mc.fit_transform(X_train.values), y_train=y_train.values,\n",
    "    eval_set=[(mc.transform(X_train.values), y_train.values), (mc.transform(X_test.values), y_test.values)],\n",
    "    eval_name=['train', 'valid'],\n",
    "    eval_metric=['logloss'],\n",
    "    max_epochs=max_epochs , patience=5,\n",
    "    batch_size=1024, virtual_batch_size=128,\n",
    "    num_workers=0,\n",
    "    weights=1,\n",
    "    drop_last=False,\n",
    "    from_unsupervised=unsupervised_model,\n",
    "    \n",
    ") "
   ]
  },
  {
   "cell_type": "code",
   "execution_count": 33,
   "id": "7a98c035-a30d-4183-b51a-cb6b92fc713e",
   "metadata": {
    "tags": []
   },
   "outputs": [],
   "source": [
    "from sklearn.metrics import roc_auc_score\n"
   ]
  },
  {
   "cell_type": "code",
   "execution_count": 34,
   "id": "0d310845-3156-4999-8b46-7f9ecfaac4f0",
   "metadata": {
    "tags": []
   },
   "outputs": [
    {
     "name": "stdout",
     "output_type": "stream",
     "text": [
      "BEST VALID SCORE : 0.9688261298354649\n"
     ]
    }
   ],
   "source": [
    "preds = clf.predict_proba(mc.transform(validation_data.values))\n",
    "# test_auc = roc_auc_score(y_score=preds[:,1], y_true=y_test)\n",
    "\n",
    "\n",
    "preds_valid = clf.predict_proba(mc.transform(X_test.values))\n",
    "valid_auc = roc_auc_score(y_score=preds_valid[:,1], y_true=y_test)\n",
    "\n",
    "print(f\"BEST VALID SCORE : {clf.best_cost}\")\n",
    "#print(f\"FINAL TEST SCORE FOR {dataset_name} : {test_auc}\")"
   ]
  },
  {
   "cell_type": "code",
   "execution_count": 35,
   "id": "d9ee1d89-2032-46de-8e29-cc37951b0cd6",
   "metadata": {
    "tags": []
   },
   "outputs": [
    {
     "data": {
      "text/plain": [
       "1    67921\n",
       "0    31530\n",
       "Name: count, dtype: int64"
      ]
     },
     "execution_count": 35,
     "metadata": {},
     "output_type": "execute_result"
    }
   ],
   "source": [
    "pd.Series(preds.argmax(1)).value_counts()"
   ]
  },
  {
   "cell_type": "code",
   "execution_count": 46,
   "id": "650944be-01a7-4e02-9d67-c67d1c635192",
   "metadata": {
    "tags": []
   },
   "outputs": [
    {
     "data": {
      "text/plain": [
       "<Axes: xlabel='rank', ylabel='label'>"
      ]
     },
     "execution_count": 46,
     "metadata": {},
     "output_type": "execute_result"
    },
    {
     "data": {
      "image/png": "[encoded data removed]",
      "text/plain": [
       "<Figure size 640x480 with 1 Axes>"
      ]
     },
     "metadata": {},
     "output_type": "display_data"
    }
   ],
   "source": [
    "pd.Series(preds.argmax(1),name='label').reset_index().join(labels).plot.scatter(x='rank',y='label',alpha=0.01,s=0.1)"
   ]
  },
  {
   "cell_type": "code",
   "execution_count": 48,
   "id": "46ea319b-5ba6-4d84-9c12-ea6e695b247c",
   "metadata": {
    "tags": []
   },
   "outputs": [
    {
     "data": {
      "text/html": [
       "<div>\n",
       "<style scoped>\n",
       "    .dataframe tbody tr th:only-of-type {\n",
       "        vertical-align: middle;\n",
       "    }\n",
       "\n",
       "    .dataframe tbody tr th {\n",
       "        vertical-align: top;\n",
       "    }\n",
       "\n",
       "    .dataframe thead th {\n",
       "        text-align: right;\n",
       "    }\n",
       "</style>\n",
       "<table border=\"1\" class=\"dataframe\">\n",
       "  <thead>\n",
       "    <tr style=\"text-align: right;\">\n",
       "      <th></th>\n",
       "      <th>index</th>\n",
       "      <th>label</th>\n",
       "      <th>score</th>\n",
       "      <th>rank</th>\n",
       "      <th>handle</th>\n",
       "      <th>followersCount</th>\n",
       "      <th>id</th>\n",
       "    </tr>\n",
       "  </thead>\n",
       "  <tbody>\n",
       "    <tr>\n",
       "      <th>0</th>\n",
       "      <td>0</td>\n",
       "      <td>1</td>\n",
       "      <td>0.064284</td>\n",
       "      <td>1</td>\n",
       "      <td>stani.lens</td>\n",
       "      <td>57607</td>\n",
       "      <td>5</td>\n",
       "    </tr>\n",
       "    <tr>\n",
       "      <th>1</th>\n",
       "      <td>1</td>\n",
       "      <td>1</td>\n",
       "      <td>0.059850</td>\n",
       "      <td>2</td>\n",
       "      <td>bradorbradley.lens</td>\n",
       "      <td>33082</td>\n",
       "      <td>36</td>\n",
       "    </tr>\n",
       "    <tr>\n",
       "      <th>2</th>\n",
       "      <td>2</td>\n",
       "      <td>1</td>\n",
       "      <td>0.059520</td>\n",
       "      <td>3</td>\n",
       "      <td>christina.lens</td>\n",
       "      <td>28154</td>\n",
       "      <td>142</td>\n",
       "    </tr>\n",
       "    <tr>\n",
       "      <th>3</th>\n",
       "      <td>3</td>\n",
       "      <td>1</td>\n",
       "      <td>0.055198</td>\n",
       "      <td>4</td>\n",
       "      <td>blackdave.lens</td>\n",
       "      <td>819</td>\n",
       "      <td>36284</td>\n",
       "    </tr>\n",
       "    <tr>\n",
       "      <th>4</th>\n",
       "      <td>4</td>\n",
       "      <td>1</td>\n",
       "      <td>0.054165</td>\n",
       "      <td>5</td>\n",
       "      <td>chriscomrie.lens</td>\n",
       "      <td>4917</td>\n",
       "      <td>73557</td>\n",
       "    </tr>\n",
       "    <tr>\n",
       "      <th>5</th>\n",
       "      <td>5</td>\n",
       "      <td>0</td>\n",
       "      <td>0.053637</td>\n",
       "      <td>6</td>\n",
       "      <td>levychain.lens</td>\n",
       "      <td>13995</td>\n",
       "      <td>3297</td>\n",
       "    </tr>\n",
       "    <tr>\n",
       "      <th>6</th>\n",
       "      <td>6</td>\n",
       "      <td>1</td>\n",
       "      <td>0.052514</td>\n",
       "      <td>7</td>\n",
       "      <td>ryanfox.lens</td>\n",
       "      <td>1266</td>\n",
       "      <td>90724</td>\n",
       "    </tr>\n",
       "    <tr>\n",
       "      <th>7</th>\n",
       "      <td>7</td>\n",
       "      <td>0</td>\n",
       "      <td>0.052446</td>\n",
       "      <td>8</td>\n",
       "      <td>goodkrak.lens</td>\n",
       "      <td>444</td>\n",
       "      <td>89805</td>\n",
       "    </tr>\n",
       "    <tr>\n",
       "      <th>8</th>\n",
       "      <td>8</td>\n",
       "      <td>1</td>\n",
       "      <td>0.052177</td>\n",
       "      <td>9</td>\n",
       "      <td>jamesfinnerty.lens</td>\n",
       "      <td>1177</td>\n",
       "      <td>105878</td>\n",
       "    </tr>\n",
       "    <tr>\n",
       "      <th>9</th>\n",
       "      <td>9</td>\n",
       "      <td>0</td>\n",
       "      <td>0.051787</td>\n",
       "      <td>10</td>\n",
       "      <td>cristinaspinei.lens</td>\n",
       "      <td>5157</td>\n",
       "      <td>4231</td>\n",
       "    </tr>\n",
       "    <tr>\n",
       "      <th>10</th>\n",
       "      <td>10</td>\n",
       "      <td>1</td>\n",
       "      <td>0.010152</td>\n",
       "      <td>11</td>\n",
       "      <td>mynameisheno.lens</td>\n",
       "      <td>1107</td>\n",
       "      <td>99638</td>\n",
       "    </tr>\n",
       "    <tr>\n",
       "      <th>11</th>\n",
       "      <td>11</td>\n",
       "      <td>1</td>\n",
       "      <td>0.009823</td>\n",
       "      <td>12</td>\n",
       "      <td>lensprotocol</td>\n",
       "      <td>64010</td>\n",
       "      <td>1</td>\n",
       "    </tr>\n",
       "    <tr>\n",
       "      <th>12</th>\n",
       "      <td>12</td>\n",
       "      <td>1</td>\n",
       "      <td>0.005620</td>\n",
       "      <td>13</td>\n",
       "      <td>pussyriotxyz.lens</td>\n",
       "      <td>6678</td>\n",
       "      <td>34448</td>\n",
       "    </tr>\n",
       "    <tr>\n",
       "      <th>13</th>\n",
       "      <td>13</td>\n",
       "      <td>1</td>\n",
       "      <td>0.005595</td>\n",
       "      <td>14</td>\n",
       "      <td>campfirexyz.lens</td>\n",
       "      <td>436</td>\n",
       "      <td>104278</td>\n",
       "    </tr>\n",
       "    <tr>\n",
       "      <th>14</th>\n",
       "      <td>14</td>\n",
       "      <td>0</td>\n",
       "      <td>0.005208</td>\n",
       "      <td>15</td>\n",
       "      <td>nader.lens</td>\n",
       "      <td>11662</td>\n",
       "      <td>10402</td>\n",
       "    </tr>\n",
       "    <tr>\n",
       "      <th>15</th>\n",
       "      <td>15</td>\n",
       "      <td>0</td>\n",
       "      <td>0.005139</td>\n",
       "      <td>16</td>\n",
       "      <td>ethdaily.lens</td>\n",
       "      <td>2016</td>\n",
       "      <td>60583</td>\n",
       "    </tr>\n",
       "    <tr>\n",
       "      <th>16</th>\n",
       "      <td>16</td>\n",
       "      <td>0</td>\n",
       "      <td>0.004961</td>\n",
       "      <td>17</td>\n",
       "      <td>yoginth.lens</td>\n",
       "      <td>48319</td>\n",
       "      <td>13</td>\n",
       "    </tr>\n",
       "    <tr>\n",
       "      <th>17</th>\n",
       "      <td>17</td>\n",
       "      <td>1</td>\n",
       "      <td>0.004676</td>\n",
       "      <td>18</td>\n",
       "      <td>gotenks.lens</td>\n",
       "      <td>4958</td>\n",
       "      <td>81134</td>\n",
       "    </tr>\n",
       "    <tr>\n",
       "      <th>18</th>\n",
       "      <td>18</td>\n",
       "      <td>1</td>\n",
       "      <td>0.004404</td>\n",
       "      <td>19</td>\n",
       "      <td>aaveaave.lens</td>\n",
       "      <td>49846</td>\n",
       "      <td>2</td>\n",
       "    </tr>\n",
       "    <tr>\n",
       "      <th>19</th>\n",
       "      <td>19</td>\n",
       "      <td>1</td>\n",
       "      <td>0.004255</td>\n",
       "      <td>20</td>\n",
       "      <td>imaneurope.lens</td>\n",
       "      <td>283</td>\n",
       "      <td>101834</td>\n",
       "    </tr>\n",
       "  </tbody>\n",
       "</table>\n",
       "</div>"
      ],
      "text/plain": [
       "    index  label     score  rank               handle  followersCount      id\n",
       "0       0      1  0.064284     1           stani.lens           57607       5\n",
       "1       1      1  0.059850     2   bradorbradley.lens           33082      36\n",
       "2       2      1  0.059520     3       christina.lens           28154     142\n",
       "3       3      1  0.055198     4       blackdave.lens             819   36284\n",
       "4       4      1  0.054165     5     chriscomrie.lens            4917   73557\n",
       "5       5      0  0.053637     6       levychain.lens           13995    3297\n",
       "6       6      1  0.052514     7         ryanfox.lens            1266   90724\n",
       "7       7      0  0.052446     8        goodkrak.lens             444   89805\n",
       "8       8      1  0.052177     9   jamesfinnerty.lens            1177  105878\n",
       "9       9      0  0.051787    10  cristinaspinei.lens            5157    4231\n",
       "10     10      1  0.010152    11    mynameisheno.lens            1107   99638\n",
       "11     11      1  0.009823    12         lensprotocol           64010       1\n",
       "12     12      1  0.005620    13    pussyriotxyz.lens            6678   34448\n",
       "13     13      1  0.005595    14     campfirexyz.lens             436  104278\n",
       "14     14      0  0.005208    15           nader.lens           11662   10402\n",
       "15     15      0  0.005139    16        ethdaily.lens            2016   60583\n",
       "16     16      0  0.004961    17         yoginth.lens           48319      13\n",
       "17     17      1  0.004676    18         gotenks.lens            4958   81134\n",
       "18     18      1  0.004404    19        aaveaave.lens           49846       2\n",
       "19     19      1  0.004255    20      imaneurope.lens             283  101834"
      ]
     },
     "execution_count": 48,
     "metadata": {},
     "output_type": "execute_result"
    }
   ],
   "source": [
    "pd.Series(preds.argmax(1),name='label').reset_index().join(labels).head(20)"
   ]
  },
  {
   "cell_type": "code",
   "execution_count": null,
   "id": "0781b659-7344-46a3-817a-ef2a49755f33",
   "metadata": {},
   "outputs": [],
   "source": []
  }
 ],
 "metadata": {
  "kernelspec": {
   "display_name": "Python 3 (ipykernel)",
   "language": "python",
   "name": "python3"
  },
  "language_info": {
   "codemirror_mode": {
    "name": "ipython",
    "version": 3
   },
   "file_extension": ".py",
   "mimetype": "text/x-python",
   "name": "python",
   "nbconvert_exporter": "python",
   "pygments_lexer": "ipython3",
   "version": "3.10.10"
  }
 },
 "nbformat": 4,
 "nbformat_minor": 5
}
