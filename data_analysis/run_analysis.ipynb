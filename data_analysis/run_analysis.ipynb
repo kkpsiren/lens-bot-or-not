{
 "cells": [
  {
   "cell_type": "code",
   "execution_count": 30,
   "id": "ce91d811-fbba-4990-a015-d43184543219",
   "metadata": {
    "tags": []
   },
   "outputs": [],
   "source": [
    "import pandas as pd\n",
    "import glob\n",
    "from sklearn.model_selection import train_test_split\n",
    "from pytorch_tabnet.tab_model import TabNetClassifier\n",
    "from pytorch_tabnet.pretraining import TabNetPretrainer\n",
    "from sklearn.preprocessing import MinMaxScaler\n",
    "import torch\n",
    "savepath = f\"data\""
   ]
  },
  {
   "cell_type": "code",
   "execution_count": null,
   "id": "3525a8d9-6b9a-459f-be7a-503b6f88bee6",
   "metadata": {},
   "outputs": [],
   "source": []
  },
  {
   "cell_type": "code",
   "execution_count": 2,
   "id": "6bed780f-9706-41b8-93cd-a56467a07957",
   "metadata": {
    "tags": []
   },
   "outputs": [],
   "source": [
    "def get_dtypes(data):\n",
    "    data[data.dtypes[data.dtypes=='object'].index] = data[data.dtypes[data.dtypes=='object'].index].fillna(-1).astype('int')\n",
    "    data[data.dtypes[data.dtypes=='bool'].index] = data[data.dtypes[data.dtypes=='bool'].index].fillna(-1).astype('int')\n",
    "\n",
    "    return data\n"
   ]
  },
  {
   "cell_type": "code",
   "execution_count": 3,
   "id": "ca0a86bf-ef36-4753-977c-64748743e3cc",
   "metadata": {
    "tags": []
   },
   "outputs": [
    {
     "data": {
      "text/html": [
       "<div>\n",
       "<style scoped>\n",
       "    .dataframe tbody tr th:only-of-type {\n",
       "        vertical-align: middle;\n",
       "    }\n",
       "\n",
       "    .dataframe tbody tr th {\n",
       "        vertical-align: top;\n",
       "    }\n",
       "\n",
       "    .dataframe thead th {\n",
       "        text-align: right;\n",
       "    }\n",
       "</style>\n",
       "<table border=\"1\" class=\"dataframe\">\n",
       "  <thead>\n",
       "    <tr style=\"text-align: right;\">\n",
       "      <th></th>\n",
       "      <th>0x112b57A293d99b79Fe360Af042bb3bfFc824Ab3a</th>\n",
       "      <th>0x25418Bcf53dAe1167cD5d0cad34Eec31C0C37E41</th>\n",
       "      <th>0x3530c7CAc2E47F27bA82a5d0D3671181171292DB</th>\n",
       "      <th>0x45F71328a415129CB25e3917e70f5BCA346C6151</th>\n",
       "      <th>0x46fAf146C4683663667af868dFc2F98ADc27fBd6</th>\n",
       "      <th>0x57B7bf6f792a6181Ec5aFB88cE7bcE330a9d1b67</th>\n",
       "      <th>0x62D0e168e35f87a1dB804C2b2daf63AE4D195cD1</th>\n",
       "      <th>0x6bC45934A408f7151093479bf59933cD3B75701d</th>\n",
       "      <th>0x761010EFc8826fFdcb8Ad005BD935698ed38DfE7</th>\n",
       "      <th>0x76D4fFdA8c66864FA07f0a285B8E01E11b4Bb7b3</th>\n",
       "      <th>...</th>\n",
       "      <th>USD_VALUE</th>\n",
       "      <th>MINTED_NFT</th>\n",
       "      <th>VOTED</th>\n",
       "      <th>ARBITRUM_COUNTS</th>\n",
       "      <th>OPTIMISM_COUNTS</th>\n",
       "      <th>id</th>\n",
       "      <th>score</th>\n",
       "      <th>rank</th>\n",
       "      <th>handle</th>\n",
       "      <th>followersCount</th>\n",
       "    </tr>\n",
       "  </thead>\n",
       "  <tbody>\n",
       "    <tr>\n",
       "      <th>0</th>\n",
       "      <td>False</td>\n",
       "      <td>False</td>\n",
       "      <td>False</td>\n",
       "      <td>True</td>\n",
       "      <td>False</td>\n",
       "      <td>False</td>\n",
       "      <td>False</td>\n",
       "      <td>False</td>\n",
       "      <td>False</td>\n",
       "      <td>False</td>\n",
       "      <td>...</td>\n",
       "      <td>0.0</td>\n",
       "      <td>1.0</td>\n",
       "      <td>1.0</td>\n",
       "      <td>852.0</td>\n",
       "      <td>1073.0</td>\n",
       "      <td>44206</td>\n",
       "      <td>1.204615e-32</td>\n",
       "      <td>73917</td>\n",
       "      <td>lalalisa.lens</td>\n",
       "      <td>4</td>\n",
       "    </tr>\n",
       "    <tr>\n",
       "      <th>1</th>\n",
       "      <td>False</td>\n",
       "      <td>False</td>\n",
       "      <td>False</td>\n",
       "      <td>False</td>\n",
       "      <td>False</td>\n",
       "      <td>False</td>\n",
       "      <td>True</td>\n",
       "      <td>False</td>\n",
       "      <td>False</td>\n",
       "      <td>False</td>\n",
       "      <td>...</td>\n",
       "      <td>0.0</td>\n",
       "      <td>1.0</td>\n",
       "      <td>1.0</td>\n",
       "      <td>0.0</td>\n",
       "      <td>0.0</td>\n",
       "      <td>7059</td>\n",
       "      <td>5.603351e-32</td>\n",
       "      <td>55999</td>\n",
       "      <td>edaen.lens</td>\n",
       "      <td>11</td>\n",
       "    </tr>\n",
       "    <tr>\n",
       "      <th>2</th>\n",
       "      <td>False</td>\n",
       "      <td>False</td>\n",
       "      <td>False</td>\n",
       "      <td>False</td>\n",
       "      <td>False</td>\n",
       "      <td>False</td>\n",
       "      <td>True</td>\n",
       "      <td>False</td>\n",
       "      <td>False</td>\n",
       "      <td>False</td>\n",
       "      <td>...</td>\n",
       "      <td>0.0</td>\n",
       "      <td>0.0</td>\n",
       "      <td>1.0</td>\n",
       "      <td>0.0</td>\n",
       "      <td>0.0</td>\n",
       "      <td>54009</td>\n",
       "      <td>1.238152e-04</td>\n",
       "      <td>633</td>\n",
       "      <td>tincho.lens</td>\n",
       "      <td>183</td>\n",
       "    </tr>\n",
       "    <tr>\n",
       "      <th>3</th>\n",
       "      <td>False</td>\n",
       "      <td>False</td>\n",
       "      <td>False</td>\n",
       "      <td>False</td>\n",
       "      <td>False</td>\n",
       "      <td>False</td>\n",
       "      <td>True</td>\n",
       "      <td>False</td>\n",
       "      <td>False</td>\n",
       "      <td>False</td>\n",
       "      <td>...</td>\n",
       "      <td>0.0</td>\n",
       "      <td>1.0</td>\n",
       "      <td>0.0</td>\n",
       "      <td>0.0</td>\n",
       "      <td>0.0</td>\n",
       "      <td>61990</td>\n",
       "      <td>4.146219e-08</td>\n",
       "      <td>12129</td>\n",
       "      <td>levodd.lens</td>\n",
       "      <td>49</td>\n",
       "    </tr>\n",
       "    <tr>\n",
       "      <th>4</th>\n",
       "      <td>False</td>\n",
       "      <td>False</td>\n",
       "      <td>False</td>\n",
       "      <td>True</td>\n",
       "      <td>False</td>\n",
       "      <td>False</td>\n",
       "      <td>False</td>\n",
       "      <td>False</td>\n",
       "      <td>False</td>\n",
       "      <td>False</td>\n",
       "      <td>...</td>\n",
       "      <td>0.0</td>\n",
       "      <td>1.0</td>\n",
       "      <td>1.0</td>\n",
       "      <td>1.0</td>\n",
       "      <td>0.0</td>\n",
       "      <td>57006</td>\n",
       "      <td>3.785037e-36</td>\n",
       "      <td>96190</td>\n",
       "      <td>kamilmouthon.lens</td>\n",
       "      <td>3</td>\n",
       "    </tr>\n",
       "  </tbody>\n",
       "</table>\n",
       "<p>5 rows × 323 columns</p>\n",
       "</div>"
      ],
      "text/plain": [
       "  0x112b57A293d99b79Fe360Af042bb3bfFc824Ab3a   \n",
       "0                                      False  \\\n",
       "1                                      False   \n",
       "2                                      False   \n",
       "3                                      False   \n",
       "4                                      False   \n",
       "\n",
       "  0x25418Bcf53dAe1167cD5d0cad34Eec31C0C37E41   \n",
       "0                                      False  \\\n",
       "1                                      False   \n",
       "2                                      False   \n",
       "3                                      False   \n",
       "4                                      False   \n",
       "\n",
       "  0x3530c7CAc2E47F27bA82a5d0D3671181171292DB   \n",
       "0                                      False  \\\n",
       "1                                      False   \n",
       "2                                      False   \n",
       "3                                      False   \n",
       "4                                      False   \n",
       "\n",
       "  0x45F71328a415129CB25e3917e70f5BCA346C6151   \n",
       "0                                       True  \\\n",
       "1                                      False   \n",
       "2                                      False   \n",
       "3                                      False   \n",
       "4                                       True   \n",
       "\n",
       "  0x46fAf146C4683663667af868dFc2F98ADc27fBd6   \n",
       "0                                      False  \\\n",
       "1                                      False   \n",
       "2                                      False   \n",
       "3                                      False   \n",
       "4                                      False   \n",
       "\n",
       "  0x57B7bf6f792a6181Ec5aFB88cE7bcE330a9d1b67   \n",
       "0                                      False  \\\n",
       "1                                      False   \n",
       "2                                      False   \n",
       "3                                      False   \n",
       "4                                      False   \n",
       "\n",
       "  0x62D0e168e35f87a1dB804C2b2daf63AE4D195cD1   \n",
       "0                                      False  \\\n",
       "1                                       True   \n",
       "2                                       True   \n",
       "3                                       True   \n",
       "4                                      False   \n",
       "\n",
       "  0x6bC45934A408f7151093479bf59933cD3B75701d   \n",
       "0                                      False  \\\n",
       "1                                      False   \n",
       "2                                      False   \n",
       "3                                      False   \n",
       "4                                      False   \n",
       "\n",
       "  0x761010EFc8826fFdcb8Ad005BD935698ed38DfE7   \n",
       "0                                      False  \\\n",
       "1                                      False   \n",
       "2                                      False   \n",
       "3                                      False   \n",
       "4                                      False   \n",
       "\n",
       "  0x76D4fFdA8c66864FA07f0a285B8E01E11b4Bb7b3  ... USD_VALUE MINTED_NFT VOTED   \n",
       "0                                      False  ...       0.0        1.0   1.0  \\\n",
       "1                                      False  ...       0.0        1.0   1.0   \n",
       "2                                      False  ...       0.0        0.0   1.0   \n",
       "3                                      False  ...       0.0        1.0   0.0   \n",
       "4                                      False  ...       0.0        1.0   1.0   \n",
       "\n",
       "  ARBITRUM_COUNTS OPTIMISM_COUNTS     id         score   rank   \n",
       "0           852.0          1073.0  44206  1.204615e-32  73917  \\\n",
       "1             0.0             0.0   7059  5.603351e-32  55999   \n",
       "2             0.0             0.0  54009  1.238152e-04    633   \n",
       "3             0.0             0.0  61990  4.146219e-08  12129   \n",
       "4             1.0             0.0  57006  3.785037e-36  96190   \n",
       "\n",
       "              handle  followersCount  \n",
       "0      lalalisa.lens               4  \n",
       "1         edaen.lens              11  \n",
       "2        tincho.lens             183  \n",
       "3        levodd.lens              49  \n",
       "4  kamilmouthon.lens               3  \n",
       "\n",
       "[5 rows x 323 columns]"
      ]
     },
     "execution_count": 3,
     "metadata": {},
     "output_type": "execute_result"
    }
   ],
   "source": [
    "files = glob.glob(f'{savepath}/*')\n",
    "\n",
    "labels = pd.read_csv(f'{savepath}/karma_data.csv',index_col=0)\n",
    "\n",
    "\n",
    "address = pd.read_csv(f'{savepath}/address',index_col=0)\n",
    "address = address.drop({'block_timestamp'},axis=1)#.join( ((pd.to_datetime('2023-04-15',utc=True) - pd.to_datetime(address['block_timestamp'])).dt.total_seconds()/60/24).round(0))\n",
    "address = address.drop({'metadata_block_timestamp'},axis=1)#.join( ((pd.to_datetime('2023-04-15',utc=True) - pd.to_datetime(address['metadata_block_timestamp'])).dt.total_seconds()/60/24).round(0))\n",
    "\n",
    "address = address.rename({'block_timestamp':'days_since_profile_created', 'metadata_block_timestamp':'days_since_metadata_changed'},axis=1)\n",
    "\n",
    "\n",
    "\n",
    "dispatcher = pd.read_csv(f'{savepath}/dispatcher_data',index_col=0)\n",
    "dispatcher = dispatcher.drop(['profile_dispatcher_address','dispatcher_setup_timestamp'],axis=1).join(pd.get_dummies(dispatcher['profile_dispatcher_address'])).join( ((pd.to_datetime('2023-04-15',utc=True) - pd.to_datetime(dispatcher['dispatcher_setup_timestamp'])).dt.total_seconds()/60/24).round(0))\n",
    "dispatcher = dispatcher.rename({'dispatcher_setup_timestamp':'days_since_dispatcher_changed'},axis=1)\n",
    "\n",
    "profile_data = pd.merge(dispatcher,address, on='profile_id', how='outer')\n",
    "\n",
    "\n",
    "worldcoin_human = pd.read_csv(f'{savepath}/worldcoin_human_check',index_col=0)\n",
    "worldcoin_human['worldcoin_human']=True\n",
    "profile_data = pd.merge(profile_data,worldcoin_human, on='profile_id', how='outer')\n",
    "\n",
    "aggregated_stats = pd.read_csv(f'{savepath}/aggregated_stats',index_col=0)\n",
    "profile_data = pd.merge(profile_data,aggregated_stats, on='profile_id', how='outer')\n",
    "\n",
    "\n",
    "\n",
    "def read_insight_data(profile_data, name, group_col='profile_id'):\n",
    "    profile_data.copy()\n",
    "    df = pd.read_csv(f'{savepath}/{name}',index_col=0)\n",
    "    df.columns = [f'{i}_{name}' for i in df.columns]\n",
    "    profile_data = pd.merge(profile_data,df, left_on=group_col,right_index=True, how='outer')\n",
    "    return profile_data\n",
    "\n",
    "profile_data = read_insight_data(profile_data, name='post_data_insights')\n",
    "\n",
    "profile_data = read_insight_data(profile_data, name='comment_data_insights')\n",
    "\n",
    "profile_data = read_insight_data(profile_data, name='mirror_data_insights')\n",
    "\n",
    "profile_data = read_insight_data(profile_data, name='like_data_insights')\n",
    "\n",
    "\n",
    "most_used_app = pd.read_csv(f'{savepath}/most_used_app',index_col=0)\n",
    "most_used_app = most_used_app.join(pd.get_dummies(most_used_app[['app_id_highest_posts','app_id_highest_comments']])).drop(['app_id_highest_posts','app_id_highest_comments'],axis=1)\n",
    "profile_data = pd.merge(profile_data,most_used_app, on='profile_id', how='outer')\n",
    "\n",
    "\n",
    "ens_address = pd.read_csv(f'{savepath}/ens_address',index_col=0)\n",
    "ens_address['ens']=True\n",
    "\n",
    "proof_of_humanity = pd.read_csv(f'{savepath}/proof_of_humanity',index_col=0)\n",
    "proof_of_humanity['proof_of_humanity']=True\n",
    "\n",
    "sybil_dot_org_address_verified_twitter = pd.read_csv(f'{savepath}/sybil_dot_org_address_verified_twitter',index_col=0)\n",
    "sybil_dot_org_address_verified_twitter['sybil_dot_org_address_verified_twitter']=True\n",
    "\n",
    "address_data = pd.merge(ens_address,proof_of_humanity, on='address',how='outer')\n",
    "address_data = pd.merge(address_data,sybil_dot_org_address_verified_twitter, on='address',how='outer')\n",
    "\n",
    "address_data = read_insight_data(address_data, name='collect_data_insights',group_col='address')\n",
    "\n",
    "address_data = read_insight_data(address_data, name='paid_collect_data_insights',group_col='address')\n",
    "\n",
    "flipside = pd.read_csv(f'{savepath}/flipside_100k.csv').fillna(0)\n",
    "address_data['ADDRESS'] = address_data['address'].str.lower()\n",
    "address_data = address_data.merge(flipside,on='ADDRESS',how='right').drop('ADDRESS',axis=1)\n",
    "\n",
    "data = profile_data.merge(address_data,on='address',how='inner').drop('address',axis=1)\n",
    "\n",
    "\n",
    "\n",
    "\n",
    "\n",
    "def intify(x):\n",
    "    return int(x,16)\n",
    "\n",
    "\n",
    "\n",
    "data = data.dropna(subset=['profile_id'])\n",
    "data['id'] = data['profile_id'].apply(intify)\n",
    "data = data.set_index('profile_id')\n",
    "\n",
    "data = data.merge(labels,on='id',how='inner')\n",
    "data = data.fillna(-1)\n",
    "data.head()"
   ]
  },
  {
   "cell_type": "code",
   "execution_count": 102,
   "id": "c55c740b-3d0c-468e-9bc3-395d6cea3dec",
   "metadata": {
    "tags": []
   },
   "outputs": [],
   "source": [
    "a = [i for i in validation_data.columns if i.startswith('app_id_highest')]\n",
    "drop_these = [i for i in a if i not in [\n",
    " 'app_id_highest_posts_beats',\n",
    " 'app_id_highest_posts_buttrfly',\n",
    " 'app_id_highest_posts_chainjet',\n",
    " 'app_id_highest_posts_memester',\n",
    " 'app_id_highest_posts_lensport',\n",
    " 'app_id_highest_posts_lensta',\n",
    " 'app_id_highest_posts_lenster',\n",
    " 'app_id_highest_posts_lenstube',\n",
    " 'app_id_highest_posts_lenstube-bytes',\n",
    " 'app_id_highest_posts_phaver',\n",
    " 'app_id_highest_posts_orb',\n",
    "    \n",
    " 'app_id_highest_comments_beats',\n",
    " 'app_id_highest_comments_buttrfly',\n",
    " 'app_id_highest_comments_chainjet',\n",
    " 'app_id_highest_comments_memester',\n",
    " 'app_id_highest_comments_lensport',\n",
    " 'app_id_highest_comments_lensta',\n",
    " 'app_id_highest_comments_lenster',\n",
    " 'app_id_highest_comments_lenstube',\n",
    " 'app_id_highest_comments_lenstube-bytes',\n",
    " 'app_id_highest_comments_phaver',\n",
    " 'app_id_highest_comments_orb'\n",
    "]]"
   ]
  },
  {
   "cell_type": "code",
   "execution_count": 112,
   "id": "c606dfbb-e34d-473e-8fbb-edb4b51388b7",
   "metadata": {
    "tags": []
   },
   "outputs": [],
   "source": [
    "for i in drop_these:\n",
    "    if i in data.columns:\n",
    "        data =  data.drop(i,axis=1)\n",
    "bad = data.dropna(subset=['rank','total_mirrors']).query('total_mirrors>100').sort_values(by='rank').tail(500).drop(labels.columns,axis=1)\n",
    "good = pd.concat([data.sort_values(by='rank').head(1500).drop(labels.columns,axis=1), data[data['worldcoin_human']==True].drop(labels.columns,axis=1)],axis=0).copy()\n",
    "bad['label'] = 0\n",
    "good['label'] = 1\n",
    "\n",
    "training_data = pd.concat([bad,good],axis=0)\n",
    "validation_data = data.drop(training_data.index).drop(labels.columns,axis=1)\n",
    "training_data = get_dtypes(training_data)\n",
    "validation_data = get_dtypes(validation_data)\n"
   ]
  },
  {
   "cell_type": "code",
   "execution_count": 113,
   "id": "13336cf0-3a7f-4f10-a188-3e618d18948e",
   "metadata": {
    "tags": []
   },
   "outputs": [],
   "source": [
    "X_train, X_test, y_train, y_test = train_test_split(training_data.drop('label',axis=1), training_data['label'], test_size=0.2, random_state=42)"
   ]
  },
  {
   "cell_type": "code",
   "execution_count": 114,
   "id": "12b8c387-e351-4000-a0b5-3fe55e2f0f42",
   "metadata": {
    "tags": []
   },
   "outputs": [
    {
     "data": {
      "text/plain": [
       "(1635, 202)"
      ]
     },
     "execution_count": 114,
     "metadata": {},
     "output_type": "execute_result"
    }
   ],
   "source": [
    "mc = MinMaxScaler()\n",
    "X_train.shape"
   ]
  },
  {
   "cell_type": "code",
   "execution_count": 115,
   "id": "c02d5417-6691-4ad0-bba2-9100e0e9b254",
   "metadata": {
    "tags": []
   },
   "outputs": [
    {
     "data": {
      "text/plain": [
       "(78878, 207)"
      ]
     },
     "execution_count": 115,
     "metadata": {},
     "output_type": "execute_result"
    }
   ],
   "source": [
    "data.shape"
   ]
  },
  {
   "cell_type": "code",
   "execution_count": 116,
   "id": "7f9e824c-7c55-49af-8629-5eddf567e21f",
   "metadata": {
    "tags": []
   },
   "outputs": [
    {
     "name": "stderr",
     "output_type": "stream",
     "text": [
      "/Users/kimmo/anaconda3/envs/lens-bot-or-not/lib/python3.10/site-packages/pytorch_tabnet/abstract_model.py:75: UserWarning: Device used : cpu\n",
      "  warnings.warn(f\"Device used : {self.device}\")\n"
     ]
    }
   ],
   "source": [
    "\n",
    "# TabNetPretrainer\n",
    "unsupervised_model = TabNetPretrainer(\n",
    "    optimizer_fn=torch.optim.Adam,\n",
    "    optimizer_params=dict(lr=2e-3),\n",
    "    mask_type='entmax', # \"sparsemax\",\n",
    "    n_shared_decoder=1, # nb shared glu for decoding\n",
    "    n_indep_decoder=1, # nb independent glu for decoding\n",
    "#     grouped_features=[[0, 1]], # you can group features together here\n",
    "    verbose=5,\n",
    ")"
   ]
  },
  {
   "cell_type": "code",
   "execution_count": 129,
   "id": "826f2fc0-d7ed-4ec5-a060-687fe4d67f5a",
   "metadata": {
    "tags": []
   },
   "outputs": [
    {
     "name": "stdout",
     "output_type": "stream",
     "text": [
      "epoch 0  | loss: 102008993.31064| val_0_unsup_loss_numpy: 4.303850173950195|  0:00:08s\n",
      "epoch 5  | loss: 28620.44505| val_0_unsup_loss_numpy: 1.5203100442886353|  0:00:50s\n",
      "epoch 10 | loss: 15965.4472| val_0_unsup_loss_numpy: 0.8753600120544434|  0:01:31s\n",
      "epoch 15 | loss: 11869.50371| val_0_unsup_loss_numpy: 0.8433300256729126|  0:02:12s\n",
      "epoch 20 | loss: 2813.03336| val_0_unsup_loss_numpy: 0.8568900227546692|  0:02:53s\n",
      "epoch 25 | loss: 2963.43214| val_0_unsup_loss_numpy: 0.7749999761581421|  0:03:35s\n",
      "epoch 30 | loss: 1306.32712| val_0_unsup_loss_numpy: 0.7670599818229675|  0:04:15s\n",
      "epoch 35 | loss: 1897.403| val_0_unsup_loss_numpy: 6903.8818359375|  0:04:57s\n",
      "epoch 40 | loss: 504.62604| val_0_unsup_loss_numpy: 0.7462700009346008|  0:05:46s\n",
      "epoch 45 | loss: 3405.3087| val_0_unsup_loss_numpy: 0.734279990196228|  0:06:31s\n",
      "epoch 50 | loss: 418.84023| val_0_unsup_loss_numpy: 0.7524200081825256|  0:07:20s\n",
      "epoch 55 | loss: 2851.05633| val_0_unsup_loss_numpy: 0.7307900190353394|  0:08:07s\n",
      "epoch 60 | loss: 1407.40093| val_0_unsup_loss_numpy: 0.7843599915504456|  0:08:56s\n",
      "\n",
      "Early stopping occurred at epoch 64 with best_epoch = 54 and best_val_0_unsup_loss_numpy = 0.7200000286102295\n"
     ]
    },
    {
     "name": "stderr",
     "output_type": "stream",
     "text": [
      "/Users/kimmo/anaconda3/envs/lens-bot-or-not/lib/python3.10/site-packages/pytorch_tabnet/callbacks.py:172: UserWarning: Best weights from best epoch are automatically used!\n",
      "  warnings.warn(wrn_msg)\n"
     ]
    }
   ],
   "source": [
    "max_epochs=1000\n",
    "unsupervised_model.fit(\n",
    "     eval_set=[mc.fit_transform(training_data.drop('label',axis=1).values)],\n",
    "     X_train=mc.transform(validation_data.values),\n",
    "    max_epochs=max_epochs , patience=10,\n",
    "    batch_size=256, virtual_batch_size=128,\n",
    "    num_workers=0,\n",
    "    drop_last=True,\n",
    "    pretraining_ratio=0.9,\n",
    ") "
   ]
  },
  {
   "cell_type": "code",
   "execution_count": 130,
   "id": "a895a9f6-4aba-4141-9e47-dfa71e87cca6",
   "metadata": {
    "tags": []
   },
   "outputs": [
    {
     "name": "stderr",
     "output_type": "stream",
     "text": [
      "/Users/kimmo/anaconda3/envs/lens-bot-or-not/lib/python3.10/site-packages/pytorch_tabnet/abstract_model.py:75: UserWarning: Device used : cpu\n",
      "  warnings.warn(f\"Device used : {self.device}\")\n"
     ]
    }
   ],
   "source": [
    "clf = TabNetClassifier(optimizer_fn=torch.optim.Adam,\n",
    "                       optimizer_params=dict(lr=1e-3),\n",
    "                       scheduler_params={\"step_size\":10, # how to use learning rate scheduler\n",
    "                                         \"gamma\":0.9},\n",
    "                       scheduler_fn=torch.optim.lr_scheduler.StepLR,\n",
    "                       mask_type='sparsemax', # This will be overwritten if using pretrain model\n",
    "                       verbose=5,\n",
    "                      )"
   ]
  },
  {
   "cell_type": "code",
   "execution_count": 131,
   "id": "1866aa8f-8021-49aa-8457-c2c785227ce1",
   "metadata": {
    "tags": []
   },
   "outputs": [
    {
     "name": "stderr",
     "output_type": "stream",
     "text": [
      "/Users/kimmo/anaconda3/envs/lens-bot-or-not/lib/python3.10/site-packages/pytorch_tabnet/abstract_model.py:231: UserWarning: Loading weights from unsupervised pretraining\n",
      "  warnings.warn(\"Loading weights from unsupervised pretraining\")\n"
     ]
    },
    {
     "name": "stdout",
     "output_type": "stream",
     "text": [
      "epoch 0  | loss: 6.80239 | train_logloss: 3.07211 | valid_logloss: 3.3483  |  0:00:00s\n",
      "epoch 5  | loss: 3.58923 | train_logloss: 1.88562 | valid_logloss: 1.9986  |  0:00:03s\n",
      "epoch 10 | loss: 1.84685 | train_logloss: 1.15392 | valid_logloss: 1.1611  |  0:00:06s\n",
      "epoch 15 | loss: 0.94358 | train_logloss: 0.73908 | valid_logloss: 0.75476 |  0:00:09s\n",
      "epoch 20 | loss: 0.78541 | train_logloss: 0.74016 | valid_logloss: 0.77044 |  0:00:12s\n",
      "epoch 25 | loss: 0.71294 | train_logloss: 0.70286 | valid_logloss: 0.74294 |  0:00:15s\n",
      "epoch 30 | loss: 0.66164 | train_logloss: 0.6656  | valid_logloss: 0.67956 |  0:00:18s\n",
      "epoch 35 | loss: 0.65654 | train_logloss: 0.68952 | valid_logloss: 0.6891  |  0:00:21s\n",
      "\n",
      "Early stopping occurred at epoch 39 with best_epoch = 34 and best_valid_logloss = 0.63706\n"
     ]
    },
    {
     "name": "stderr",
     "output_type": "stream",
     "text": [
      "/Users/kimmo/anaconda3/envs/lens-bot-or-not/lib/python3.10/site-packages/pytorch_tabnet/callbacks.py:172: UserWarning: Best weights from best epoch are automatically used!\n",
      "  warnings.warn(wrn_msg)\n"
     ]
    }
   ],
   "source": [
    "clf.fit(\n",
    "    X_train=mc.fit_transform(X_train.values), y_train=y_train.values,\n",
    "    eval_set=[(mc.transform(X_train.values), y_train.values), (mc.transform(X_test.values), y_test.values)],\n",
    "    eval_name=['train', 'valid'],\n",
    "    eval_metric=['logloss'],\n",
    "    max_epochs=max_epochs , patience=5,\n",
    "    batch_size=128, virtual_batch_size=36,\n",
    "    num_workers=0,\n",
    "    weights=1,\n",
    "    drop_last=False,\n",
    "    from_unsupervised=unsupervised_model,\n",
    "    \n",
    ") "
   ]
  },
  {
   "cell_type": "code",
   "execution_count": 132,
   "id": "7a98c035-a30d-4183-b51a-cb6b92fc713e",
   "metadata": {
    "tags": []
   },
   "outputs": [],
   "source": [
    "from sklearn.metrics import roc_auc_score\n"
   ]
  },
  {
   "cell_type": "code",
   "execution_count": 133,
   "id": "0d310845-3156-4999-8b46-7f9ecfaac4f0",
   "metadata": {
    "tags": []
   },
   "outputs": [
    {
     "name": "stdout",
     "output_type": "stream",
     "text": [
      "BEST VALID SCORE : 0.637058733239961\n"
     ]
    }
   ],
   "source": [
    "preds = clf.predict_proba(mc.transform(validation_data.values))\n",
    "# test_auc = roc_auc_score(y_score=preds[:,1], y_true=y_test)\n",
    "\n",
    "\n",
    "preds_valid = clf.predict_proba(mc.transform(X_test.values))\n",
    "valid_auc = roc_auc_score(y_score=preds_valid[:,1], y_true=y_test)\n",
    "\n",
    "print(f\"BEST VALID SCORE : {clf.best_cost}\")\n",
    "#print(f\"FINAL TEST SCORE FOR {dataset_name} : {test_auc}\")"
   ]
  },
  {
   "cell_type": "code",
   "execution_count": 134,
   "id": "d9ee1d89-2032-46de-8e29-cc37951b0cd6",
   "metadata": {
    "tags": []
   },
   "outputs": [
    {
     "data": {
      "text/plain": [
       "1    38547\n",
       "0    38300\n",
       "Name: count, dtype: int64"
      ]
     },
     "execution_count": 134,
     "metadata": {},
     "output_type": "execute_result"
    }
   ],
   "source": [
    "pd.Series(preds.argmax(1)).value_counts()"
   ]
  },
  {
   "cell_type": "code",
   "execution_count": 135,
   "id": "650944be-01a7-4e02-9d67-c67d1c635192",
   "metadata": {
    "tags": []
   },
   "outputs": [
    {
     "data": {
      "text/plain": [
       "<Axes: xlabel='rank', ylabel='label'>"
      ]
     },
     "execution_count": 135,
     "metadata": {},
     "output_type": "execute_result"
    },
    {
     "data": {
      "image/png": "[encoded data removed]",
      "text/plain": [
       "<Figure size 640x480 with 1 Axes>"
      ]
     },
     "metadata": {},
     "output_type": "display_data"
    }
   ],
   "source": [
    "pd.Series(preds.argmax(1),name='label',index=validation_data.index).to_frame().join(data[labels.columns]).plot.scatter(x='rank',y='label',alpha=0.01,s=0.1)"
   ]
  },
  {
   "cell_type": "code",
   "execution_count": null,
   "id": "29792c63-259c-4886-8ce0-94ec0fec0772",
   "metadata": {},
   "outputs": [],
   "source": []
  },
  {
   "cell_type": "code",
   "execution_count": 136,
   "id": "313fcd78-26d9-4f8f-9a01-b9e9938d2a7b",
   "metadata": {
    "tags": []
   },
   "outputs": [
    {
     "data": {
      "text/html": [
       "<div>\n",
       "<style scoped>\n",
       "    .dataframe tbody tr th:only-of-type {\n",
       "        vertical-align: middle;\n",
       "    }\n",
       "\n",
       "    .dataframe tbody tr th {\n",
       "        vertical-align: top;\n",
       "    }\n",
       "\n",
       "    .dataframe thead th {\n",
       "        text-align: right;\n",
       "    }\n",
       "</style>\n",
       "<table border=\"1\" class=\"dataframe\">\n",
       "  <thead>\n",
       "    <tr style=\"text-align: right;\">\n",
       "      <th></th>\n",
       "      <th>label</th>\n",
       "      <th>score</th>\n",
       "      <th>rank</th>\n",
       "      <th>handle</th>\n",
       "      <th>followersCount</th>\n",
       "      <th>id</th>\n",
       "    </tr>\n",
       "  </thead>\n",
       "  <tbody>\n",
       "    <tr>\n",
       "      <th>10</th>\n",
       "      <td>0</td>\n",
       "      <td>2.215395e-10</td>\n",
       "      <td>32495</td>\n",
       "      <td>kacoma.lens</td>\n",
       "      <td>168</td>\n",
       "      <td>34655</td>\n",
       "    </tr>\n",
       "    <tr>\n",
       "      <th>12</th>\n",
       "      <td>1</td>\n",
       "      <td>7.014934e-08</td>\n",
       "      <td>10222</td>\n",
       "      <td>nbarokkets.lens</td>\n",
       "      <td>349</td>\n",
       "      <td>96010</td>\n",
       "    </tr>\n",
       "    <tr>\n",
       "      <th>13</th>\n",
       "      <td>1</td>\n",
       "      <td>1.755693e-07</td>\n",
       "      <td>7351</td>\n",
       "      <td>0x021.lens</td>\n",
       "      <td>451</td>\n",
       "      <td>64952</td>\n",
       "    </tr>\n",
       "    <tr>\n",
       "      <th>14</th>\n",
       "      <td>1</td>\n",
       "      <td>7.166682e-09</td>\n",
       "      <td>19856</td>\n",
       "      <td>cryptorg.lens</td>\n",
       "      <td>123</td>\n",
       "      <td>21087</td>\n",
       "    </tr>\n",
       "    <tr>\n",
       "      <th>15</th>\n",
       "      <td>1</td>\n",
       "      <td>1.157505e-08</td>\n",
       "      <td>17039</td>\n",
       "      <td>shitposting.lens</td>\n",
       "      <td>205</td>\n",
       "      <td>69471</td>\n",
       "    </tr>\n",
       "    <tr>\n",
       "      <th>...</th>\n",
       "      <td>...</td>\n",
       "      <td>...</td>\n",
       "      <td>...</td>\n",
       "      <td>...</td>\n",
       "      <td>...</td>\n",
       "      <td>...</td>\n",
       "    </tr>\n",
       "    <tr>\n",
       "      <th>78711</th>\n",
       "      <td>1</td>\n",
       "      <td>6.018760e-09</td>\n",
       "      <td>20578</td>\n",
       "      <td>biglittleant.lens</td>\n",
       "      <td>165</td>\n",
       "      <td>4693</td>\n",
       "    </tr>\n",
       "    <tr>\n",
       "      <th>78723</th>\n",
       "      <td>0</td>\n",
       "      <td>8.920118e-33</td>\n",
       "      <td>76003</td>\n",
       "      <td>zuiai.lens</td>\n",
       "      <td>202</td>\n",
       "      <td>52179</td>\n",
       "    </tr>\n",
       "    <tr>\n",
       "      <th>78743</th>\n",
       "      <td>1</td>\n",
       "      <td>1.534367e-10</td>\n",
       "      <td>33723</td>\n",
       "      <td>sassy.lens</td>\n",
       "      <td>368</td>\n",
       "      <td>12690</td>\n",
       "    </tr>\n",
       "    <tr>\n",
       "      <th>78745</th>\n",
       "      <td>0</td>\n",
       "      <td>1.068281e-06</td>\n",
       "      <td>4166</td>\n",
       "      <td>sassal.lens</td>\n",
       "      <td>887</td>\n",
       "      <td>13464</td>\n",
       "    </tr>\n",
       "    <tr>\n",
       "      <th>78816</th>\n",
       "      <td>1</td>\n",
       "      <td>8.655492e-07</td>\n",
       "      <td>4439</td>\n",
       "      <td>nnnicholas.lens</td>\n",
       "      <td>543</td>\n",
       "      <td>8865</td>\n",
       "    </tr>\n",
       "  </tbody>\n",
       "</table>\n",
       "<p>10532 rows × 6 columns</p>\n",
       "</div>"
      ],
      "text/plain": [
       "       label         score   rank             handle  followersCount     id\n",
       "10         0  2.215395e-10  32495        kacoma.lens             168  34655\n",
       "12         1  7.014934e-08  10222    nbarokkets.lens             349  96010\n",
       "13         1  1.755693e-07   7351         0x021.lens             451  64952\n",
       "14         1  7.166682e-09  19856      cryptorg.lens             123  21087\n",
       "15         1  1.157505e-08  17039   shitposting.lens             205  69471\n",
       "...      ...           ...    ...                ...             ...    ...\n",
       "78711      1  6.018760e-09  20578  biglittleant.lens             165   4693\n",
       "78723      0  8.920118e-33  76003         zuiai.lens             202  52179\n",
       "78743      1  1.534367e-10  33723         sassy.lens             368  12690\n",
       "78745      0  1.068281e-06   4166        sassal.lens             887  13464\n",
       "78816      1  8.655492e-07   4439    nnnicholas.lens             543   8865\n",
       "\n",
       "[10532 rows x 6 columns]"
      ]
     },
     "execution_count": 136,
     "metadata": {},
     "output_type": "execute_result"
    }
   ],
   "source": [
    "pd.Series(preds.argmax(1),name='label',index=validation_data.index).to_frame().join(data[labels.columns]).query('followersCount>100')"
   ]
  },
  {
   "cell_type": "code",
   "execution_count": 137,
   "id": "d471ffb5-9ff1-4a3d-9612-ea3fbdefcfff",
   "metadata": {
    "tags": []
   },
   "outputs": [
    {
     "name": "stderr",
     "output_type": "stream",
     "text": [
      "/var/folders/yt/6t964r9x3q51ryt05dfj1b3m0000gn/T/ipykernel_89547/3717420391.py:8: PerformanceWarning: \n",
      "your performance may suffer as PyTables will pickle object types that it cannot\n",
      "map directly to c-types [inferred_type->mixed-integer,key->block2_values] [items->Index(['handle'], dtype='object')]\n",
      "\n",
      "  results.to_hdf('data.hdf',key='df')\n"
     ]
    },
    {
     "data": {
      "image/png": "[encoded data removed]",
      "text/plain": [
       "<Figure size 640x480 with 1 Axes>"
      ]
     },
     "metadata": {},
     "output_type": "display_data"
    }
   ],
   "source": [
    "show_data = data.drop(labels.columns,axis=1)\n",
    "preds = clf.predict_proba(mc.transform(show_data.values))\n",
    "results = pd.Series(preds.argmax(1),\n",
    "                    name='label',\n",
    "                    index=show_data.index).to_frame().join(data[labels.columns])\n",
    "results.plot.scatter(x='rank',y='label',alpha=0.01,s=0.1)\n",
    "\n",
    "results.to_hdf('data.hdf',key='df')\n"
   ]
  },
  {
   "cell_type": "code",
   "execution_count": null,
   "id": "b801cfb1-3b8c-48f1-a5f5-e90309e3e90a",
   "metadata": {},
   "outputs": [],
   "source": []
  },
  {
   "cell_type": "code",
   "execution_count": 138,
   "id": "5bb12f04-acd7-4ef4-9753-790139851e5f",
   "metadata": {
    "tags": []
   },
   "outputs": [
    {
     "data": {
      "text/html": [
       "<div>\n",
       "<style scoped>\n",
       "    .dataframe tbody tr th:only-of-type {\n",
       "        vertical-align: middle;\n",
       "    }\n",
       "\n",
       "    .dataframe tbody tr th {\n",
       "        vertical-align: top;\n",
       "    }\n",
       "\n",
       "    .dataframe thead th {\n",
       "        text-align: right;\n",
       "    }\n",
       "</style>\n",
       "<table border=\"1\" class=\"dataframe\">\n",
       "  <thead>\n",
       "    <tr style=\"text-align: right;\">\n",
       "      <th></th>\n",
       "      <th>label</th>\n",
       "      <th>score</th>\n",
       "      <th>rank</th>\n",
       "      <th>handle</th>\n",
       "      <th>followersCount</th>\n",
       "      <th>id</th>\n",
       "    </tr>\n",
       "  </thead>\n",
       "  <tbody>\n",
       "    <tr>\n",
       "      <th>0</th>\n",
       "      <td>0</td>\n",
       "      <td>1.204615e-32</td>\n",
       "      <td>73917</td>\n",
       "      <td>lalalisa.lens</td>\n",
       "      <td>4</td>\n",
       "      <td>44206</td>\n",
       "    </tr>\n",
       "    <tr>\n",
       "      <th>1</th>\n",
       "      <td>0</td>\n",
       "      <td>5.603351e-32</td>\n",
       "      <td>55999</td>\n",
       "      <td>edaen.lens</td>\n",
       "      <td>11</td>\n",
       "      <td>7059</td>\n",
       "    </tr>\n",
       "    <tr>\n",
       "      <th>2</th>\n",
       "      <td>1</td>\n",
       "      <td>1.238152e-04</td>\n",
       "      <td>633</td>\n",
       "      <td>tincho.lens</td>\n",
       "      <td>183</td>\n",
       "      <td>54009</td>\n",
       "    </tr>\n",
       "    <tr>\n",
       "      <th>3</th>\n",
       "      <td>1</td>\n",
       "      <td>4.146219e-08</td>\n",
       "      <td>12129</td>\n",
       "      <td>levodd.lens</td>\n",
       "      <td>49</td>\n",
       "      <td>61990</td>\n",
       "    </tr>\n",
       "    <tr>\n",
       "      <th>4</th>\n",
       "      <td>0</td>\n",
       "      <td>3.785037e-36</td>\n",
       "      <td>96190</td>\n",
       "      <td>kamilmouthon.lens</td>\n",
       "      <td>3</td>\n",
       "      <td>57006</td>\n",
       "    </tr>\n",
       "  </tbody>\n",
       "</table>\n",
       "</div>"
      ],
      "text/plain": [
       "   label         score   rank             handle  followersCount     id\n",
       "0      0  1.204615e-32  73917      lalalisa.lens               4  44206\n",
       "1      0  5.603351e-32  55999         edaen.lens              11   7059\n",
       "2      1  1.238152e-04    633        tincho.lens             183  54009\n",
       "3      1  4.146219e-08  12129        levodd.lens              49  61990\n",
       "4      0  3.785037e-36  96190  kamilmouthon.lens               3  57006"
      ]
     },
     "execution_count": 138,
     "metadata": {},
     "output_type": "execute_result"
    }
   ],
   "source": [
    "results.head()"
   ]
  },
  {
   "cell_type": "code",
   "execution_count": null,
   "id": "6c075a1e-d039-44dd-96fd-d474012e0ed8",
   "metadata": {},
   "outputs": [],
   "source": []
  },
  {
   "cell_type": "code",
   "execution_count": null,
   "id": "1239db45-5cb0-4d91-935c-b39f4c897ee6",
   "metadata": {},
   "outputs": [],
   "source": []
  }
 ],
 "metadata": {
  "kernelspec": {
   "display_name": "Python 3 (ipykernel)",
   "language": "python",
   "name": "python3"
  },
  "language_info": {
   "codemirror_mode": {
    "name": "ipython",
    "version": 3
   },
   "file_extension": ".py",
   "mimetype": "text/x-python",
   "name": "python",
   "nbconvert_exporter": "python",
   "pygments_lexer": "ipython3",
   "version": "3.10.10"
  }
 },
 "nbformat": 4,
 "nbformat_minor": 5
}
