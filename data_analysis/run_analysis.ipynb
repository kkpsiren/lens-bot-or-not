{
 "cells": [
  {
   "cell_type": "code",
   "execution_count": 30,
   "id": "ce91d811-fbba-4990-a015-d43184543219",
   "metadata": {
    "tags": []
   },
   "outputs": [],
   "source": [
    "import pandas as pd\n",
    "import glob\n",
    "from sklearn.model_selection import train_test_split\n",
    "from pytorch_tabnet.tab_model import TabNetClassifier\n",
    "from pytorch_tabnet.pretraining import TabNetPretrainer\n",
    "from sklearn.preprocessing import MinMaxScaler\n",
    "import torch\n",
    "savepath = f\"data\""
   ]
  },
  {
   "cell_type": "code",
   "execution_count": null,
   "id": "3525a8d9-6b9a-459f-be7a-503b6f88bee6",
   "metadata": {},
   "outputs": [],
   "source": []
  },
  {
   "cell_type": "code",
   "execution_count": 2,
   "id": "6bed780f-9706-41b8-93cd-a56467a07957",
   "metadata": {
    "tags": []
   },
   "outputs": [],
   "source": [
    "def get_dtypes(data):\n",
    "    data[data.dtypes[data.dtypes=='object'].index] = data[data.dtypes[data.dtypes=='object'].index].fillna(-1).astype('int')\n",
    "    data[data.dtypes[data.dtypes=='bool'].index] = data[data.dtypes[data.dtypes=='bool'].index].fillna(-1).astype('int')\n",
    "\n",
    "    return data\n"
   ]
  },
  {
   "cell_type": "code",
   "execution_count": 3,
   "id": "ca0a86bf-ef36-4753-977c-64748743e3cc",
   "metadata": {
    "tags": []
   },
   "outputs": [
    {
     "data": {
      "text/html": [
       "<div>\n",
       "<style scoped>\n",
       "    .dataframe tbody tr th:only-of-type {\n",
       "        vertical-align: middle;\n",
       "    }\n",
       "\n",
       "    .dataframe tbody tr th {\n",
       "        vertical-align: top;\n",
       "    }\n",
       "\n",
       "    .dataframe thead th {\n",
       "        text-align: right;\n",
       "    }\n",
       "</style>\n",
       "<table border=\"1\" class=\"dataframe\">\n",
       "  <thead>\n",
       "    <tr style=\"text-align: right;\">\n",
       "      <th></th>\n",
       "      <th>0x112b57A293d99b79Fe360Af042bb3bfFc824Ab3a</th>\n",
       "      <th>0x25418Bcf53dAe1167cD5d0cad34Eec31C0C37E41</th>\n",
       "      <th>0x3530c7CAc2E47F27bA82a5d0D3671181171292DB</th>\n",
       "      <th>0x45F71328a415129CB25e3917e70f5BCA346C6151</th>\n",
       "      <th>0x46fAf146C4683663667af868dFc2F98ADc27fBd6</th>\n",
       "      <th>0x57B7bf6f792a6181Ec5aFB88cE7bcE330a9d1b67</th>\n",
       "      <th>0x62D0e168e35f87a1dB804C2b2daf63AE4D195cD1</th>\n",
       "      <th>0x6bC45934A408f7151093479bf59933cD3B75701d</th>\n",
       "      <th>0x761010EFc8826fFdcb8Ad005BD935698ed38DfE7</th>\n",
       "      <th>0x76D4fFdA8c66864FA07f0a285B8E01E11b4Bb7b3</th>\n",
       "      <th>...</th>\n",
       "      <th>USD_VALUE</th>\n",
       "      <th>MINTED_NFT</th>\n",
       "      <th>VOTED</th>\n",
       "      <th>ARBITRUM_COUNTS</th>\n",
       "      <th>OPTIMISM_COUNTS</th>\n",
       "      <th>id</th>\n",
       "      <th>score</th>\n",
       "      <th>rank</th>\n",
       "      <th>handle</th>\n",
       "      <th>followersCount</th>\n",
       "    </tr>\n",
       "  </thead>\n",
       "  <tbody>\n",
       "    <tr>\n",
       "      <th>0</th>\n",
       "      <td>False</td>\n",
       "      <td>False</td>\n",
       "      <td>False</td>\n",
       "      <td>True</td>\n",
       "      <td>False</td>\n",
       "      <td>False</td>\n",
       "      <td>False</td>\n",
       "      <td>False</td>\n",
       "      <td>False</td>\n",
       "      <td>False</td>\n",
       "      <td>...</td>\n",
       "      <td>0.0</td>\n",
       "      <td>1.0</td>\n",
       "      <td>1.0</td>\n",
       "      <td>852.0</td>\n",
       "      <td>1073.0</td>\n",
       "      <td>44206</td>\n",
       "      <td>1.204615e-32</td>\n",
       "      <td>73917</td>\n",
       "      <td>lalalisa.lens</td>\n",
       "      <td>4</td>\n",
       "    </tr>\n",
       "    <tr>\n",
       "      <th>1</th>\n",
       "      <td>False</td>\n",
       "      <td>False</td>\n",
       "      <td>False</td>\n",
       "      <td>False</td>\n",
       "      <td>False</td>\n",
       "      <td>False</td>\n",
       "      <td>True</td>\n",
       "      <td>False</td>\n",
       "      <td>False</td>\n",
       "      <td>False</td>\n",
       "      <td>...</td>\n",
       "      <td>0.0</td>\n",
       "      <td>1.0</td>\n",
       "      <td>1.0</td>\n",
       "      <td>0.0</td>\n",
       "      <td>0.0</td>\n",
       "      <td>7059</td>\n",
       "      <td>5.603351e-32</td>\n",
       "      <td>55999</td>\n",
       "      <td>edaen.lens</td>\n",
       "      <td>11</td>\n",
       "    </tr>\n",
       "    <tr>\n",
       "      <th>2</th>\n",
       "      <td>False</td>\n",
       "      <td>False</td>\n",
       "      <td>False</td>\n",
       "      <td>False</td>\n",
       "      <td>False</td>\n",
       "      <td>False</td>\n",
       "      <td>True</td>\n",
       "      <td>False</td>\n",
       "      <td>False</td>\n",
       "      <td>False</td>\n",
       "      <td>...</td>\n",
       "      <td>0.0</td>\n",
       "      <td>0.0</td>\n",
       "      <td>1.0</td>\n",
       "      <td>0.0</td>\n",
       "      <td>0.0</td>\n",
       "      <td>54009</td>\n",
       "      <td>1.238152e-04</td>\n",
       "      <td>633</td>\n",
       "      <td>tincho.lens</td>\n",
       "      <td>183</td>\n",
       "    </tr>\n",
       "    <tr>\n",
       "      <th>3</th>\n",
       "      <td>False</td>\n",
       "      <td>False</td>\n",
       "      <td>False</td>\n",
       "      <td>False</td>\n",
       "      <td>False</td>\n",
       "      <td>False</td>\n",
       "      <td>True</td>\n",
       "      <td>False</td>\n",
       "      <td>False</td>\n",
       "      <td>False</td>\n",
       "      <td>...</td>\n",
       "      <td>0.0</td>\n",
       "      <td>1.0</td>\n",
       "      <td>0.0</td>\n",
       "      <td>0.0</td>\n",
       "      <td>0.0</td>\n",
       "      <td>61990</td>\n",
       "      <td>4.146219e-08</td>\n",
       "      <td>12129</td>\n",
       "      <td>levodd.lens</td>\n",
       "      <td>49</td>\n",
       "    </tr>\n",
       "    <tr>\n",
       "      <th>4</th>\n",
       "      <td>False</td>\n",
       "      <td>False</td>\n",
       "      <td>False</td>\n",
       "      <td>True</td>\n",
       "      <td>False</td>\n",
       "      <td>False</td>\n",
       "      <td>False</td>\n",
       "      <td>False</td>\n",
       "      <td>False</td>\n",
       "      <td>False</td>\n",
       "      <td>...</td>\n",
       "      <td>0.0</td>\n",
       "      <td>1.0</td>\n",
       "      <td>1.0</td>\n",
       "      <td>1.0</td>\n",
       "      <td>0.0</td>\n",
       "      <td>57006</td>\n",
       "      <td>3.785037e-36</td>\n",
       "      <td>96190</td>\n",
       "      <td>kamilmouthon.lens</td>\n",
       "      <td>3</td>\n",
       "    </tr>\n",
       "  </tbody>\n",
       "</table>\n",
       "<p>5 rows × 323 columns</p>\n",
       "</div>"
      ],
      "text/plain": [
       "  0x112b57A293d99b79Fe360Af042bb3bfFc824Ab3a   \n",
       "0                                      False  \\\n",
       "1                                      False   \n",
       "2                                      False   \n",
       "3                                      False   \n",
       "4                                      False   \n",
       "\n",
       "  0x25418Bcf53dAe1167cD5d0cad34Eec31C0C37E41   \n",
       "0                                      False  \\\n",
       "1                                      False   \n",
       "2                                      False   \n",
       "3                                      False   \n",
       "4                                      False   \n",
       "\n",
       "  0x3530c7CAc2E47F27bA82a5d0D3671181171292DB   \n",
       "0                                      False  \\\n",
       "1                                      False   \n",
       "2                                      False   \n",
       "3                                      False   \n",
       "4                                      False   \n",
       "\n",
       "  0x45F71328a415129CB25e3917e70f5BCA346C6151   \n",
       "0                                       True  \\\n",
       "1                                      False   \n",
       "2                                      False   \n",
       "3                                      False   \n",
       "4                                       True   \n",
       "\n",
       "  0x46fAf146C4683663667af868dFc2F98ADc27fBd6   \n",
       "0                                      False  \\\n",
       "1                                      False   \n",
       "2                                      False   \n",
       "3                                      False   \n",
       "4                                      False   \n",
       "\n",
       "  0x57B7bf6f792a6181Ec5aFB88cE7bcE330a9d1b67   \n",
       "0                                      False  \\\n",
       "1                                      False   \n",
       "2                                      False   \n",
       "3                                      False   \n",
       "4                                      False   \n",
       "\n",
       "  0x62D0e168e35f87a1dB804C2b2daf63AE4D195cD1   \n",
       "0                                      False  \\\n",
       "1                                       True   \n",
       "2                                       True   \n",
       "3                                       True   \n",
       "4                                      False   \n",
       "\n",
       "  0x6bC45934A408f7151093479bf59933cD3B75701d   \n",
       "0                                      False  \\\n",
       "1                                      False   \n",
       "2                                      False   \n",
       "3                                      False   \n",
       "4                                      False   \n",
       "\n",
       "  0x761010EFc8826fFdcb8Ad005BD935698ed38DfE7   \n",
       "0                                      False  \\\n",
       "1                                      False   \n",
       "2                                      False   \n",
       "3                                      False   \n",
       "4                                      False   \n",
       "\n",
       "  0x76D4fFdA8c66864FA07f0a285B8E01E11b4Bb7b3  ... USD_VALUE MINTED_NFT VOTED   \n",
       "0                                      False  ...       0.0        1.0   1.0  \\\n",
       "1                                      False  ...       0.0        1.0   1.0   \n",
       "2                                      False  ...       0.0        0.0   1.0   \n",
       "3                                      False  ...       0.0        1.0   0.0   \n",
       "4                                      False  ...       0.0        1.0   1.0   \n",
       "\n",
       "  ARBITRUM_COUNTS OPTIMISM_COUNTS     id         score   rank   \n",
       "0           852.0          1073.0  44206  1.204615e-32  73917  \\\n",
       "1             0.0             0.0   7059  5.603351e-32  55999   \n",
       "2             0.0             0.0  54009  1.238152e-04    633   \n",
       "3             0.0             0.0  61990  4.146219e-08  12129   \n",
       "4             1.0             0.0  57006  3.785037e-36  96190   \n",
       "\n",
       "              handle  followersCount  \n",
       "0      lalalisa.lens               4  \n",
       "1         edaen.lens              11  \n",
       "2        tincho.lens             183  \n",
       "3        levodd.lens              49  \n",
       "4  kamilmouthon.lens               3  \n",
       "\n",
       "[5 rows x 323 columns]"
      ]
     },
     "execution_count": 3,
     "metadata": {},
     "output_type": "execute_result"
    }
   ],
   "source": [
    "files = glob.glob(f'{savepath}/*')\n",
    "\n",
    "labels = pd.read_csv(f'{savepath}/karma_data.csv',index_col=0)\n",
    "\n",
    "\n",
    "address = pd.read_csv(f'{savepath}/address',index_col=0)\n",
    "address = address.drop({'block_timestamp'},axis=1)#.join( ((pd.to_datetime('2023-04-15',utc=True) - pd.to_datetime(address['block_timestamp'])).dt.total_seconds()/60/24).round(0))\n",
    "address = address.drop({'metadata_block_timestamp'},axis=1)#.join( ((pd.to_datetime('2023-04-15',utc=True) - pd.to_datetime(address['metadata_block_timestamp'])).dt.total_seconds()/60/24).round(0))\n",
    "\n",
    "address = address.rename({'block_timestamp':'days_since_profile_created', 'metadata_block_timestamp':'days_since_metadata_changed'},axis=1)\n",
    "\n",
    "\n",
    "\n",
    "dispatcher = pd.read_csv(f'{savepath}/dispatcher_data',index_col=0)\n",
    "dispatcher = dispatcher.drop(['profile_dispatcher_address','dispatcher_setup_timestamp'],axis=1).join(pd.get_dummies(dispatcher['profile_dispatcher_address'])).join( ((pd.to_datetime('2023-04-15',utc=True) - pd.to_datetime(dispatcher['dispatcher_setup_timestamp'])).dt.total_seconds()/60/24).round(0))\n",
    "dispatcher = dispatcher.rename({'dispatcher_setup_timestamp':'days_since_dispatcher_changed'},axis=1)\n",
    "\n",
    "profile_data = pd.merge(dispatcher,address, on='profile_id', how='outer')\n",
    "\n",
    "\n",
    "worldcoin_human = pd.read_csv(f'{savepath}/worldcoin_human_check',index_col=0)\n",
    "worldcoin_human['worldcoin_human']=True\n",
    "profile_data = pd.merge(profile_data,worldcoin_human, on='profile_id', how='outer')\n",
    "\n",
    "aggregated_stats = pd.read_csv(f'{savepath}/aggregated_stats',index_col=0)\n",
    "profile_data = pd.merge(profile_data,aggregated_stats, on='profile_id', how='outer')\n",
    "\n",
    "\n",
    "\n",
    "def read_insight_data(profile_data, name, group_col='profile_id'):\n",
    "    profile_data.copy()\n",
    "    df = pd.read_csv(f'{savepath}/{name}',index_col=0)\n",
    "    df.columns = [f'{i}_{name}' for i in df.columns]\n",
    "    profile_data = pd.merge(profile_data,df, left_on=group_col,right_index=True, how='outer')\n",
    "    return profile_data\n",
    "\n",
    "profile_data = read_insight_data(profile_data, name='post_data_insights')\n",
    "\n",
    "profile_data = read_insight_data(profile_data, name='comment_data_insights')\n",
    "\n",
    "profile_data = read_insight_data(profile_data, name='mirror_data_insights')\n",
    "\n",
    "profile_data = read_insight_data(profile_data, name='like_data_insights')\n",
    "\n",
    "\n",
    "most_used_app = pd.read_csv(f'{savepath}/most_used_app',index_col=0)\n",
    "most_used_app = most_used_app.join(pd.get_dummies(most_used_app[['app_id_highest_posts','app_id_highest_comments']])).drop(['app_id_highest_posts','app_id_highest_comments'],axis=1)\n",
    "profile_data = pd.merge(profile_data,most_used_app, on='profile_id', how='outer')\n",
    "\n",
    "\n",
    "ens_address = pd.read_csv(f'{savepath}/ens_address',index_col=0)\n",
    "ens_address['ens']=True\n",
    "\n",
    "proof_of_humanity = pd.read_csv(f'{savepath}/proof_of_humanity',index_col=0)\n",
    "proof_of_humanity['proof_of_humanity']=True\n",
    "\n",
    "sybil_dot_org_address_verified_twitter = pd.read_csv(f'{savepath}/sybil_dot_org_address_verified_twitter',index_col=0)\n",
    "sybil_dot_org_address_verified_twitter['sybil_dot_org_address_verified_twitter']=True\n",
    "\n",
    "address_data = pd.merge(ens_address,proof_of_humanity, on='address',how='outer')\n",
    "address_data = pd.merge(address_data,sybil_dot_org_address_verified_twitter, on='address',how='outer')\n",
    "\n",
    "address_data = read_insight_data(address_data, name='collect_data_insights',group_col='address')\n",
    "\n",
    "address_data = read_insight_data(address_data, name='paid_collect_data_insights',group_col='address')\n",
    "\n",
    "flipside = pd.read_csv(f'{savepath}/flipside_100k.csv').fillna(0)\n",
    "address_data['ADDRESS'] = address_data['address'].str.lower()\n",
    "address_data = address_data.merge(flipside,on='ADDRESS',how='right').drop('ADDRESS',axis=1)\n",
    "\n",
    "data = profile_data.merge(address_data,on='address',how='inner').drop('address',axis=1)\n",
    "\n",
    "\n",
    "\n",
    "\n",
    "\n",
    "def intify(x):\n",
    "    return int(x,16)\n",
    "\n",
    "\n",
    "\n",
    "data = data.dropna(subset=['profile_id'])\n",
    "data['id'] = data['profile_id'].apply(intify)\n",
    "data = data.set_index('profile_id')\n",
    "\n",
    "data = data.merge(labels,on='id',how='inner')\n",
    "data = data.fillna(-1)\n",
    "data.head()"
   ]
  },
  {
   "cell_type": "code",
   "execution_count": 74,
   "id": "c606dfbb-e34d-473e-8fbb-edb4b51388b7",
   "metadata": {
    "tags": []
   },
   "outputs": [],
   "source": [
    "bad = data.dropna(subset=['rank','total_mirrors']).query('total_mirrors>100').sort_values(by='rank').tail(500).drop(labels.columns,axis=1)\n",
    "good = pd.concat([data.sort_values(by='rank').head(1500).drop(labels.columns,axis=1), data[data['worldcoin_human']==True].drop(labels.columns,axis=1)],axis=0).copy()\n",
    "bad['label'] = 0\n",
    "good['label'] = 1\n",
    "\n",
    "training_data = pd.concat([bad,good],axis=0)\n",
    "validation_data = data.drop(training_data.index).drop(labels.columns,axis=1)\n",
    "training_data = get_dtypes(training_data)\n",
    "validation_data = get_dtypes(validation_data)\n"
   ]
  },
  {
   "cell_type": "code",
   "execution_count": 75,
   "id": "13336cf0-3a7f-4f10-a188-3e618d18948e",
   "metadata": {
    "tags": []
   },
   "outputs": [],
   "source": [
    "X_train, X_test, y_train, y_test = train_test_split(training_data.drop('label',axis=1), training_data['label'], test_size=0.2, random_state=42)"
   ]
  },
  {
   "cell_type": "code",
   "execution_count": 76,
   "id": "12b8c387-e351-4000-a0b5-3fe55e2f0f42",
   "metadata": {
    "tags": []
   },
   "outputs": [
    {
     "data": {
      "text/plain": [
       "(1635, 318)"
      ]
     },
     "execution_count": 76,
     "metadata": {},
     "output_type": "execute_result"
    }
   ],
   "source": [
    "mc = MinMaxScaler()\n",
    "X_train.shape"
   ]
  },
  {
   "cell_type": "code",
   "execution_count": 77,
   "id": "c02d5417-6691-4ad0-bba2-9100e0e9b254",
   "metadata": {
    "tags": []
   },
   "outputs": [
    {
     "data": {
      "text/plain": [
       "(78878, 323)"
      ]
     },
     "execution_count": 77,
     "metadata": {},
     "output_type": "execute_result"
    }
   ],
   "source": [
    "data.shape"
   ]
  },
  {
   "cell_type": "code",
   "execution_count": 78,
   "id": "7f9e824c-7c55-49af-8629-5eddf567e21f",
   "metadata": {
    "tags": []
   },
   "outputs": [
    {
     "name": "stderr",
     "output_type": "stream",
     "text": [
      "/Users/kimmo/anaconda3/envs/lens-bot-or-not/lib/python3.10/site-packages/pytorch_tabnet/abstract_model.py:75: UserWarning: Device used : cpu\n",
      "  warnings.warn(f\"Device used : {self.device}\")\n"
     ]
    }
   ],
   "source": [
    "\n",
    "# TabNetPretrainer\n",
    "unsupervised_model = TabNetPretrainer(\n",
    "    optimizer_fn=torch.optim.Adam,\n",
    "    optimizer_params=dict(lr=2e-2),\n",
    "    mask_type='sparsemax', # \"sparsemax\",\n",
    "    n_shared_decoder=1, # nb shared glu for decoding\n",
    "    n_indep_decoder=1, # nb independent glu for decoding\n",
    "#     grouped_features=[[0, 1]], # you can group features together here\n",
    "    verbose=5,\n",
    ")"
   ]
  },
  {
   "cell_type": "code",
   "execution_count": null,
   "id": "826f2fc0-d7ed-4ec5-a060-687fe4d67f5a",
   "metadata": {
    "tags": []
   },
   "outputs": [
    {
     "name": "stdout",
     "output_type": "stream",
     "text": [
      "epoch 0  | loss: 55024071.619| val_0_unsup_loss_numpy: 4.249760150909424|  0:00:08s\n"
     ]
    }
   ],
   "source": [
    "max_epochs=1000\n",
    "unsupervised_model.fit(\n",
    "     X_train=mc.fit_transform(validation_data.values),\n",
    "     eval_set=[mc.transform(X_train.values)],\n",
    "    max_epochs=max_epochs , patience=10,\n",
    "    batch_size=256, virtual_batch_size=128,\n",
    "    num_workers=0,\n",
    "    drop_last=True,\n",
    "    pretraining_ratio=0.5,\n",
    ") "
   ]
  },
  {
   "cell_type": "code",
   "execution_count": null,
   "id": "a895a9f6-4aba-4141-9e47-dfa71e87cca6",
   "metadata": {
    "tags": []
   },
   "outputs": [],
   "source": [
    "clf = TabNetClassifier(optimizer_fn=torch.optim.Adam,\n",
    "                       optimizer_params=dict(lr=2e-3),\n",
    "                       scheduler_params={\"step_size\":10, # how to use learning rate scheduler\n",
    "                                         \"gamma\":0.9},\n",
    "                       scheduler_fn=torch.optim.lr_scheduler.StepLR,\n",
    "                       mask_type='sparsemax', # This will be overwritten if using pretrain model\n",
    "                       verbose=5,\n",
    "                      )"
   ]
  },
  {
   "cell_type": "code",
   "execution_count": null,
   "id": "1866aa8f-8021-49aa-8457-c2c785227ce1",
   "metadata": {
    "tags": []
   },
   "outputs": [],
   "source": [
    "clf.fit(\n",
    "    X_train=mc.fit_transform(X_train.values), y_train=y_train.values,\n",
    "    eval_set=[(mc.transform(X_train.values), y_train.values), (mc.transform(X_test.values), y_test.values)],\n",
    "    eval_name=['train', 'valid'],\n",
    "    eval_metric=['logloss'],\n",
    "    max_epochs=max_epochs , patience=5,\n",
    "    batch_size=128, virtual_batch_size=36,\n",
    "    num_workers=0,\n",
    "    weights=1,\n",
    "    drop_last=False,\n",
    "    from_unsupervised=unsupervised_model,\n",
    "    \n",
    ") "
   ]
  },
  {
   "cell_type": "code",
   "execution_count": null,
   "id": "7a98c035-a30d-4183-b51a-cb6b92fc713e",
   "metadata": {
    "tags": []
   },
   "outputs": [],
   "source": [
    "from sklearn.metrics import roc_auc_score\n"
   ]
  },
  {
   "cell_type": "code",
   "execution_count": null,
   "id": "0d310845-3156-4999-8b46-7f9ecfaac4f0",
   "metadata": {
    "tags": []
   },
   "outputs": [],
   "source": [
    "preds = clf.predict_proba(mc.transform(validation_data.values))\n",
    "# test_auc = roc_auc_score(y_score=preds[:,1], y_true=y_test)\n",
    "\n",
    "\n",
    "preds_valid = clf.predict_proba(mc.transform(X_test.values))\n",
    "valid_auc = roc_auc_score(y_score=preds_valid[:,1], y_true=y_test)\n",
    "\n",
    "print(f\"BEST VALID SCORE : {clf.best_cost}\")\n",
    "#print(f\"FINAL TEST SCORE FOR {dataset_name} : {test_auc}\")"
   ]
  },
  {
   "cell_type": "code",
   "execution_count": null,
   "id": "d9ee1d89-2032-46de-8e29-cc37951b0cd6",
   "metadata": {
    "tags": []
   },
   "outputs": [],
   "source": [
    "pd.Series(preds.argmax(1)).value_counts()"
   ]
  },
  {
   "cell_type": "code",
   "execution_count": null,
   "id": "650944be-01a7-4e02-9d67-c67d1c635192",
   "metadata": {
    "tags": []
   },
   "outputs": [],
   "source": [
    "pd.Series(preds.argmax(1),name='label',index=validation_data.index).to_frame().join(data[labels.columns]).plot.scatter(x='rank',y='label',alpha=0.01,s=0.1)"
   ]
  },
  {
   "cell_type": "code",
   "execution_count": null,
   "id": "29792c63-259c-4886-8ce0-94ec0fec0772",
   "metadata": {},
   "outputs": [],
   "source": []
  },
  {
   "cell_type": "code",
   "execution_count": null,
   "id": "313fcd78-26d9-4f8f-9a01-b9e9938d2a7b",
   "metadata": {
    "tags": []
   },
   "outputs": [],
   "source": [
    "pd.Series(preds.argmax(1),name='label',index=validation_data.index).to_frame().join(data[labels.columns]).query('followersCount>100')"
   ]
  },
  {
   "cell_type": "code",
   "execution_count": null,
   "id": "d471ffb5-9ff1-4a3d-9612-ea3fbdefcfff",
   "metadata": {
    "tags": []
   },
   "outputs": [],
   "source": [
    "show_data = data.drop(labels.columns,axis=1)\n",
    "preds = clf.predict_proba(mc.transform(show_data.values))\n",
    "results = pd.Series(preds.argmax(1),\n",
    "                    name='label',\n",
    "                    index=show_data.index).to_frame().join(data[labels.columns])\n",
    "results.plot.scatter(x='rank',y='label',alpha=0.01,s=0.1)\n",
    "\n",
    "results.to_hdf('data.hdf',key='df')\n"
   ]
  },
  {
   "cell_type": "code",
   "execution_count": null,
   "id": "5bb12f04-acd7-4ef4-9753-790139851e5f",
   "metadata": {
    "tags": []
   },
   "outputs": [],
   "source": [
    "results.head()"
   ]
  },
  {
   "cell_type": "code",
   "execution_count": null,
   "id": "6c075a1e-d039-44dd-96fd-d474012e0ed8",
   "metadata": {},
   "outputs": [],
   "source": []
  },
  {
   "cell_type": "code",
   "execution_count": null,
   "id": "1239db45-5cb0-4d91-935c-b39f4c897ee6",
   "metadata": {},
   "outputs": [],
   "source": []
  }
 ],
 "metadata": {
  "kernelspec": {
   "display_name": "Python 3 (ipykernel)",
   "language": "python",
   "name": "python3"
  },
  "language_info": {
   "codemirror_mode": {
    "name": "ipython",
    "version": 3
   },
   "file_extension": ".py",
   "mimetype": "text/x-python",
   "name": "python",
   "nbconvert_exporter": "python",
   "pygments_lexer": "ipython3",
   "version": "3.10.10"
  }
 },
 "nbformat": 4,
 "nbformat_minor": 5
}
