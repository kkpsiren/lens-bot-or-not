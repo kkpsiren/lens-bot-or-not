{
 "cells": [
  {
   "cell_type": "code",
   "execution_count": null,
   "id": "c24fae80-788a-4368-87df-af98b277352c",
   "metadata": {},
   "outputs": [],
   "source": [
    "## get initial set of labels from karma3"
   ]
  },
  {
   "cell_type": "code",
   "execution_count": 1,
   "id": "141c6d19-0782-4c49-b733-e4570f0f064e",
   "metadata": {
    "tags": []
   },
   "outputs": [],
   "source": [
    "import pandas as pd\n",
    "from google.cloud import bigquery\n",
    "import pandas as pd\n",
    "import glob\n",
    "client = bigquery.Client()\n",
    "\n",
    "savepath = f\"data\""
   ]
  },
  {
   "cell_type": "code",
   "execution_count": 3,
   "id": "c0fd8570-e6f1-429f-bc5f-787f0cf85903",
   "metadata": {
    "tags": []
   },
   "outputs": [
    {
     "data": {
      "text/html": [
       "<div>\n",
       "<style scoped>\n",
       "    .dataframe tbody tr th:only-of-type {\n",
       "        vertical-align: middle;\n",
       "    }\n",
       "\n",
       "    .dataframe tbody tr th {\n",
       "        vertical-align: top;\n",
       "    }\n",
       "\n",
       "    .dataframe thead th {\n",
       "        text-align: right;\n",
       "    }\n",
       "</style>\n",
       "<table border=\"1\" class=\"dataframe\">\n",
       "  <thead>\n",
       "    <tr style=\"text-align: right;\">\n",
       "      <th></th>\n",
       "      <th>score</th>\n",
       "      <th>rank</th>\n",
       "      <th>handle</th>\n",
       "      <th>followersCount</th>\n",
       "      <th>id</th>\n",
       "    </tr>\n",
       "  </thead>\n",
       "  <tbody>\n",
       "    <tr>\n",
       "      <th>0</th>\n",
       "      <td>0.064284</td>\n",
       "      <td>1</td>\n",
       "      <td>stani.lens</td>\n",
       "      <td>57607</td>\n",
       "      <td>5</td>\n",
       "    </tr>\n",
       "    <tr>\n",
       "      <th>1</th>\n",
       "      <td>0.059850</td>\n",
       "      <td>2</td>\n",
       "      <td>bradorbradley.lens</td>\n",
       "      <td>33082</td>\n",
       "      <td>36</td>\n",
       "    </tr>\n",
       "    <tr>\n",
       "      <th>2</th>\n",
       "      <td>0.059520</td>\n",
       "      <td>3</td>\n",
       "      <td>christina.lens</td>\n",
       "      <td>28154</td>\n",
       "      <td>142</td>\n",
       "    </tr>\n",
       "    <tr>\n",
       "      <th>3</th>\n",
       "      <td>0.055198</td>\n",
       "      <td>4</td>\n",
       "      <td>blackdave.lens</td>\n",
       "      <td>819</td>\n",
       "      <td>36284</td>\n",
       "    </tr>\n",
       "    <tr>\n",
       "      <th>4</th>\n",
       "      <td>0.054165</td>\n",
       "      <td>5</td>\n",
       "      <td>chriscomrie.lens</td>\n",
       "      <td>4917</td>\n",
       "      <td>73557</td>\n",
       "    </tr>\n",
       "  </tbody>\n",
       "</table>\n",
       "</div>"
      ],
      "text/plain": [
       "      score rank              handle followersCount     id\n",
       "0  0.064284    1          stani.lens          57607      5\n",
       "1  0.059850    2  bradorbradley.lens          33082     36\n",
       "2  0.059520    3      christina.lens          28154    142\n",
       "3  0.055198    4      blackdave.lens            819  36284\n",
       "4  0.054165    5    chriscomrie.lens           4917  73557"
      ]
     },
     "execution_count": 3,
     "metadata": {},
     "output_type": "execute_result"
    }
   ],
   "source": [
    "import requests\n",
    "\n",
    "response = requests.get(\"https://lens-api.k3l.io/profile_count?strategy=creator\")\n",
    "count = response.json()['count']\n",
    "\n",
    "response = requests.get(f\"https://lens-api.k3l.io/profile_scores?strategy=creator&limit={count}\")\n",
    "karma_data = response.json()\n",
    "karma_data = pd.DataFrame(karma_data)\n",
    "karma_data.to_csv('data/karma_data.csv')\n",
    "del response\n",
    "karma_data.head()"
   ]
  },
  {
   "cell_type": "code",
   "execution_count": 4,
   "id": "ada2013f-9011-475b-ada2-1a60227d53bf",
   "metadata": {
    "tags": []
   },
   "outputs": [
    {
     "data": {
      "text/plain": [
       "(100004, 5)"
      ]
     },
     "execution_count": 4,
     "metadata": {},
     "output_type": "execute_result"
    }
   ],
   "source": [
    "karma_data.shape"
   ]
  },
  {
   "cell_type": "code",
   "execution_count": 5,
   "id": "99174db9-f898-4c2e-97d2-5985134564cf",
   "metadata": {
    "tags": []
   },
   "outputs": [],
   "source": [
    "## get bigquery data"
   ]
  },
  {
   "cell_type": "code",
   "execution_count": 13,
   "id": "c286ee5d-742e-4e08-9844-fba54cd7d4a2",
   "metadata": {
    "tags": []
   },
   "outputs": [
    {
     "data": {
      "text/plain": [
       "(82988, 3)"
      ]
     },
     "execution_count": 13,
     "metadata": {},
     "output_type": "execute_result"
    }
   ],
   "source": [
    "\n",
    "\n",
    "def dispatcher_data_query():\n",
    "    return \"\"\"\n",
    "SELECT\n",
    "  profile_id,\n",
    "  profile_dispatcher_address,\n",
    "  block_timestamp AS dispatcher_setup_timestamp\n",
    "FROM\n",
    "  `lens-public-data.polygon.public_profile_dispatcher`\n",
    "\"\"\"\n",
    "\n",
    "\n",
    "\n",
    "\n",
    "# Perform a query.\n",
    "QUERY = dispatcher_data_query()\n",
    "query_job = client.query(QUERY)  # API request\n",
    "# rows = query_job.result()  # Waits for query to finish\n",
    "df = query_job.to_dataframe()\n",
    "df.to_csv(f'{savepath}/dispatcher_data')\n",
    "df.shape"
   ]
  },
  {
   "cell_type": "code",
   "execution_count": 11,
   "id": "bf768e21-df08-46c4-a9e1-7926ebf725f3",
   "metadata": {
    "tags": []
   },
   "outputs": [
    {
     "data": {
      "text/plain": [
       "(116483, 6)"
      ]
     },
     "execution_count": 11,
     "metadata": {},
     "output_type": "execute_result"
    }
   ],
   "source": [
    "\n",
    "def aggregated_stats_query():\n",
    "    return f\"\"\"\n",
    "SELECT\n",
    "  profile_id,\n",
    "  total_posts,\n",
    "  total_comments,\n",
    "  total_mirrors,\n",
    "  total_collects,\n",
    "  datastream_metadata.source_timestamp\n",
    "FROM\n",
    "  `lens-public-data.polygon.public_profile_stats`\n",
    "\"\"\"\n",
    "\n",
    "# Perform a query.\n",
    "QUERY = aggregated_stats_query()\n",
    "query_job = client.query(QUERY)  # API request\n",
    "# rows = query_job.result()  # Waits for query to finish\n",
    "df = query_job.to_dataframe()\n",
    "df.to_csv(f'{savepath}/aggregated_stats')\n",
    "df.shape"
   ]
  },
  {
   "cell_type": "code",
   "execution_count": 12,
   "id": "07131b93-5f24-43f4-ba11-c42375b68c7f",
   "metadata": {
    "tags": []
   },
   "outputs": [
    {
     "data": {
      "text/plain": [
       "(47508, 1)"
      ]
     },
     "execution_count": 12,
     "metadata": {},
     "output_type": "execute_result"
    }
   ],
   "source": [
    "def ens_address_query():\n",
    "    return f\"\"\"\n",
    "SELECT\n",
    "  DISTINCT address\n",
    "FROM\n",
    "  `lens-public-data.polygon.ens_address_reverse_record`\n",
    "\"\"\"\n",
    "\n",
    "# Perform a query.\n",
    "QUERY = ens_address_query()\n",
    "query_job = client.query(QUERY)  # API request\n",
    "# rows = query_job.result()  # Waits for query to finish\n",
    "df = query_job.to_dataframe()\n",
    "df.to_csv(f'{savepath}/ens_address')\n",
    "df.shape"
   ]
  },
  {
   "cell_type": "code",
   "execution_count": 19,
   "id": "19c2bdaf-bb33-4ac1-afc5-617a9d28f1ce",
   "metadata": {
    "tags": []
   },
   "outputs": [
    {
     "data": {
      "text/plain": [
       "(855, 1)"
      ]
     },
     "execution_count": 19,
     "metadata": {},
     "output_type": "execute_result"
    }
   ],
   "source": [
    "def proof_of_humanity_query():\n",
    "    return f\"\"\"\n",
    "SELECT\n",
    "  DISTINCT address\n",
    "FROM\n",
    "  `lens-public-data.polygon.proof_of_humanity_address_to_proof_record`\n",
    "WHERE\n",
    "  is_registered=true\n",
    "\"\"\"\n",
    "\n",
    "# Perform a query.\n",
    "QUERY = proof_of_humanity_query()\n",
    "query_job = client.query(QUERY)  # API request\n",
    "# rows = query_job.result()  # Waits for query to finish\n",
    "df = query_job.to_dataframe()\n",
    "df.to_csv(f'{savepath}/proof_of_humanity')\n",
    "df.shape"
   ]
  },
  {
   "cell_type": "code",
   "execution_count": 20,
   "id": "ca3e0922-8661-4bc1-ac15-b751d6e273a6",
   "metadata": {
    "tags": []
   },
   "outputs": [
    {
     "data": {
      "text/plain": [
       "(2784, 1)"
      ]
     },
     "execution_count": 20,
     "metadata": {},
     "output_type": "execute_result"
    }
   ],
   "source": [
    "def sybil_dot_org_address_verified_twitter_query():\n",
    "    return f\"\"\"\n",
    "SELECT\n",
    "  DISTINCT address\n",
    "FROM\n",
    "  `lens-public-data.polygon.sybil_dot_org_address_verified_twitter`\n",
    "\"\"\"\n",
    "\n",
    "# Perform a query.\n",
    "QUERY = sybil_dot_org_address_verified_twitter_query()\n",
    "query_job = client.query(QUERY)  # API request\n",
    "# rows = query_job.result()  # Waits for query to finish\n",
    "df = query_job.to_dataframe()\n",
    "df.to_csv(f'{savepath}/sybil_dot_org_address_verified_twitter')\n",
    "df.shape"
   ]
  },
  {
   "cell_type": "code",
   "execution_count": 22,
   "id": "4f3002f1-6926-4e09-98e9-5322a7b99df5",
   "metadata": {
    "tags": []
   },
   "outputs": [
    {
     "data": {
      "text/plain": [
       "(54, 1)"
      ]
     },
     "execution_count": 22,
     "metadata": {},
     "output_type": "execute_result"
    }
   ],
   "source": [
    "def worldcoin_human_check_query():\n",
    "    return f\"\"\"\n",
    "SELECT\n",
    "  profile_id\n",
    "FROM\n",
    "  `lens-public-data.polygon.worldcoin_human_check`\n",
    "WHERE\n",
    "  verified=true\n",
    "\"\"\"\n",
    "\n",
    "# Perform a query.\n",
    "QUERY = worldcoin_human_check_query()\n",
    "query_job = client.query(QUERY)  # API request\n",
    "# rows = query_job.result()  # Waits for query to finish\n",
    "df = query_job.to_dataframe()\n",
    "df.to_csv(f'{savepath}/worldcoin_human_check')\n",
    "df.shape"
   ]
  },
  {
   "cell_type": "code",
   "execution_count": 24,
   "id": "39358b72-ff80-4813-bff2-28dceb37d5d8",
   "metadata": {
    "tags": []
   },
   "outputs": [
    {
     "data": {
      "text/plain": [
       "(94732, 3)"
      ]
     },
     "execution_count": 24,
     "metadata": {},
     "output_type": "execute_result"
    }
   ],
   "source": [
    "def most_used_app_query():\n",
    "    return f\"\"\"\n",
    "SELECT\n",
    "  profile_id,\n",
    "  ARRAY_AGG( STRUCT(app_id,\n",
    "      total_posts)\n",
    "  ORDER BY\n",
    "    total_posts DESC\n",
    "  LIMIT\n",
    "    1 )[\n",
    "OFFSET\n",
    "  (0)].app_id AS app_id_highest_posts,\n",
    "  ARRAY_AGG( STRUCT(app_id,\n",
    "      total_posts)\n",
    "  ORDER BY\n",
    "    total_comments DESC\n",
    "  LIMIT\n",
    "    1 )[\n",
    "OFFSET\n",
    "  (0)].app_id AS app_id_highest_comments,\n",
    "FROM\n",
    "  `lens-public-data.polygon.public_app_profile_stats`\n",
    "GROUP BY\n",
    "  profile_id\n",
    "\"\"\"\n",
    "\n",
    "# Perform a query.\n",
    "QUERY = most_used_app_query()\n",
    "query_job = client.query(QUERY)  # API request\n",
    "# rows = query_job.result()  # Waits for query to finish\n",
    "df = query_job.to_dataframe()\n",
    "df.to_csv(f'{savepath}/most_used_app')\n",
    "df.shape"
   ]
  },
  {
   "cell_type": "code",
   "execution_count": 4,
   "id": "0f208492-53f1-4184-9cae-ca3d85b55e94",
   "metadata": {
    "tags": []
   },
   "outputs": [],
   "source": [
    "import numpy as np\n",
    "def q90(x):\n",
    "    return x.quantile(0.9)\n",
    "def q10(x):\n",
    "    return x.quantile(0.1)\n",
    "def q25(x):\n",
    "    return x.quantile(0.25)\n",
    "def q75(x):\n",
    "    return x.quantile(0.75)\n"
   ]
  },
  {
   "cell_type": "code",
   "execution_count": 7,
   "id": "bbd24be8-5cd6-4962-b897-1482ab95a3f4",
   "metadata": {
    "tags": []
   },
   "outputs": [
    {
     "name": "stdout",
     "output_type": "stream",
     "text": [
      "running\n"
     ]
    },
    {
     "data": {
      "text/plain": [
       "(88645, 8)"
      ]
     },
     "execution_count": 7,
     "metadata": {},
     "output_type": "execute_result"
    }
   ],
   "source": [
    "def post_data_insights_query():\n",
    "    return f\"\"\"\n",
    "SELECT\n",
    "  profile_id,\n",
    "  block_timestamp\n",
    "FROM\n",
    "  `lens-public-data.polygon.public_profile_post`\n",
    "WHERE\n",
    "  s3_metadata_location IS NOT NULL\n",
    "  AND has_error IS FALSE\n",
    "  AND is_metadata_processed IS TRUE\n",
    "  AND is_related_to_post IS NULL\n",
    "  AND is_related_to_comment IS null\n",
    "\"\"\"\n",
    "\n",
    "# Perform a query.\n",
    "QUERY = post_data_insights_query()\n",
    "query_job = client.query(QUERY)  # API request\n",
    "# rows = query_job.result()  # Waits for query to finish\n",
    "df = query_job.to_dataframe()\n",
    "print('running')\n",
    "df = df.sort_values(by=['profile_id','block_timestamp'],ascending=[True,False])\n",
    "shifted = df.groupby(\"profile_id\").shift(-1)\n",
    "df1 = df.join(shifted.rename(columns=lambda x: x+\"_lag\"))\n",
    "df1['diff'] = (df1['block_timestamp'] - df1['block_timestamp_lag']).dt.total_seconds()\n",
    "df1 = df1.groupby('profile_id').agg({\"diff\": [np.mean, np.median,q10,q25,q75,q90,'max','min']})\n",
    "\n",
    "df1.to_csv(f'{savepath}/post_data_insights')\n",
    "df1.shape"
   ]
  },
  {
   "cell_type": "code",
   "execution_count": 8,
   "id": "ccbb5d82-f94d-4fc7-93cc-d955bb3661c2",
   "metadata": {
    "tags": []
   },
   "outputs": [
    {
     "name": "stdout",
     "output_type": "stream",
     "text": [
      "running\n"
     ]
    },
    {
     "data": {
      "text/plain": [
       "(74423, 8)"
      ]
     },
     "execution_count": 8,
     "metadata": {},
     "output_type": "execute_result"
    }
   ],
   "source": [
    "def mirror_data_insights_query():\n",
    "    return f\"\"\"\n",
    "SELECT\n",
    "  profile_id,\n",
    "  block_timestamp\n",
    "FROM\n",
    "  `lens-public-data.polygon.public_profile_post`\n",
    "WHERE\n",
    "  s3_metadata_location IS NOT NULL\n",
    "  AND has_error IS FALSE\n",
    "  AND is_metadata_processed IS TRUE\n",
    "  AND (is_related_to_post IS NOT NULL\n",
    "    OR is_related_to_comment IS NOT NULL)\n",
    "\"\"\"\n",
    "\n",
    "# Perform a query.\n",
    "QUERY = mirror_data_insights_query()\n",
    "query_job = client.query(QUERY)  # API request\n",
    "# rows = query_job.result()  # Waits for query to finish\n",
    "df = query_job.to_dataframe()\n",
    "print('running')\n",
    "df = df.sort_values(by=['profile_id','block_timestamp'],ascending=[True,False])\n",
    "shifted = df.groupby(\"profile_id\").shift(-1)\n",
    "df1 = df.join(shifted.rename(columns=lambda x: x+\"_lag\"))\n",
    "df1['diff'] = (df1['block_timestamp'] - df1['block_timestamp_lag']).dt.total_seconds()\n",
    "df1 = df1.groupby('profile_id').agg({\"diff\": [np.mean, np.median,q10,q25,q75,q90,'max','min']})\n",
    "\n",
    "df1.to_csv(f'{savepath}/mirror_data_insights')\n",
    "df1.shape"
   ]
  },
  {
   "cell_type": "code",
   "execution_count": 11,
   "id": "73ecd3fa-4f6c-437f-9da5-7d541898d9cf",
   "metadata": {
    "tags": []
   },
   "outputs": [
    {
     "name": "stdout",
     "output_type": "stream",
     "text": [
      "running\n"
     ]
    },
    {
     "data": {
      "text/plain": [
       "(72763, 8)"
      ]
     },
     "execution_count": 11,
     "metadata": {},
     "output_type": "execute_result"
    }
   ],
   "source": [
    "def comment_data_insights_query():\n",
    "    return f\"\"\"\n",
    "SELECT\n",
    "  comment_by_profile_id AS profile_id,\n",
    "  block_timestamp\n",
    "FROM\n",
    "  `lens-public-data.polygon.public_post_comment`\n",
    "WHERE\n",
    "  s3_metadata_location IS NOT NULL\n",
    "  AND has_error IS FALSE\n",
    "  AND is_metadata_processed IS true\n",
    "\"\"\"\n",
    "\n",
    "# Perform a query.\n",
    "QUERY = comment_data_insights_query()\n",
    "query_job = client.query(QUERY)  # API request\n",
    "# rows = query_job.result()  # Waits for query to finish\n",
    "df = query_job.to_dataframe()\n",
    "print('running')\n",
    "df = df.sort_values(by=['profile_id','block_timestamp'],ascending=[True,False])\n",
    "shifted = df.groupby(\"profile_id\").shift(-1)\n",
    "df1 = df.join(shifted.rename(columns=lambda x: x+\"_lag\"))\n",
    "df1['diff'] = (df1['block_timestamp'] - df1['block_timestamp_lag']).dt.total_seconds()\n",
    "df1 = df1.groupby('profile_id').agg({\"diff\": [np.mean, np.median,q10,q25,q75,q90,'max','min']})\n",
    "\n",
    "df1.to_csv(f'{savepath}/comment_data_insights')\n",
    "df1.shape"
   ]
  },
  {
   "cell_type": "code",
   "execution_count": 12,
   "id": "0fc3d7ea-379f-4fba-9b77-dca08909b365",
   "metadata": {
    "tags": []
   },
   "outputs": [
    {
     "name": "stdout",
     "output_type": "stream",
     "text": [
      "running\n"
     ]
    },
    {
     "data": {
      "text/plain": [
       "(226908, 8)"
      ]
     },
     "execution_count": 12,
     "metadata": {},
     "output_type": "execute_result"
    }
   ],
   "source": [
    "def collect_data_insights_query():\n",
    "    return f\"\"\"\n",
    "SELECT\n",
    "  collected_by AS address,\n",
    "  block_timestamp\n",
    "FROM\n",
    "  `lens-public-data.polygon.public_publication_collect_module_collected_records`\n",
    "\"\"\"\n",
    "\n",
    "# Perform a query.\n",
    "QUERY = collect_data_insights_query()\n",
    "query_job = client.query(QUERY)  # API request\n",
    "# rows = query_job.result()  # Waits for query to finish\n",
    "df = query_job.to_dataframe()\n",
    "print('running')\n",
    "df = df.sort_values(by=['address','block_timestamp'],ascending=[True,False])\n",
    "shifted = df.groupby(\"address\").shift(-1)\n",
    "df1 = df.join(shifted.rename(columns=lambda x: x+\"_lag\"))\n",
    "df1['diff'] = (df1['block_timestamp'] - df1['block_timestamp_lag']).dt.total_seconds()\n",
    "df1 = df1.groupby('address').agg({\"diff\": [np.mean, np.median,q10,q25,q75,q90,'max','min']})\n",
    "\n",
    "df1.to_csv(f'{savepath}/collect_data_insights')\n",
    "df1.shape"
   ]
  },
  {
   "cell_type": "code",
   "execution_count": 14,
   "id": "59e46c4d-269a-4b4b-97da-814172f51003",
   "metadata": {
    "tags": []
   },
   "outputs": [
    {
     "name": "stdout",
     "output_type": "stream",
     "text": [
      "running\n"
     ]
    },
    {
     "data": {
      "text/plain": [
       "(47881, 8)"
      ]
     },
     "execution_count": 14,
     "metadata": {},
     "output_type": "execute_result"
    }
   ],
   "source": [
    "def paid_collect_data_insights_query():\n",
    "    return f\"\"\"\n",
    "WITH\n",
    "  paid_pubs AS (\n",
    "  SELECT\n",
    "    publication_id\n",
    "  FROM\n",
    "    `lens-public-data.polygon.public_publication_collect_module_details`\n",
    "  WHERE\n",
    "    amount IS NOT NULL )\n",
    "SELECT\n",
    "  collected_by AS address,\n",
    "  block_timestamp\n",
    "FROM\n",
    "  `lens-public-data.polygon.public_publication_collect_module_collected_records`\n",
    "WHERE\n",
    "  publication_id IN (\n",
    "  SELECT\n",
    "    publication_id\n",
    "  FROM\n",
    "    paid_pubs)\n",
    "\"\"\"\n",
    "\n",
    "# Perform a query.\n",
    "QUERY = paid_collect_data_insights_query()\n",
    "query_job = client.query(QUERY)  # API request\n",
    "# rows = query_job.result()  # Waits for query to finish\n",
    "df = query_job.to_dataframe()\n",
    "print('running')\n",
    "df = df.sort_values(by=['address','block_timestamp'],ascending=[True,False])\n",
    "shifted = df.groupby(\"address\").shift(-1)\n",
    "df1 = df.join(shifted.rename(columns=lambda x: x+\"_lag\"))\n",
    "df1['diff'] = (df1['block_timestamp'] - df1['block_timestamp_lag']).dt.total_seconds()\n",
    "df1 = df1.groupby('address').agg({\"diff\": [np.mean, np.median,q10,q25,q75,q90,'max','min']})\n",
    "\n",
    "df1.to_csv(f'{savepath}/paid_collect_data_insights')\n",
    "df1.shape"
   ]
  },
  {
   "cell_type": "code",
   "execution_count": 97,
   "id": "b2f828b5-5d64-47a8-aee4-744eb5f23822",
   "metadata": {
    "tags": []
   },
   "outputs": [
    {
     "data": {
      "text/plain": [
       "(116487, 5)"
      ]
     },
     "execution_count": 97,
     "metadata": {},
     "output_type": "execute_result"
    }
   ],
   "source": [
    "def address_query():\n",
    "    return f\"\"\"\n",
    "SELECT\n",
    "profile_id,\n",
    "owned_by as address,\n",
    "is_default,\n",
    "metadata_block_timestamp,\n",
    "block_timestamp\n",
    "FROM\n",
    "  `lens-public-data.polygon.public_profile`\n",
    "\"\"\"\n",
    "\n",
    "# Perform a query.\n",
    "QUERY = address_query()\n",
    "query_job = client.query(QUERY)  # API request\n",
    "# rows = query_job.result()  # Waits for query to finish\n",
    "df = query_job.to_dataframe()\n",
    "\n",
    "df.to_csv(f'{savepath}/address')\n",
    "df.shape"
   ]
  },
  {
   "cell_type": "markdown",
   "id": "2f90ff1f-ce21-4968-aba4-64d93641c565",
   "metadata": {
    "tags": []
   },
   "source": [
    "# read data and make a csv"
   ]
  },
  {
   "cell_type": "code",
   "execution_count": 33,
   "id": "87facb3a-6e73-46a3-b5bd-b8fe52ca0fa6",
   "metadata": {
    "tags": []
   },
   "outputs": [],
   "source": [
    "files = glob.glob(f'{savepath}/*')"
   ]
  },
  {
   "cell_type": "code",
   "execution_count": 34,
   "id": "94cc6e67-cf4b-460d-908e-5d1ca760a5ae",
   "metadata": {
    "tags": []
   },
   "outputs": [
    {
     "data": {
      "text/plain": [
       "['data/dispatcher_data',\n",
       " 'data/post_data_insights',\n",
       " 'data/collect_data_insights',\n",
       " 'data/comment_data_insights',\n",
       " 'data/ens_address',\n",
       " 'data/mirror_data_insights',\n",
       " 'data/most_used_app',\n",
       " 'data/karma_data.csv',\n",
       " 'data/sybil_dot_org_address_verified_twitter',\n",
       " 'data/proof_of_humanity',\n",
       " 'data/address',\n",
       " 'data/worldcoin_human_check',\n",
       " 'data/aggregated_stats',\n",
       " 'data/paid_collect_data_insights']"
      ]
     },
     "execution_count": 34,
     "metadata": {},
     "output_type": "execute_result"
    }
   ],
   "source": [
    "files"
   ]
  },
  {
   "cell_type": "code",
   "execution_count": 35,
   "id": "b66f4b53-25f1-41af-864c-8cf3de6945ea",
   "metadata": {
    "tags": []
   },
   "outputs": [],
   "source": [
    "labels = pd.read_csv(f'{savepath}/karma_data.csv',index_col=0)\n"
   ]
  },
  {
   "cell_type": "code",
   "execution_count": 36,
   "id": "8c505bc8-9d55-4d77-89ce-4eab6d1cc38c",
   "metadata": {
    "tags": []
   },
   "outputs": [],
   "source": [
    "address = pd.read_csv(f'{savepath}/address',index_col=0)\n",
    "address = address.drop({'block_timestamp'},axis=1)#.join( ((pd.to_datetime('2023-04-15',utc=True) - pd.to_datetime(address['block_timestamp'])).dt.total_seconds()/60/24).round(0))\n",
    "address = address.drop({'metadata_block_timestamp'},axis=1)#.join( ((pd.to_datetime('2023-04-15',utc=True) - pd.to_datetime(address['metadata_block_timestamp'])).dt.total_seconds()/60/24).round(0))\n",
    "\n",
    "address = address.rename({'block_timestamp':'days_since_profile_created', 'metadata_block_timestamp':'days_since_metadata_changed'},axis=1)\n",
    "\n"
   ]
  },
  {
   "cell_type": "code",
   "execution_count": 37,
   "id": "3cb466a3-4286-413f-8f4e-cd347a577bb3",
   "metadata": {
    "tags": []
   },
   "outputs": [],
   "source": [
    "dispatcher = pd.read_csv(f'{savepath}/dispatcher_data',index_col=0)\n",
    "dispatcher = dispatcher.drop(['profile_dispatcher_address','dispatcher_setup_timestamp'],axis=1).join(pd.get_dummies(dispatcher['profile_dispatcher_address'])).join( ((pd.to_datetime('2023-04-15',utc=True) - pd.to_datetime(dispatcher['dispatcher_setup_timestamp'])).dt.total_seconds()/60/24).round(0))\n",
    "dispatcher = dispatcher.rename({'dispatcher_setup_timestamp':'days_since_dispatcher_changed'},axis=1)\n",
    "\n",
    "profile_data = pd.merge(dispatcher,address, on='profile_id', how='outer')\n",
    "\n",
    "\n",
    "worldcoin_human = pd.read_csv(f'{savepath}/worldcoin_human_check',index_col=0)\n",
    "worldcoin_human['worldcoin_human']=True\n",
    "profile_data = pd.merge(profile_data,worldcoin_human, on='profile_id', how='outer')\n",
    "\n",
    "aggregated_stats = pd.read_csv(f'{savepath}/aggregated_stats',index_col=0)\n",
    "profile_data = pd.merge(profile_data,aggregated_stats, on='profile_id', how='outer')\n",
    "\n"
   ]
  },
  {
   "cell_type": "code",
   "execution_count": 38,
   "id": "d5bc93ac-4937-4cd9-ac62-63b6856a943b",
   "metadata": {
    "tags": []
   },
   "outputs": [],
   "source": [
    "def read_insight_data(profile_data, name,group_col='profile_id'):\n",
    "    profile_data.copy()\n",
    "    df = pd.read_csv(f'{savepath}/{name}',index_col=0,skiprows=[0,2])\n",
    "    df.columns = [f'{i}_{name}' for i in df.columns]\n",
    "    profile_data = pd.merge(profile_data,df, left_on=group_col,right_index=True, how='outer')\n",
    "    return profile_data\n",
    "\n",
    "profile_data = read_insight_data(profile_data, name='post_data_insights')\n",
    "\n",
    "profile_data = read_insight_data(profile_data, name='comment_data_insights')\n",
    "\n",
    "profile_data = read_insight_data(profile_data, name='mirror_data_insights')\n",
    "\n"
   ]
  },
  {
   "cell_type": "code",
   "execution_count": 39,
   "id": "d88a138a-3f17-46fd-be08-7ce432741882",
   "metadata": {
    "tags": []
   },
   "outputs": [],
   "source": [
    "most_used_app = pd.read_csv(f'{savepath}/most_used_app',index_col=0)\n",
    "most_used_app = most_used_app.join(pd.get_dummies(most_used_app[['app_id_highest_posts','app_id_highest_comments']])).drop(['app_id_highest_posts','app_id_highest_comments'],axis=1)\n",
    "profile_data = pd.merge(profile_data,most_used_app, on='profile_id', how='outer')\n"
   ]
  },
  {
   "cell_type": "code",
   "execution_count": 40,
   "id": "771f25b4-ba7a-4ece-bcc9-92a3a308466c",
   "metadata": {
    "tags": []
   },
   "outputs": [],
   "source": [
    "ens_address = pd.read_csv(f'{savepath}/ens_address',index_col=0)\n",
    "ens_address['ens']=True\n",
    "\n",
    "proof_of_humanity = pd.read_csv(f'{savepath}/proof_of_humanity',index_col=0)\n",
    "proof_of_humanity['proof_of_humanity']=True\n",
    "\n",
    "sybil_dot_org_address_verified_twitter = pd.read_csv(f'{savepath}/sybil_dot_org_address_verified_twitter',index_col=0)\n",
    "sybil_dot_org_address_verified_twitter['sybil_dot_org_address_verified_twitter']=True\n",
    "\n",
    "address_data = pd.merge(ens_address,proof_of_humanity, on='address',how='outer')\n",
    "address_data = pd.merge(address_data,sybil_dot_org_address_verified_twitter, on='address',how='outer')\n",
    "\n",
    "address_data = read_insight_data(address_data, name='collect_data_insights',group_col='address')\n",
    "\n",
    "address_data = read_insight_data(address_data, name='paid_collect_data_insights',group_col='address')\n",
    "\n"
   ]
  },
  {
   "cell_type": "code",
   "execution_count": 178,
   "id": "24b2cf9f-770d-48eb-864c-5467737d1381",
   "metadata": {
    "tags": []
   },
   "outputs": [],
   "source": [
    "data = profile_data.merge(address_data,on='address',how='outer').drop('address',axis=1)"
   ]
  },
  {
   "cell_type": "code",
   "execution_count": 179,
   "id": "bf636d99-3640-41f8-b49f-867deafe1673",
   "metadata": {
    "tags": []
   },
   "outputs": [
    {
     "data": {
      "text/plain": [
       "(265679, 206)"
      ]
     },
     "execution_count": 179,
     "metadata": {},
     "output_type": "execute_result"
    }
   ],
   "source": [
    "data.shape"
   ]
  },
  {
   "cell_type": "code",
   "execution_count": 180,
   "id": "3b331801-e2fd-4c38-ae16-997f8a0bf535",
   "metadata": {
    "tags": []
   },
   "outputs": [],
   "source": [
    "def intify(x):\n",
    "    return int(x,16)\n",
    "\n"
   ]
  },
  {
   "cell_type": "code",
   "execution_count": 181,
   "id": "42b49332-75c9-4d0b-bfd7-4d5764bf1a4b",
   "metadata": {
    "tags": []
   },
   "outputs": [
    {
     "data": {
      "text/plain": [
       "(116487, 206)"
      ]
     },
     "execution_count": 181,
     "metadata": {},
     "output_type": "execute_result"
    }
   ],
   "source": [
    "data = data.dropna(subset=['profile_id'])\n",
    "data['id'] = data['profile_id'].apply(intify)\n",
    "data = data.set_index('profile_id')\n",
    "data.shape"
   ]
  },
  {
   "cell_type": "code",
   "execution_count": 182,
   "id": "b65cb8d3-fd46-485b-94a7-61c707cb6b15",
   "metadata": {
    "tags": []
   },
   "outputs": [
    {
     "data": {
      "text/html": [
       "<div>\n",
       "<style scoped>\n",
       "    .dataframe tbody tr th:only-of-type {\n",
       "        vertical-align: middle;\n",
       "    }\n",
       "\n",
       "    .dataframe tbody tr th {\n",
       "        vertical-align: top;\n",
       "    }\n",
       "\n",
       "    .dataframe thead th {\n",
       "        text-align: right;\n",
       "    }\n",
       "</style>\n",
       "<table border=\"1\" class=\"dataframe\">\n",
       "  <thead>\n",
       "    <tr style=\"text-align: right;\">\n",
       "      <th></th>\n",
       "      <th>0x112b57A293d99b79Fe360Af042bb3bfFc824Ab3a</th>\n",
       "      <th>0x25418Bcf53dAe1167cD5d0cad34Eec31C0C37E41</th>\n",
       "      <th>0x3530c7CAc2E47F27bA82a5d0D3671181171292DB</th>\n",
       "      <th>0x45F71328a415129CB25e3917e70f5BCA346C6151</th>\n",
       "      <th>0x46fAf146C4683663667af868dFc2F98ADc27fBd6</th>\n",
       "      <th>0x57B7bf6f792a6181Ec5aFB88cE7bcE330a9d1b67</th>\n",
       "      <th>0x62D0e168e35f87a1dB804C2b2daf63AE4D195cD1</th>\n",
       "      <th>0x6bC45934A408f7151093479bf59933cD3B75701d</th>\n",
       "      <th>0x761010EFc8826fFdcb8Ad005BD935698ed38DfE7</th>\n",
       "      <th>0x76D4fFdA8c66864FA07f0a285B8E01E11b4Bb7b3</th>\n",
       "      <th>...</th>\n",
       "      <th>min_collect_data_insights</th>\n",
       "      <th>mean_paid_collect_data_insights</th>\n",
       "      <th>median_paid_collect_data_insights</th>\n",
       "      <th>q10_paid_collect_data_insights</th>\n",
       "      <th>q25_paid_collect_data_insights</th>\n",
       "      <th>q75_paid_collect_data_insights</th>\n",
       "      <th>q90_paid_collect_data_insights</th>\n",
       "      <th>max_paid_collect_data_insights</th>\n",
       "      <th>min_paid_collect_data_insights</th>\n",
       "      <th>id</th>\n",
       "    </tr>\n",
       "    <tr>\n",
       "      <th>profile_id</th>\n",
       "      <th></th>\n",
       "      <th></th>\n",
       "      <th></th>\n",
       "      <th></th>\n",
       "      <th></th>\n",
       "      <th></th>\n",
       "      <th></th>\n",
       "      <th></th>\n",
       "      <th></th>\n",
       "      <th></th>\n",
       "      <th></th>\n",
       "      <th></th>\n",
       "      <th></th>\n",
       "      <th></th>\n",
       "      <th></th>\n",
       "      <th></th>\n",
       "      <th></th>\n",
       "      <th></th>\n",
       "      <th></th>\n",
       "      <th></th>\n",
       "      <th></th>\n",
       "    </tr>\n",
       "  </thead>\n",
       "  <tbody>\n",
       "    <tr>\n",
       "      <th>0xacae</th>\n",
       "      <td>False</td>\n",
       "      <td>False</td>\n",
       "      <td>False</td>\n",
       "      <td>True</td>\n",
       "      <td>False</td>\n",
       "      <td>False</td>\n",
       "      <td>False</td>\n",
       "      <td>False</td>\n",
       "      <td>False</td>\n",
       "      <td>False</td>\n",
       "      <td>...</td>\n",
       "      <td>34.0</td>\n",
       "      <td>NaN</td>\n",
       "      <td>NaN</td>\n",
       "      <td>NaN</td>\n",
       "      <td>NaN</td>\n",
       "      <td>NaN</td>\n",
       "      <td>NaN</td>\n",
       "      <td>NaN</td>\n",
       "      <td>NaN</td>\n",
       "      <td>44206</td>\n",
       "    </tr>\n",
       "    <tr>\n",
       "      <th>0xf803</th>\n",
       "      <td>False</td>\n",
       "      <td>False</td>\n",
       "      <td>False</td>\n",
       "      <td>False</td>\n",
       "      <td>True</td>\n",
       "      <td>False</td>\n",
       "      <td>False</td>\n",
       "      <td>False</td>\n",
       "      <td>False</td>\n",
       "      <td>False</td>\n",
       "      <td>...</td>\n",
       "      <td>NaN</td>\n",
       "      <td>NaN</td>\n",
       "      <td>NaN</td>\n",
       "      <td>NaN</td>\n",
       "      <td>NaN</td>\n",
       "      <td>NaN</td>\n",
       "      <td>NaN</td>\n",
       "      <td>NaN</td>\n",
       "      <td>NaN</td>\n",
       "      <td>63491</td>\n",
       "    </tr>\n",
       "    <tr>\n",
       "      <th>0xa738</th>\n",
       "      <td>False</td>\n",
       "      <td>False</td>\n",
       "      <td>False</td>\n",
       "      <td>False</td>\n",
       "      <td>False</td>\n",
       "      <td>False</td>\n",
       "      <td>False</td>\n",
       "      <td>True</td>\n",
       "      <td>False</td>\n",
       "      <td>False</td>\n",
       "      <td>...</td>\n",
       "      <td>NaN</td>\n",
       "      <td>NaN</td>\n",
       "      <td>NaN</td>\n",
       "      <td>NaN</td>\n",
       "      <td>NaN</td>\n",
       "      <td>NaN</td>\n",
       "      <td>NaN</td>\n",
       "      <td>NaN</td>\n",
       "      <td>NaN</td>\n",
       "      <td>42808</td>\n",
       "    </tr>\n",
       "    <tr>\n",
       "      <th>0x8d06</th>\n",
       "      <td>False</td>\n",
       "      <td>False</td>\n",
       "      <td>False</td>\n",
       "      <td>True</td>\n",
       "      <td>False</td>\n",
       "      <td>False</td>\n",
       "      <td>False</td>\n",
       "      <td>False</td>\n",
       "      <td>False</td>\n",
       "      <td>False</td>\n",
       "      <td>...</td>\n",
       "      <td>NaN</td>\n",
       "      <td>NaN</td>\n",
       "      <td>NaN</td>\n",
       "      <td>NaN</td>\n",
       "      <td>NaN</td>\n",
       "      <td>NaN</td>\n",
       "      <td>NaN</td>\n",
       "      <td>NaN</td>\n",
       "      <td>NaN</td>\n",
       "      <td>36102</td>\n",
       "    </tr>\n",
       "    <tr>\n",
       "      <th>0xe56e</th>\n",
       "      <td>False</td>\n",
       "      <td>False</td>\n",
       "      <td>False</td>\n",
       "      <td>True</td>\n",
       "      <td>False</td>\n",
       "      <td>False</td>\n",
       "      <td>False</td>\n",
       "      <td>False</td>\n",
       "      <td>False</td>\n",
       "      <td>False</td>\n",
       "      <td>...</td>\n",
       "      <td>NaN</td>\n",
       "      <td>NaN</td>\n",
       "      <td>NaN</td>\n",
       "      <td>NaN</td>\n",
       "      <td>NaN</td>\n",
       "      <td>NaN</td>\n",
       "      <td>NaN</td>\n",
       "      <td>NaN</td>\n",
       "      <td>NaN</td>\n",
       "      <td>58734</td>\n",
       "    </tr>\n",
       "  </tbody>\n",
       "</table>\n",
       "<p>5 rows × 206 columns</p>\n",
       "</div>"
      ],
      "text/plain": [
       "           0x112b57A293d99b79Fe360Af042bb3bfFc824Ab3a   \n",
       "profile_id                                              \n",
       "0xacae                                          False  \\\n",
       "0xf803                                          False   \n",
       "0xa738                                          False   \n",
       "0x8d06                                          False   \n",
       "0xe56e                                          False   \n",
       "\n",
       "           0x25418Bcf53dAe1167cD5d0cad34Eec31C0C37E41   \n",
       "profile_id                                              \n",
       "0xacae                                          False  \\\n",
       "0xf803                                          False   \n",
       "0xa738                                          False   \n",
       "0x8d06                                          False   \n",
       "0xe56e                                          False   \n",
       "\n",
       "           0x3530c7CAc2E47F27bA82a5d0D3671181171292DB   \n",
       "profile_id                                              \n",
       "0xacae                                          False  \\\n",
       "0xf803                                          False   \n",
       "0xa738                                          False   \n",
       "0x8d06                                          False   \n",
       "0xe56e                                          False   \n",
       "\n",
       "           0x45F71328a415129CB25e3917e70f5BCA346C6151   \n",
       "profile_id                                              \n",
       "0xacae                                           True  \\\n",
       "0xf803                                          False   \n",
       "0xa738                                          False   \n",
       "0x8d06                                           True   \n",
       "0xe56e                                           True   \n",
       "\n",
       "           0x46fAf146C4683663667af868dFc2F98ADc27fBd6   \n",
       "profile_id                                              \n",
       "0xacae                                          False  \\\n",
       "0xf803                                           True   \n",
       "0xa738                                          False   \n",
       "0x8d06                                          False   \n",
       "0xe56e                                          False   \n",
       "\n",
       "           0x57B7bf6f792a6181Ec5aFB88cE7bcE330a9d1b67   \n",
       "profile_id                                              \n",
       "0xacae                                          False  \\\n",
       "0xf803                                          False   \n",
       "0xa738                                          False   \n",
       "0x8d06                                          False   \n",
       "0xe56e                                          False   \n",
       "\n",
       "           0x62D0e168e35f87a1dB804C2b2daf63AE4D195cD1   \n",
       "profile_id                                              \n",
       "0xacae                                          False  \\\n",
       "0xf803                                          False   \n",
       "0xa738                                          False   \n",
       "0x8d06                                          False   \n",
       "0xe56e                                          False   \n",
       "\n",
       "           0x6bC45934A408f7151093479bf59933cD3B75701d   \n",
       "profile_id                                              \n",
       "0xacae                                          False  \\\n",
       "0xf803                                          False   \n",
       "0xa738                                           True   \n",
       "0x8d06                                          False   \n",
       "0xe56e                                          False   \n",
       "\n",
       "           0x761010EFc8826fFdcb8Ad005BD935698ed38DfE7   \n",
       "profile_id                                              \n",
       "0xacae                                          False  \\\n",
       "0xf803                                          False   \n",
       "0xa738                                          False   \n",
       "0x8d06                                          False   \n",
       "0xe56e                                          False   \n",
       "\n",
       "           0x76D4fFdA8c66864FA07f0a285B8E01E11b4Bb7b3  ...   \n",
       "profile_id                                             ...   \n",
       "0xacae                                          False  ...  \\\n",
       "0xf803                                          False  ...   \n",
       "0xa738                                          False  ...   \n",
       "0x8d06                                          False  ...   \n",
       "0xe56e                                          False  ...   \n",
       "\n",
       "           min_collect_data_insights mean_paid_collect_data_insights   \n",
       "profile_id                                                             \n",
       "0xacae                          34.0                             NaN  \\\n",
       "0xf803                           NaN                             NaN   \n",
       "0xa738                           NaN                             NaN   \n",
       "0x8d06                           NaN                             NaN   \n",
       "0xe56e                           NaN                             NaN   \n",
       "\n",
       "           median_paid_collect_data_insights q10_paid_collect_data_insights   \n",
       "profile_id                                                                    \n",
       "0xacae                                   NaN                            NaN  \\\n",
       "0xf803                                   NaN                            NaN   \n",
       "0xa738                                   NaN                            NaN   \n",
       "0x8d06                                   NaN                            NaN   \n",
       "0xe56e                                   NaN                            NaN   \n",
       "\n",
       "           q25_paid_collect_data_insights q75_paid_collect_data_insights   \n",
       "profile_id                                                                 \n",
       "0xacae                                NaN                            NaN  \\\n",
       "0xf803                                NaN                            NaN   \n",
       "0xa738                                NaN                            NaN   \n",
       "0x8d06                                NaN                            NaN   \n",
       "0xe56e                                NaN                            NaN   \n",
       "\n",
       "            q90_paid_collect_data_insights max_paid_collect_data_insights   \n",
       "profile_id                                                                  \n",
       "0xacae                                 NaN                            NaN  \\\n",
       "0xf803                                 NaN                            NaN   \n",
       "0xa738                                 NaN                            NaN   \n",
       "0x8d06                                 NaN                            NaN   \n",
       "0xe56e                                 NaN                            NaN   \n",
       "\n",
       "           min_paid_collect_data_insights     id  \n",
       "profile_id                                        \n",
       "0xacae                                NaN  44206  \n",
       "0xf803                                NaN  63491  \n",
       "0xa738                                NaN  42808  \n",
       "0x8d06                                NaN  36102  \n",
       "0xe56e                                NaN  58734  \n",
       "\n",
       "[5 rows x 206 columns]"
      ]
     },
     "execution_count": 182,
     "metadata": {},
     "output_type": "execute_result"
    }
   ],
   "source": [
    "data.head()"
   ]
  },
  {
   "cell_type": "code",
   "execution_count": 183,
   "id": "c72e0b77-bac5-403f-803b-108f53e32c05",
   "metadata": {
    "tags": []
   },
   "outputs": [],
   "source": [
    "data = data.merge(labels,on='id',how='inner')\n",
    "data = data.fillna(-1)"
   ]
  },
  {
   "cell_type": "code",
   "execution_count": 184,
   "id": "685927cc-0745-4401-a5dc-3aa91699ded8",
   "metadata": {
    "tags": []
   },
   "outputs": [
    {
     "name": "stderr",
     "output_type": "stream",
     "text": [
      "/var/folders/yt/6t964r9x3q51ryt05dfj1b3m0000gn/T/ipykernel_28076/1450110458.py:4: PerformanceWarning: DataFrame is highly fragmented.  This is usually the result of calling `frame.insert` many times, which has poor performance.  Consider joining all columns at once using pd.concat(axis=1) instead. To get a de-fragmented frame, use `newframe = frame.copy()`\n",
      "  good['label'] = 1\n"
     ]
    }
   ],
   "source": [
    "bad = data.dropna(subset=['rank','total_mirrors']).query('total_mirrors>100').sort_values(by='rank').tail(100).drop(labels.columns,axis=1)\n",
    "good = data.sort_values(by='rank').head(100).drop(labels.columns,axis=1)\n",
    "bad['label'] = 0\n",
    "good['label'] = 1\n",
    "\n",
    "training_data = pd.concat([bad,good])\n",
    "validation_data = data.drop(training_data.index).drop(labels.columns,axis=1)\n"
   ]
  },
  {
   "cell_type": "code",
   "execution_count": 185,
   "id": "127b36a4-1ad4-4b68-ab94-b906be178241",
   "metadata": {
    "tags": []
   },
   "outputs": [],
   "source": [
    "def get_dtypes(data):\n",
    "    data[data.dtypes[data.dtypes=='object'].index] = data[data.dtypes[data.dtypes=='object'].index].astype('int')\n",
    "    data[data.dtypes[data.dtypes=='bool'].index] = data[data.dtypes[data.dtypes=='bool'].index].astype('int')\n",
    "\n",
    "    return data\n"
   ]
  },
  {
   "cell_type": "code",
   "execution_count": 186,
   "id": "0d40edc9-87c8-4df4-83ee-d8f9ecd4afb4",
   "metadata": {
    "tags": []
   },
   "outputs": [],
   "source": [
    "training_data = get_dtypes(training_data)\n",
    "validation_data = get_dtypes(validation_data)"
   ]
  },
  {
   "cell_type": "code",
   "execution_count": null,
   "id": "9a903dc3-66bb-4be7-8453-592d182583e7",
   "metadata": {},
   "outputs": [],
   "source": []
  },
  {
   "cell_type": "code",
   "execution_count": 187,
   "id": "0a202133-dbe1-4cb0-b7da-d7764647da04",
   "metadata": {
    "tags": []
   },
   "outputs": [],
   "source": [
    "from sklearn.model_selection import train_test_split"
   ]
  },
  {
   "cell_type": "code",
   "execution_count": 188,
   "id": "76c19990-37d5-4b85-b775-ee440b4f7940",
   "metadata": {
    "tags": []
   },
   "outputs": [],
   "source": [
    "X_train, X_test, y_train, y_test = train_test_split(training_data.drop('label',axis=1), training_data['label'], test_size=0.33, random_state=42)"
   ]
  },
  {
   "cell_type": "code",
   "execution_count": 189,
   "id": "1774cfa0-8aea-49a6-97a2-d7153daa2e3e",
   "metadata": {
    "tags": []
   },
   "outputs": [
    {
     "data": {
      "text/plain": [
       "int64      160\n",
       "float64     46\n",
       "Name: count, dtype: int64"
      ]
     },
     "execution_count": 189,
     "metadata": {},
     "output_type": "execute_result"
    }
   ],
   "source": [
    "training_data.dtypes.value_counts()"
   ]
  },
  {
   "cell_type": "code",
   "execution_count": 190,
   "id": "8c7425c2-f852-4ab2-b36d-b25fee7db0b7",
   "metadata": {
    "tags": []
   },
   "outputs": [],
   "source": [
    "import xgboost as xgb"
   ]
  },
  {
   "cell_type": "code",
   "execution_count": 191,
   "id": "efc95d2d-69cc-4631-af2e-1274b66a6c35",
   "metadata": {
    "tags": []
   },
   "outputs": [],
   "source": [
    "clf = xgb.XGBClassifier()"
   ]
  },
  {
   "cell_type": "code",
   "execution_count": 192,
   "id": "261c186b-c2b7-4025-a640-8f0dd8012ad8",
   "metadata": {
    "tags": []
   },
   "outputs": [
    {
     "data": {
      "text/html": [
       "<style>#sk-container-id-3 {color: black;background-color: white;}#sk-container-id-3 pre{padding: 0;}#sk-container-id-3 div.sk-toggleable {background-color: white;}#sk-container-id-3 label.sk-toggleable__label {cursor: pointer;display: block;width: 100%;margin-bottom: 0;padding: 0.3em;box-sizing: border-box;text-align: center;}#sk-container-id-3 label.sk-toggleable__label-arrow:before {content: \"▸\";float: left;margin-right: 0.25em;color: #696969;}#sk-container-id-3 label.sk-toggleable__label-arrow:hover:before {color: black;}#sk-container-id-3 div.sk-estimator:hover label.sk-toggleable__label-arrow:before {color: black;}#sk-container-id-3 div.sk-toggleable__content {max-height: 0;max-width: 0;overflow: hidden;text-align: left;background-color: #f0f8ff;}#sk-container-id-3 div.sk-toggleable__content pre {margin: 0.2em;color: black;border-radius: 0.25em;background-color: #f0f8ff;}#sk-container-id-3 input.sk-toggleable__control:checked~div.sk-toggleable__content {max-height: 200px;max-width: 100%;overflow: auto;}#sk-container-id-3 input.sk-toggleable__control:checked~label.sk-toggleable__label-arrow:before {content: \"▾\";}#sk-container-id-3 div.sk-estimator input.sk-toggleable__control:checked~label.sk-toggleable__label {background-color: #d4ebff;}#sk-container-id-3 div.sk-label input.sk-toggleable__control:checked~label.sk-toggleable__label {background-color: #d4ebff;}#sk-container-id-3 input.sk-hidden--visually {border: 0;clip: rect(1px 1px 1px 1px);clip: rect(1px, 1px, 1px, 1px);height: 1px;margin: -1px;overflow: hidden;padding: 0;position: absolute;width: 1px;}#sk-container-id-3 div.sk-estimator {font-family: monospace;background-color: #f0f8ff;border: 1px dotted black;border-radius: 0.25em;box-sizing: border-box;margin-bottom: 0.5em;}#sk-container-id-3 div.sk-estimator:hover {background-color: #d4ebff;}#sk-container-id-3 div.sk-parallel-item::after {content: \"\";width: 100%;border-bottom: 1px solid gray;flex-grow: 1;}#sk-container-id-3 div.sk-label:hover label.sk-toggleable__label {background-color: #d4ebff;}#sk-container-id-3 div.sk-serial::before {content: \"\";position: absolute;border-left: 1px solid gray;box-sizing: border-box;top: 0;bottom: 0;left: 50%;z-index: 0;}#sk-container-id-3 div.sk-serial {display: flex;flex-direction: column;align-items: center;background-color: white;padding-right: 0.2em;padding-left: 0.2em;position: relative;}#sk-container-id-3 div.sk-item {position: relative;z-index: 1;}#sk-container-id-3 div.sk-parallel {display: flex;align-items: stretch;justify-content: center;background-color: white;position: relative;}#sk-container-id-3 div.sk-item::before, #sk-container-id-3 div.sk-parallel-item::before {content: \"\";position: absolute;border-left: 1px solid gray;box-sizing: border-box;top: 0;bottom: 0;left: 50%;z-index: -1;}#sk-container-id-3 div.sk-parallel-item {display: flex;flex-direction: column;z-index: 1;position: relative;background-color: white;}#sk-container-id-3 div.sk-parallel-item:first-child::after {align-self: flex-end;width: 50%;}#sk-container-id-3 div.sk-parallel-item:last-child::after {align-self: flex-start;width: 50%;}#sk-container-id-3 div.sk-parallel-item:only-child::after {width: 0;}#sk-container-id-3 div.sk-dashed-wrapped {border: 1px dashed gray;margin: 0 0.4em 0.5em 0.4em;box-sizing: border-box;padding-bottom: 0.4em;background-color: white;}#sk-container-id-3 div.sk-label label {font-family: monospace;font-weight: bold;display: inline-block;line-height: 1.2em;}#sk-container-id-3 div.sk-label-container {text-align: center;}#sk-container-id-3 div.sk-container {/* jupyter's `normalize.less` sets `[hidden] { display: none; }` but bootstrap.min.css set `[hidden] { display: none !important; }` so we also need the `!important` here to be able to override the default hidden behavior on the sphinx rendered scikit-learn.org. See: https://github.com/scikit-learn/scikit-learn/issues/21755 */display: inline-block !important;position: relative;}#sk-container-id-3 div.sk-text-repr-fallback {display: none;}</style><div id=\"sk-container-id-3\" class=\"sk-top-container\"><div class=\"sk-text-repr-fallback\"><pre>XGBClassifier(base_score=None, booster=None, callbacks=None,\n",
       "              colsample_bylevel=None, colsample_bynode=None,\n",
       "              colsample_bytree=None, early_stopping_rounds=None,\n",
       "              enable_categorical=False, eval_metric=None, feature_types=None,\n",
       "              gamma=None, gpu_id=None, grow_policy=None, importance_type=None,\n",
       "              interaction_constraints=None, learning_rate=None, max_bin=None,\n",
       "              max_cat_threshold=None, max_cat_to_onehot=None,\n",
       "              max_delta_step=None, max_depth=None, max_leaves=None,\n",
       "              min_child_weight=None, missing=nan, monotone_constraints=None,\n",
       "              n_estimators=100, n_jobs=None, num_parallel_tree=None,\n",
       "              predictor=None, random_state=None, ...)</pre><b>In a Jupyter environment, please rerun this cell to show the HTML representation or trust the notebook. <br />On GitHub, the HTML representation is unable to render, please try loading this page with nbviewer.org.</b></div><div class=\"sk-container\" hidden><div class=\"sk-item\"><div class=\"sk-estimator sk-toggleable\"><input class=\"sk-toggleable__control sk-hidden--visually\" id=\"sk-estimator-id-3\" type=\"checkbox\" checked><label for=\"sk-estimator-id-3\" class=\"sk-toggleable__label sk-toggleable__label-arrow\">XGBClassifier</label><div class=\"sk-toggleable__content\"><pre>XGBClassifier(base_score=None, booster=None, callbacks=None,\n",
       "              colsample_bylevel=None, colsample_bynode=None,\n",
       "              colsample_bytree=None, early_stopping_rounds=None,\n",
       "              enable_categorical=False, eval_metric=None, feature_types=None,\n",
       "              gamma=None, gpu_id=None, grow_policy=None, importance_type=None,\n",
       "              interaction_constraints=None, learning_rate=None, max_bin=None,\n",
       "              max_cat_threshold=None, max_cat_to_onehot=None,\n",
       "              max_delta_step=None, max_depth=None, max_leaves=None,\n",
       "              min_child_weight=None, missing=nan, monotone_constraints=None,\n",
       "              n_estimators=100, n_jobs=None, num_parallel_tree=None,\n",
       "              predictor=None, random_state=None, ...)</pre></div></div></div></div></div>"
      ],
      "text/plain": [
       "XGBClassifier(base_score=None, booster=None, callbacks=None,\n",
       "              colsample_bylevel=None, colsample_bynode=None,\n",
       "              colsample_bytree=None, early_stopping_rounds=None,\n",
       "              enable_categorical=False, eval_metric=None, feature_types=None,\n",
       "              gamma=None, gpu_id=None, grow_policy=None, importance_type=None,\n",
       "              interaction_constraints=None, learning_rate=None, max_bin=None,\n",
       "              max_cat_threshold=None, max_cat_to_onehot=None,\n",
       "              max_delta_step=None, max_depth=None, max_leaves=None,\n",
       "              min_child_weight=None, missing=nan, monotone_constraints=None,\n",
       "              n_estimators=100, n_jobs=None, num_parallel_tree=None,\n",
       "              predictor=None, random_state=None, ...)"
      ]
     },
     "execution_count": 192,
     "metadata": {},
     "output_type": "execute_result"
    }
   ],
   "source": [
    "clf.fit(X_train,y_train)"
   ]
  },
  {
   "cell_type": "code",
   "execution_count": 193,
   "id": "3b92ae3c-25fa-403f-8a3c-9329497e267c",
   "metadata": {
    "tags": []
   },
   "outputs": [
    {
     "data": {
      "text/plain": [
       "0    93268\n",
       "1     6536\n",
       "Name: count, dtype: int64"
      ]
     },
     "execution_count": 193,
     "metadata": {},
     "output_type": "execute_result"
    }
   ],
   "source": [
    "pd.Series(clf.predict(validation_data)).value_counts()"
   ]
  },
  {
   "cell_type": "code",
   "execution_count": 235,
   "id": "160cbcb3-cccc-4cbd-8be9-3e7e9af4209f",
   "metadata": {
    "tags": []
   },
   "outputs": [
    {
     "name": "stderr",
     "output_type": "stream",
     "text": [
      "/Users/kimmo/anaconda3/envs/lens-bot-or-not/lib/python3.10/site-packages/pytorch_tabnet/abstract_model.py:75: UserWarning: Device used : cpu\n",
      "  warnings.warn(f\"Device used : {self.device}\")\n"
     ]
    }
   ],
   "source": [
    "from pytorch_tabnet.pretraining import TabNetPretrainer\n",
    "# TabNetPretrainer\n",
    "unsupervised_model = TabNetPretrainer(\n",
    "    optimizer_fn=torch.optim.Adam,\n",
    "    optimizer_params=dict(lr=2e-2),\n",
    "    mask_type='sparsemax', # \"sparsemax\",\n",
    "    n_shared_decoder=1, # nb shared glu for decoding\n",
    "    n_indep_decoder=1, # nb independent glu for decoding\n",
    "#     grouped_features=[[0, 1]], # you can group features together here\n",
    "    verbose=5,\n",
    ")"
   ]
  },
  {
   "cell_type": "code",
   "execution_count": 236,
   "id": "ddf8d203-f398-44f5-981b-f93c9290b99a",
   "metadata": {
    "tags": []
   },
   "outputs": [],
   "source": [
    "max_epochs = 1000\n"
   ]
  },
  {
   "cell_type": "code",
   "execution_count": 237,
   "id": "00683ae8-23e4-402a-b2eb-76170f69c6ea",
   "metadata": {
    "tags": []
   },
   "outputs": [],
   "source": [
    "from sklearn.preprocessing import MinMaxScaler"
   ]
  },
  {
   "cell_type": "code",
   "execution_count": 238,
   "id": "877ee8c3-84f3-4b45-b4f1-5f77f3d19399",
   "metadata": {
    "tags": []
   },
   "outputs": [],
   "source": [
    "mc = MinMaxScaler()"
   ]
  },
  {
   "cell_type": "code",
   "execution_count": null,
   "id": "0cd95c71-ea6e-448b-9a49-30bec4c140d7",
   "metadata": {},
   "outputs": [],
   "source": []
  },
  {
   "cell_type": "code",
   "execution_count": 240,
   "id": "11619071-2ee5-4456-be77-57af34494ef9",
   "metadata": {
    "tags": []
   },
   "outputs": [
    {
     "name": "stdout",
     "output_type": "stream",
     "text": [
      "epoch 0  | loss: 42116.58801| val_0_unsup_loss_numpy: 1.3443399667739868|  0:00:08s\n",
      "epoch 5  | loss: 31.35741| val_0_unsup_loss_numpy: 0.6201800107955933|  0:00:49s\n",
      "epoch 10 | loss: 8.15537 | val_0_unsup_loss_numpy: 0.5752300024032593|  0:01:32s\n",
      "epoch 15 | loss: 13.25735| val_0_unsup_loss_numpy: 209.20352172851562|  0:02:21s\n",
      "\n",
      "Early stopping occurred at epoch 19 with best_epoch = 9 and best_val_0_unsup_loss_numpy = 0.5029799938201904\n"
     ]
    },
    {
     "name": "stderr",
     "output_type": "stream",
     "text": [
      "/Users/kimmo/anaconda3/envs/lens-bot-or-not/lib/python3.10/site-packages/pytorch_tabnet/callbacks.py:172: UserWarning: Best weights from best epoch are automatically used!\n",
      "  warnings.warn(wrn_msg)\n"
     ]
    }
   ],
   "source": [
    "unsupervised_model.fit(\n",
    "    eval_set=[mc.fit_transform(training_data.drop('label',axis=1).values)],\n",
    "        X_train=mc.transform(validation_data.values),\n",
    "\n",
    "    max_epochs=max_epochs , patience=10,\n",
    "    batch_size=2048, virtual_batch_size=128,\n",
    "    num_workers=0,\n",
    "    drop_last=False,\n",
    "    pretraining_ratio=0.5,\n",
    ") "
   ]
  },
  {
   "cell_type": "code",
   "execution_count": 242,
   "id": "e8c5bcae-de0d-4d89-9700-47ef083ed842",
   "metadata": {
    "tags": []
   },
   "outputs": [],
   "source": [
    "clf = TabNetClassifier(optimizer_fn=torch.optim.Adam,\n",
    "                       optimizer_params=dict(lr=2e-3),\n",
    "                       scheduler_params={\"step_size\":10, # how to use learning rate scheduler\n",
    "                                         \"gamma\":0.9},\n",
    "                       scheduler_fn=torch.optim.lr_scheduler.StepLR,\n",
    "                       mask_type='sparsemax', # This will be overwritten if using pretrain model\n",
    "                       verbose=5,\n",
    "                      )"
   ]
  },
  {
   "cell_type": "code",
   "execution_count": 243,
   "id": "ed1de940-ffd8-4f0a-bcdf-9c35dc2cec7c",
   "metadata": {
    "tags": []
   },
   "outputs": [
    {
     "name": "stderr",
     "output_type": "stream",
     "text": [
      "/Users/kimmo/anaconda3/envs/lens-bot-or-not/lib/python3.10/site-packages/pytorch_tabnet/abstract_model.py:231: UserWarning: Loading weights from unsupervised pretraining\n",
      "  warnings.warn(\"Loading weights from unsupervised pretraining\")\n"
     ]
    },
    {
     "name": "stdout",
     "output_type": "stream",
     "text": [
      "epoch 0  | loss: 0.9694  | train_auc: 0.58127 | valid_auc: 0.5235  |  0:00:00s\n",
      "epoch 5  | loss: 0.81619 | train_auc: 0.53802 | valid_auc: 0.50691 |  0:00:00s\n",
      "epoch 10 | loss: 0.7609  | train_auc: 0.51906 | valid_auc: 0.5318  |  0:00:00s\n",
      "epoch 15 | loss: 0.86751 | train_auc: 0.54225 | valid_auc: 0.54654 |  0:00:00s\n",
      "epoch 20 | loss: 0.66234 | train_auc: 0.53712 | valid_auc: 0.53364 |  0:00:00s\n",
      "epoch 25 | loss: 0.81883 | train_auc: 0.51839 | valid_auc: 0.52719 |  0:00:00s\n",
      "epoch 30 | loss: 0.64348 | train_auc: 0.52397 | valid_auc: 0.5318  |  0:00:01s\n",
      "epoch 35 | loss: 0.60423 | train_auc: 0.53601 | valid_auc: 0.52074 |  0:00:01s\n",
      "\n",
      "Early stopping occurred at epoch 36 with best_epoch = 16 and best_valid_auc = 0.54747\n"
     ]
    },
    {
     "name": "stderr",
     "output_type": "stream",
     "text": [
      "/Users/kimmo/anaconda3/envs/lens-bot-or-not/lib/python3.10/site-packages/pytorch_tabnet/callbacks.py:172: UserWarning: Best weights from best epoch are automatically used!\n",
      "  warnings.warn(wrn_msg)\n"
     ]
    }
   ],
   "source": [
    "clf.fit(\n",
    "    X_train=mc.fit_transform(X_train.values), y_train=y_train.values,\n",
    "    eval_set=[(mc.transform(X_train.values), y_train.values), (mc.transform(X_test.values), y_test.values)],\n",
    "    eval_name=['train', 'valid'],\n",
    "    eval_metric=['auc'],\n",
    "    max_epochs=max_epochs , patience=20,\n",
    "    batch_size=1024, virtual_batch_size=128,\n",
    "    num_workers=0,\n",
    "    weights=1,\n",
    "    drop_last=False,\n",
    "    from_unsupervised=unsupervised_model,\n",
    "    \n",
    ") "
   ]
  },
  {
   "cell_type": "code",
   "execution_count": 244,
   "id": "3ccee89f-07a1-45e2-9bd8-d62d759db333",
   "metadata": {
    "tags": []
   },
   "outputs": [],
   "source": [
    "from sklearn.metrics import roc_auc_score\n"
   ]
  },
  {
   "cell_type": "code",
   "execution_count": 245,
   "id": "dffe80c9-90b1-447a-8287-1424c9e38837",
   "metadata": {
    "tags": []
   },
   "outputs": [
    {
     "name": "stdout",
     "output_type": "stream",
     "text": [
      "BEST VALID SCORE : 0.5474654377880185\n"
     ]
    }
   ],
   "source": [
    "preds = clf.predict_proba(mc.transform(validation_data.values))\n",
    "# test_auc = roc_auc_score(y_score=preds[:,1], y_true=y_test)\n",
    "\n",
    "\n",
    "preds_valid = clf.predict_proba(mc.transform(X_test.values))\n",
    "valid_auc = roc_auc_score(y_score=preds_valid[:,1], y_true=y_test)\n",
    "\n",
    "print(f\"BEST VALID SCORE : {clf.best_cost}\")\n",
    "#print(f\"FINAL TEST SCORE FOR {dataset_name} : {test_auc}\")"
   ]
  },
  {
   "cell_type": "code",
   "execution_count": 246,
   "id": "27abe80b-2862-4b56-bf00-d6cef9604e2b",
   "metadata": {
    "tags": []
   },
   "outputs": [
    {
     "data": {
      "text/plain": [
       "1    86839\n",
       "0    12965\n",
       "Name: count, dtype: int64"
      ]
     },
     "execution_count": 246,
     "metadata": {},
     "output_type": "execute_result"
    }
   ],
   "source": [
    "pd.Series(preds.argmax(1)).value_counts()"
   ]
  },
  {
   "cell_type": "code",
   "execution_count": 247,
   "id": "b9b8a054-27b2-4b87-beed-8a33d7d705c1",
   "metadata": {
    "tags": []
   },
   "outputs": [
    {
     "data": {
      "text/plain": [
       "array([[5.5105382e-01, 4.4894618e-01],\n",
       "       [5.8892745e-01, 4.1107252e-01],\n",
       "       [5.5105382e-01, 4.4894618e-01],\n",
       "       [0.0000000e+00, 1.0000000e+00],\n",
       "       [0.0000000e+00, 1.0000000e+00],\n",
       "       [0.0000000e+00, 1.0000000e+00],\n",
       "       [3.4695214e-01, 6.5304792e-01],\n",
       "       [0.0000000e+00, 1.0000000e+00],\n",
       "       [0.0000000e+00, 1.0000000e+00],\n",
       "       [1.0000000e+00, 0.0000000e+00],\n",
       "       [5.5105382e-01, 4.4894618e-01],\n",
       "       [0.0000000e+00, 1.0000000e+00],\n",
       "       [0.0000000e+00, 1.0000000e+00],\n",
       "       [5.5105382e-01, 4.4894618e-01],\n",
       "       [3.6372586e-28, 1.0000000e+00],\n",
       "       [3.4695214e-01, 6.5304792e-01],\n",
       "       [4.9204800e-01, 5.0795203e-01],\n",
       "       [0.0000000e+00, 1.0000000e+00],\n",
       "       [5.5105382e-01, 4.4894618e-01],\n",
       "       [5.5105382e-01, 4.4894618e-01],\n",
       "       [0.0000000e+00, 1.0000000e+00],\n",
       "       [6.9197077e-01, 3.0802920e-01],\n",
       "       [0.0000000e+00, 1.0000000e+00],\n",
       "       [4.9204800e-01, 5.0795203e-01],\n",
       "       [5.5105382e-01, 4.4894618e-01],\n",
       "       [1.5243546e-05, 9.9998474e-01],\n",
       "       [1.0000000e+00, 0.0000000e+00],\n",
       "       [5.5105382e-01, 4.4894618e-01],\n",
       "       [0.0000000e+00, 1.0000000e+00],\n",
       "       [9.9974834e-08, 9.9999988e-01],\n",
       "       [4.9204800e-01, 5.0795203e-01],\n",
       "       [5.5105382e-01, 4.4894618e-01],\n",
       "       [6.9197077e-01, 3.0802920e-01],\n",
       "       [2.6878545e-01, 7.3121452e-01],\n",
       "       [0.0000000e+00, 1.0000000e+00],\n",
       "       [0.0000000e+00, 1.0000000e+00],\n",
       "       [0.0000000e+00, 1.0000000e+00],\n",
       "       [0.0000000e+00, 1.0000000e+00],\n",
       "       [0.0000000e+00, 1.0000000e+00],\n",
       "       [3.4695214e-01, 6.5304792e-01],\n",
       "       [3.4695214e-01, 6.5304792e-01],\n",
       "       [0.0000000e+00, 1.0000000e+00],\n",
       "       [5.5105382e-01, 4.4894618e-01],\n",
       "       [5.5105382e-01, 4.4894618e-01],\n",
       "       [0.0000000e+00, 1.0000000e+00],\n",
       "       [0.0000000e+00, 1.0000000e+00],\n",
       "       [5.5105382e-01, 4.4894618e-01],\n",
       "       [5.5105382e-01, 4.4894618e-01],\n",
       "       [0.0000000e+00, 1.0000000e+00],\n",
       "       [5.5105382e-01, 4.4894618e-01],\n",
       "       [0.0000000e+00, 1.0000000e+00],\n",
       "       [1.3259493e-35, 1.0000000e+00],\n",
       "       [5.5105382e-01, 4.4894618e-01],\n",
       "       [0.0000000e+00, 1.0000000e+00],\n",
       "       [0.0000000e+00, 1.0000000e+00],\n",
       "       [5.5105382e-01, 4.4894618e-01],\n",
       "       [0.0000000e+00, 1.0000000e+00],\n",
       "       [5.5105382e-01, 4.4894618e-01],\n",
       "       [0.0000000e+00, 1.0000000e+00],\n",
       "       [6.9197077e-01, 3.0802920e-01],\n",
       "       [0.0000000e+00, 1.0000000e+00],\n",
       "       [6.9197077e-01, 3.0802920e-01],\n",
       "       [5.5105382e-01, 4.4894618e-01],\n",
       "       [5.5105382e-01, 4.4894618e-01],\n",
       "       [3.4695214e-01, 6.5304792e-01],\n",
       "       [7.5389857e-43, 1.0000000e+00]], dtype=float32)"
      ]
     },
     "execution_count": 247,
     "metadata": {},
     "output_type": "execute_result"
    }
   ],
   "source": [
    "clf.predict_proba(X_test.values)"
   ]
  },
  {
   "cell_type": "code",
   "execution_count": null,
   "id": "1f6a2e87-0460-4e62-949a-862812662808",
   "metadata": {},
   "outputs": [],
   "source": []
  },
  {
   "cell_type": "code",
   "execution_count": null,
   "id": "d2b63325-3cf8-4600-8c86-f869e8a109ab",
   "metadata": {},
   "outputs": [],
   "source": []
  }
 ],
 "metadata": {
  "kernelspec": {
   "display_name": "Python 3 (ipykernel)",
   "language": "python",
   "name": "python3"
  },
  "language_info": {
   "codemirror_mode": {
    "name": "ipython",
    "version": 3
   },
   "file_extension": ".py",
   "mimetype": "text/x-python",
   "name": "python",
   "nbconvert_exporter": "python",
   "pygments_lexer": "ipython3",
   "version": "3.10.10"
  }
 },
 "nbformat": 4,
 "nbformat_minor": 5
}
