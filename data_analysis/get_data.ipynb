{
 "cells": [
  {
   "cell_type": "code",
   "execution_count": null,
   "id": "c24fae80-788a-4368-87df-af98b277352c",
   "metadata": {},
   "outputs": [],
   "source": [
    "## get initial set of labels from karma3"
   ]
  },
  {
   "cell_type": "code",
   "execution_count": 2,
   "id": "141c6d19-0782-4c49-b733-e4570f0f064e",
   "metadata": {
    "tags": []
   },
   "outputs": [],
   "source": [
    "import pandas as pd\n",
    "from google.cloud import bigquery\n",
    "import pandas as pd\n",
    "import glob\n",
    "client = bigquery.Client()\n",
    "\n",
    "savepath = f\"data\""
   ]
  },
  {
   "cell_type": "code",
   "execution_count": 3,
   "id": "c0fd8570-e6f1-429f-bc5f-787f0cf85903",
   "metadata": {
    "tags": []
   },
   "outputs": [
    {
     "data": {
      "text/html": [
       "<div>\n",
       "<style scoped>\n",
       "    .dataframe tbody tr th:only-of-type {\n",
       "        vertical-align: middle;\n",
       "    }\n",
       "\n",
       "    .dataframe tbody tr th {\n",
       "        vertical-align: top;\n",
       "    }\n",
       "\n",
       "    .dataframe thead th {\n",
       "        text-align: right;\n",
       "    }\n",
       "</style>\n",
       "<table border=\"1\" class=\"dataframe\">\n",
       "  <thead>\n",
       "    <tr style=\"text-align: right;\">\n",
       "      <th></th>\n",
       "      <th>score</th>\n",
       "      <th>rank</th>\n",
       "      <th>handle</th>\n",
       "      <th>followersCount</th>\n",
       "      <th>id</th>\n",
       "    </tr>\n",
       "  </thead>\n",
       "  <tbody>\n",
       "    <tr>\n",
       "      <th>0</th>\n",
       "      <td>0.064284</td>\n",
       "      <td>1</td>\n",
       "      <td>stani.lens</td>\n",
       "      <td>57607</td>\n",
       "      <td>5</td>\n",
       "    </tr>\n",
       "    <tr>\n",
       "      <th>1</th>\n",
       "      <td>0.059850</td>\n",
       "      <td>2</td>\n",
       "      <td>bradorbradley.lens</td>\n",
       "      <td>33082</td>\n",
       "      <td>36</td>\n",
       "    </tr>\n",
       "    <tr>\n",
       "      <th>2</th>\n",
       "      <td>0.059520</td>\n",
       "      <td>3</td>\n",
       "      <td>christina.lens</td>\n",
       "      <td>28154</td>\n",
       "      <td>142</td>\n",
       "    </tr>\n",
       "    <tr>\n",
       "      <th>3</th>\n",
       "      <td>0.055198</td>\n",
       "      <td>4</td>\n",
       "      <td>blackdave.lens</td>\n",
       "      <td>819</td>\n",
       "      <td>36284</td>\n",
       "    </tr>\n",
       "    <tr>\n",
       "      <th>4</th>\n",
       "      <td>0.054165</td>\n",
       "      <td>5</td>\n",
       "      <td>chriscomrie.lens</td>\n",
       "      <td>4917</td>\n",
       "      <td>73557</td>\n",
       "    </tr>\n",
       "  </tbody>\n",
       "</table>\n",
       "</div>"
      ],
      "text/plain": [
       "      score rank              handle followersCount     id\n",
       "0  0.064284    1          stani.lens          57607      5\n",
       "1  0.059850    2  bradorbradley.lens          33082     36\n",
       "2  0.059520    3      christina.lens          28154    142\n",
       "3  0.055198    4      blackdave.lens            819  36284\n",
       "4  0.054165    5    chriscomrie.lens           4917  73557"
      ]
     },
     "execution_count": 3,
     "metadata": {},
     "output_type": "execute_result"
    }
   ],
   "source": [
    "import requests\n",
    "\n",
    "response = requests.get(\"https://lens-api.k3l.io/profile_count?strategy=creator\")\n",
    "count = response.json()['count']\n",
    "\n",
    "response = requests.get(f\"https://lens-api.k3l.io/profile_scores?strategy=creator&limit={count}\")\n",
    "karma_data = response.json()\n",
    "karma_data = pd.DataFrame(karma_data)\n",
    "karma_data.to_csv('data/karma_data.csv')\n",
    "del response\n",
    "karma_data.head()"
   ]
  },
  {
   "cell_type": "code",
   "execution_count": 4,
   "id": "ada2013f-9011-475b-ada2-1a60227d53bf",
   "metadata": {
    "tags": []
   },
   "outputs": [
    {
     "data": {
      "text/plain": [
       "(100004, 5)"
      ]
     },
     "execution_count": 4,
     "metadata": {},
     "output_type": "execute_result"
    }
   ],
   "source": [
    "karma_data.shape"
   ]
  },
  {
   "cell_type": "code",
   "execution_count": 5,
   "id": "99174db9-f898-4c2e-97d2-5985134564cf",
   "metadata": {
    "tags": []
   },
   "outputs": [],
   "source": [
    "## get bigquery data"
   ]
  },
  {
   "cell_type": "code",
   "execution_count": 13,
   "id": "c286ee5d-742e-4e08-9844-fba54cd7d4a2",
   "metadata": {
    "tags": []
   },
   "outputs": [
    {
     "data": {
      "text/plain": [
       "(82988, 3)"
      ]
     },
     "execution_count": 13,
     "metadata": {},
     "output_type": "execute_result"
    }
   ],
   "source": [
    "\n",
    "\n",
    "def dispatcher_data_query():\n",
    "    return \"\"\"\n",
    "SELECT\n",
    "  profile_id,\n",
    "  profile_dispatcher_address,\n",
    "  block_timestamp AS dispatcher_setup_timestamp\n",
    "FROM\n",
    "  `lens-public-data.polygon.public_profile_dispatcher`\n",
    "\"\"\"\n",
    "\n",
    "\n",
    "\n",
    "\n",
    "# Perform a query.\n",
    "QUERY = dispatcher_data_query()\n",
    "query_job = client.query(QUERY)  # API request\n",
    "# rows = query_job.result()  # Waits for query to finish\n",
    "df = query_job.to_dataframe()\n",
    "df.to_csv(f'{savepath}/dispatcher_data')\n",
    "df.shape"
   ]
  },
  {
   "cell_type": "code",
   "execution_count": 11,
   "id": "bf768e21-df08-46c4-a9e1-7926ebf725f3",
   "metadata": {
    "tags": []
   },
   "outputs": [
    {
     "data": {
      "text/plain": [
       "(116483, 6)"
      ]
     },
     "execution_count": 11,
     "metadata": {},
     "output_type": "execute_result"
    }
   ],
   "source": [
    "\n",
    "def aggregated_stats_query():\n",
    "    return f\"\"\"\n",
    "SELECT\n",
    "  profile_id,\n",
    "  total_posts,\n",
    "  total_comments,\n",
    "  total_mirrors,\n",
    "  total_collects,\n",
    "  datastream_metadata.source_timestamp\n",
    "FROM\n",
    "  `lens-public-data.polygon.public_profile_stats`\n",
    "\"\"\"\n",
    "\n",
    "# Perform a query.\n",
    "QUERY = aggregated_stats_query()\n",
    "query_job = client.query(QUERY)  # API request\n",
    "# rows = query_job.result()  # Waits for query to finish\n",
    "df = query_job.to_dataframe()\n",
    "df.to_csv(f'{savepath}/aggregated_stats')\n",
    "df.shape"
   ]
  },
  {
   "cell_type": "code",
   "execution_count": 12,
   "id": "07131b93-5f24-43f4-ba11-c42375b68c7f",
   "metadata": {
    "tags": []
   },
   "outputs": [
    {
     "data": {
      "text/plain": [
       "(47508, 1)"
      ]
     },
     "execution_count": 12,
     "metadata": {},
     "output_type": "execute_result"
    }
   ],
   "source": [
    "def ens_address_query():\n",
    "    return f\"\"\"\n",
    "SELECT\n",
    "  DISTINCT address\n",
    "FROM\n",
    "  `lens-public-data.polygon.ens_address_reverse_record`\n",
    "\"\"\"\n",
    "\n",
    "# Perform a query.\n",
    "QUERY = ens_address_query()\n",
    "query_job = client.query(QUERY)  # API request\n",
    "# rows = query_job.result()  # Waits for query to finish\n",
    "df = query_job.to_dataframe()\n",
    "df.to_csv(f'{savepath}/ens_address')\n",
    "df.shape"
   ]
  },
  {
   "cell_type": "code",
   "execution_count": 19,
   "id": "19c2bdaf-bb33-4ac1-afc5-617a9d28f1ce",
   "metadata": {
    "tags": []
   },
   "outputs": [
    {
     "data": {
      "text/plain": [
       "(855, 1)"
      ]
     },
     "execution_count": 19,
     "metadata": {},
     "output_type": "execute_result"
    }
   ],
   "source": [
    "def proof_of_humanity_query():\n",
    "    return f\"\"\"\n",
    "SELECT\n",
    "  DISTINCT address\n",
    "FROM\n",
    "  `lens-public-data.polygon.proof_of_humanity_address_to_proof_record`\n",
    "WHERE\n",
    "  is_registered=true\n",
    "\"\"\"\n",
    "\n",
    "# Perform a query.\n",
    "QUERY = proof_of_humanity_query()\n",
    "query_job = client.query(QUERY)  # API request\n",
    "# rows = query_job.result()  # Waits for query to finish\n",
    "df = query_job.to_dataframe()\n",
    "df.to_csv(f'{savepath}/proof_of_humanity')\n",
    "df.shape"
   ]
  },
  {
   "cell_type": "code",
   "execution_count": 20,
   "id": "ca3e0922-8661-4bc1-ac15-b751d6e273a6",
   "metadata": {
    "tags": []
   },
   "outputs": [
    {
     "data": {
      "text/plain": [
       "(2784, 1)"
      ]
     },
     "execution_count": 20,
     "metadata": {},
     "output_type": "execute_result"
    }
   ],
   "source": [
    "def sybil_dot_org_address_verified_twitter_query():\n",
    "    return f\"\"\"\n",
    "SELECT\n",
    "  DISTINCT address\n",
    "FROM\n",
    "  `lens-public-data.polygon.sybil_dot_org_address_verified_twitter`\n",
    "\"\"\"\n",
    "\n",
    "# Perform a query.\n",
    "QUERY = sybil_dot_org_address_verified_twitter_query()\n",
    "query_job = client.query(QUERY)  # API request\n",
    "# rows = query_job.result()  # Waits for query to finish\n",
    "df = query_job.to_dataframe()\n",
    "df.to_csv(f'{savepath}/sybil_dot_org_address_verified_twitter')\n",
    "df.shape"
   ]
  },
  {
   "cell_type": "code",
   "execution_count": 22,
   "id": "4f3002f1-6926-4e09-98e9-5322a7b99df5",
   "metadata": {
    "tags": []
   },
   "outputs": [
    {
     "data": {
      "text/plain": [
       "(54, 1)"
      ]
     },
     "execution_count": 22,
     "metadata": {},
     "output_type": "execute_result"
    }
   ],
   "source": [
    "def worldcoin_human_check_query():\n",
    "    return f\"\"\"\n",
    "SELECT\n",
    "  profile_id\n",
    "FROM\n",
    "  `lens-public-data.polygon.worldcoin_human_check`\n",
    "WHERE\n",
    "  verified=true\n",
    "\"\"\"\n",
    "\n",
    "# Perform a query.\n",
    "QUERY = worldcoin_human_check_query()\n",
    "query_job = client.query(QUERY)  # API request\n",
    "# rows = query_job.result()  # Waits for query to finish\n",
    "df = query_job.to_dataframe()\n",
    "df.to_csv(f'{savepath}/worldcoin_human_check')\n",
    "df.shape"
   ]
  },
  {
   "cell_type": "code",
   "execution_count": 24,
   "id": "39358b72-ff80-4813-bff2-28dceb37d5d8",
   "metadata": {
    "tags": []
   },
   "outputs": [
    {
     "data": {
      "text/plain": [
       "(94732, 3)"
      ]
     },
     "execution_count": 24,
     "metadata": {},
     "output_type": "execute_result"
    }
   ],
   "source": [
    "def most_used_app_query():\n",
    "    return f\"\"\"\n",
    "SELECT\n",
    "  profile_id,\n",
    "  ARRAY_AGG( STRUCT(app_id,\n",
    "      total_posts)\n",
    "  ORDER BY\n",
    "    total_posts DESC\n",
    "  LIMIT\n",
    "    1 )[\n",
    "OFFSET\n",
    "  (0)].app_id AS app_id_highest_posts,\n",
    "  ARRAY_AGG( STRUCT(app_id,\n",
    "      total_posts)\n",
    "  ORDER BY\n",
    "    total_comments DESC\n",
    "  LIMIT\n",
    "    1 )[\n",
    "OFFSET\n",
    "  (0)].app_id AS app_id_highest_comments,\n",
    "FROM\n",
    "  `lens-public-data.polygon.public_app_profile_stats`\n",
    "GROUP BY\n",
    "  profile_id\n",
    "\"\"\"\n",
    "\n",
    "# Perform a query.\n",
    "QUERY = most_used_app_query()\n",
    "query_job = client.query(QUERY)  # API request\n",
    "# rows = query_job.result()  # Waits for query to finish\n",
    "df = query_job.to_dataframe()\n",
    "df.to_csv(f'{savepath}/most_used_app')\n",
    "df.shape"
   ]
  },
  {
   "cell_type": "code",
   "execution_count": 2,
   "id": "0f208492-53f1-4184-9cae-ca3d85b55e94",
   "metadata": {
    "tags": []
   },
   "outputs": [],
   "source": [
    "import numpy as np\n",
    "def q90(x):\n",
    "    return x.quantile(0.9)\n",
    "def q10(x):\n",
    "    return x.quantile(0.1)\n",
    "def q25(x):\n",
    "    return x.quantile(0.25)\n",
    "def q75(x):\n",
    "    return x.quantile(0.75)\n"
   ]
  },
  {
   "cell_type": "code",
   "execution_count": null,
   "id": "fca58738-93dc-4148-ae42-6af1c0138684",
   "metadata": {},
   "outputs": [],
   "source": [
    "def getlags(df, lags=-1, by='profile_id'):\n",
    "    df = df.sort_values(by=['profile_id','block_timestamp'],ascending=[True,False])\n",
    "    shifted = df.groupby(\"profile_id\").shift(lags)\n",
    "    df1 = df.join(shifted.rename(columns=lambda x: x+\"_lag\"))\n",
    "    df1['diff'] = (df1['block_timestamp'] - df1['block_timestamp_lag']).dt.total_seconds()\n",
    "    df1 = df1.groupby('profile_id').agg({\"diff\": [np.mean, np.median,q10,q25,q75,q90,'max','min']})\n",
    "    df1.columns = [f'{i}_{lags[1:]}' for i in df1.columns]\n",
    "    return df1"
   ]
  },
  {
   "cell_type": "code",
   "execution_count": 3,
   "id": "5d949c20-f304-46dc-9311-a9618dadaacb",
   "metadata": {
    "tags": []
   },
   "outputs": [
    {
     "name": "stdout",
     "output_type": "stream",
     "text": [
      "running\n"
     ]
    },
    {
     "data": {
      "text/plain": [
       "(84111, 8)"
      ]
     },
     "execution_count": 3,
     "metadata": {},
     "output_type": "execute_result"
    }
   ],
   "source": [
    "def like_data_insights_query():\n",
    "    return f\"\"\"\n",
    "SELECT\n",
    "actioned_by_profile_id as profile_id, action_at as block_timestamp\n",
    "FROM\n",
    "  `lens-public-data.polygon.public_publication_reaction_records`\n",
    "\"\"\"\n",
    "\n",
    "# Perform a query.\n",
    "QUERY = like_data_insights_query()\n",
    "query_job = client.query(QUERY)  # API request\n",
    "# rows = query_job.result()  # Waits for query to finish\n",
    "df = query_job.to_dataframe()\n",
    "print('running')\n",
    "by = 'profile_id'\n",
    "df1 = getlags(df, lags=-1, by)\n",
    "df2 = getlags(df, lags=-10, by)\n",
    "df3 = getlags(df, lags=-20, by)\n",
    "df1 = df1.join(df2,on=by).join(df3,on=by)\n",
    "\n",
    "df1.to_csv(f'{savepath}/like_data_insights')\n",
    "df1.shape"
   ]
  },
  {
   "cell_type": "code",
   "execution_count": 7,
   "id": "bbd24be8-5cd6-4962-b897-1482ab95a3f4",
   "metadata": {
    "tags": []
   },
   "outputs": [
    {
     "name": "stdout",
     "output_type": "stream",
     "text": [
      "running\n"
     ]
    },
    {
     "data": {
      "text/plain": [
       "(88645, 8)"
      ]
     },
     "execution_count": 7,
     "metadata": {},
     "output_type": "execute_result"
    }
   ],
   "source": [
    "def post_data_insights_query():\n",
    "    return f\"\"\"\n",
    "SELECT\n",
    "  profile_id,\n",
    "  block_timestamp\n",
    "FROM\n",
    "  `lens-public-data.polygon.public_profile_post`\n",
    "WHERE\n",
    "  s3_metadata_location IS NOT NULL\n",
    "  AND has_error IS FALSE\n",
    "  AND is_metadata_processed IS TRUE\n",
    "  AND is_related_to_post IS NULL\n",
    "  AND is_related_to_comment IS null\n",
    "\"\"\"\n",
    "\n",
    "# Perform a query.\n",
    "QUERY = post_data_insights_query()\n",
    "query_job = client.query(QUERY)  # API request\n",
    "# rows = query_job.result()  # Waits for query to finish\n",
    "df = query_job.to_dataframe()\n",
    "print('running')\n",
    "by = 'profile_id'\n",
    "df1 = getlags(df, lags=-1, by)\n",
    "df2 = getlags(df, lags=-10, by)\n",
    "df3 = getlags(df, lags=-20, by)\n",
    "df1 = df1.join(df2,on=by).join(df3,on=by)\n",
    "\n",
    "df1.to_csv(f'{savepath}/post_data_insights')\n",
    "df1.shape"
   ]
  },
  {
   "cell_type": "code",
   "execution_count": 8,
   "id": "ccbb5d82-f94d-4fc7-93cc-d955bb3661c2",
   "metadata": {
    "tags": []
   },
   "outputs": [
    {
     "name": "stdout",
     "output_type": "stream",
     "text": [
      "running\n"
     ]
    },
    {
     "data": {
      "text/plain": [
       "(74423, 8)"
      ]
     },
     "execution_count": 8,
     "metadata": {},
     "output_type": "execute_result"
    }
   ],
   "source": [
    "def mirror_data_insights_query():\n",
    "    return f\"\"\"\n",
    "SELECT\n",
    "  profile_id,\n",
    "  block_timestamp\n",
    "FROM\n",
    "  `lens-public-data.polygon.public_profile_post`\n",
    "WHERE\n",
    "  s3_metadata_location IS NOT NULL\n",
    "  AND has_error IS FALSE\n",
    "  AND is_metadata_processed IS TRUE\n",
    "  AND (is_related_to_post IS NOT NULL\n",
    "    OR is_related_to_comment IS NOT NULL)\n",
    "\"\"\"\n",
    "\n",
    "# Perform a query.\n",
    "QUERY = mirror_data_insights_query()\n",
    "query_job = client.query(QUERY)  # API request\n",
    "# rows = query_job.result()  # Waits for query to finish\n",
    "df = query_job.to_dataframe()\n",
    "print('running')\n",
    "by = 'profile_id'\n",
    "df1 = getlags(df, lags=-1, by)\n",
    "df2 = getlags(df, lags=-10, by)\n",
    "df3 = getlags(df, lags=-20, by)\n",
    "df1 = df1.join(df2,on=by).join(df3,on=by)\n",
    "\n",
    "df1.to_csv(f'{savepath}/mirror_data_insights')\n",
    "df1.shape"
   ]
  },
  {
   "cell_type": "code",
   "execution_count": 11,
   "id": "73ecd3fa-4f6c-437f-9da5-7d541898d9cf",
   "metadata": {
    "tags": []
   },
   "outputs": [
    {
     "name": "stdout",
     "output_type": "stream",
     "text": [
      "running\n"
     ]
    },
    {
     "data": {
      "text/plain": [
       "(72763, 8)"
      ]
     },
     "execution_count": 11,
     "metadata": {},
     "output_type": "execute_result"
    }
   ],
   "source": [
    "def comment_data_insights_query():\n",
    "    return f\"\"\"\n",
    "SELECT\n",
    "  comment_by_profile_id AS profile_id,\n",
    "  block_timestamp\n",
    "FROM\n",
    "  `lens-public-data.polygon.public_post_comment`\n",
    "WHERE\n",
    "  s3_metadata_location IS NOT NULL\n",
    "  AND has_error IS FALSE\n",
    "  AND is_metadata_processed IS true\n",
    "\"\"\"\n",
    "\n",
    "# Perform a query.\n",
    "QUERY = comment_data_insights_query()\n",
    "query_job = client.query(QUERY)  # API request\n",
    "# rows = query_job.result()  # Waits for query to finish\n",
    "df = query_job.to_dataframe()\n",
    "print('running')\n",
    "by = 'profile_id'\n",
    "df1 = getlags(df, lags=-1, by)\n",
    "df2 = getlags(df, lags=-10, by)\n",
    "df3 = getlags(df, lags=-20, by)\n",
    "df1 = df1.join(df2,on=by).join(df3,on=by)\n",
    "\n",
    "df1.to_csv(f'{savepath}/comment_data_insights')\n",
    "df1.shape"
   ]
  },
  {
   "cell_type": "code",
   "execution_count": 12,
   "id": "0fc3d7ea-379f-4fba-9b77-dca08909b365",
   "metadata": {
    "tags": []
   },
   "outputs": [
    {
     "name": "stdout",
     "output_type": "stream",
     "text": [
      "running\n"
     ]
    },
    {
     "data": {
      "text/plain": [
       "(226908, 8)"
      ]
     },
     "execution_count": 12,
     "metadata": {},
     "output_type": "execute_result"
    }
   ],
   "source": [
    "def collect_data_insights_query():\n",
    "    return f\"\"\"\n",
    "SELECT\n",
    "  collected_by AS address,\n",
    "  block_timestamp\n",
    "FROM\n",
    "  `lens-public-data.polygon.public_publication_collect_module_collected_records`\n",
    "\"\"\"\n",
    "\n",
    "# Perform a query.\n",
    "QUERY = collect_data_insights_query()\n",
    "query_job = client.query(QUERY)  # API request\n",
    "# rows = query_job.result()  # Waits for query to finish\n",
    "df = query_job.to_dataframe()\n",
    "print('running')\n",
    "by = 'address'\n",
    "df1 = getlags(df, lags=-1, by)\n",
    "df2 = getlags(df, lags=-10, by)\n",
    "df3 = getlags(df, lags=-20, by)\n",
    "df1 = df1.join(df2,on=by).join(df3,on=by)\n",
    "\n",
    "df1.to_csv(f'{savepath}/collect_data_insights')\n",
    "df1.shape"
   ]
  },
  {
   "cell_type": "code",
   "execution_count": 14,
   "id": "59e46c4d-269a-4b4b-97da-814172f51003",
   "metadata": {
    "tags": []
   },
   "outputs": [
    {
     "name": "stdout",
     "output_type": "stream",
     "text": [
      "running\n"
     ]
    },
    {
     "data": {
      "text/plain": [
       "(47881, 8)"
      ]
     },
     "execution_count": 14,
     "metadata": {},
     "output_type": "execute_result"
    }
   ],
   "source": [
    "def paid_collect_data_insights_query():\n",
    "    return f\"\"\"\n",
    "WITH\n",
    "  paid_pubs AS (\n",
    "  SELECT\n",
    "    publication_id\n",
    "  FROM\n",
    "    `lens-public-data.polygon.public_publication_collect_module_details`\n",
    "  WHERE\n",
    "    amount IS NOT NULL )\n",
    "SELECT\n",
    "  collected_by AS address,\n",
    "  block_timestamp\n",
    "FROM\n",
    "  `lens-public-data.polygon.public_publication_collect_module_collected_records`\n",
    "WHERE\n",
    "  publication_id IN (\n",
    "  SELECT\n",
    "    publication_id\n",
    "  FROM\n",
    "    paid_pubs)\n",
    "\"\"\"\n",
    "\n",
    "# Perform a query.\n",
    "QUERY = paid_collect_data_insights_query()\n",
    "query_job = client.query(QUERY)  # API request\n",
    "# rows = query_job.result()  # Waits for query to finish\n",
    "df = query_job.to_dataframe()\n",
    "print('running')\n",
    "by = 'address'\n",
    "df1 = getlags(df, lags=-1, by)\n",
    "df2 = getlags(df, lags=-10, by)\n",
    "df3 = getlags(df, lags=-20, by)\n",
    "df1 = df1.join(df2,on=by).join(df3,on=by)\n",
    "\n",
    "df1.to_csv(f'{savepath}/paid_collect_data_insights')\n",
    "df1.shape"
   ]
  },
  {
   "cell_type": "code",
   "execution_count": 97,
   "id": "b2f828b5-5d64-47a8-aee4-744eb5f23822",
   "metadata": {
    "tags": []
   },
   "outputs": [
    {
     "data": {
      "text/plain": [
       "(116487, 5)"
      ]
     },
     "execution_count": 97,
     "metadata": {},
     "output_type": "execute_result"
    }
   ],
   "source": [
    "def address_query():\n",
    "    return f\"\"\"\n",
    "SELECT\n",
    "profile_id,\n",
    "owned_by as address,\n",
    "is_default,\n",
    "metadata_block_timestamp,\n",
    "block_timestamp\n",
    "FROM\n",
    "  `lens-public-data.polygon.public_profile`\n",
    "\"\"\"\n",
    "\n",
    "# Perform a query.\n",
    "QUERY = address_query()\n",
    "query_job = client.query(QUERY)  # API request\n",
    "# rows = query_job.result()  # Waits for query to finish\n",
    "df = query_job.to_dataframe()\n",
    "\n",
    "df.to_csv(f'{savepath}/address')\n",
    "df.shape"
   ]
  },
  {
   "cell_type": "markdown",
   "id": "2f90ff1f-ce21-4968-aba4-64d93641c565",
   "metadata": {
    "tags": []
   },
   "source": [
    "# read data and make a csv"
   ]
  },
  {
   "cell_type": "code",
   "execution_count": 3,
   "id": "87facb3a-6e73-46a3-b5bd-b8fe52ca0fa6",
   "metadata": {
    "tags": []
   },
   "outputs": [],
   "source": [
    "files = glob.glob(f'{savepath}/*')"
   ]
  },
  {
   "cell_type": "code",
   "execution_count": 4,
   "id": "94cc6e67-cf4b-460d-908e-5d1ca760a5ae",
   "metadata": {
    "tags": []
   },
   "outputs": [
    {
     "data": {
      "text/plain": [
       "['data/dispatcher_data',\n",
       " 'data/post_data_insights',\n",
       " 'data/collect_data_insights',\n",
       " 'data/comment_data_insights',\n",
       " 'data/like_data_insights',\n",
       " 'data/ens_address',\n",
       " 'data/mirror_data_insights',\n",
       " 'data/most_used_app',\n",
       " 'data/karma_data.csv',\n",
       " 'data/sybil_dot_org_address_verified_twitter',\n",
       " 'data/proof_of_humanity',\n",
       " 'data/address',\n",
       " 'data/worldcoin_human_check',\n",
       " 'data/aggregated_stats',\n",
       " 'data/paid_collect_data_insights']"
      ]
     },
     "execution_count": 4,
     "metadata": {},
     "output_type": "execute_result"
    }
   ],
   "source": [
    "files"
   ]
  },
  {
   "cell_type": "code",
   "execution_count": 5,
   "id": "b66f4b53-25f1-41af-864c-8cf3de6945ea",
   "metadata": {
    "tags": []
   },
   "outputs": [],
   "source": [
    "labels = pd.read_csv(f'{savepath}/karma_data.csv',index_col=0)\n"
   ]
  },
  {
   "cell_type": "code",
   "execution_count": 6,
   "id": "8c505bc8-9d55-4d77-89ce-4eab6d1cc38c",
   "metadata": {
    "tags": []
   },
   "outputs": [],
   "source": [
    "address = pd.read_csv(f'{savepath}/address',index_col=0)\n",
    "address = address.drop({'block_timestamp'},axis=1)#.join( ((pd.to_datetime('2023-04-15',utc=True) - pd.to_datetime(address['block_timestamp'])).dt.total_seconds()/60/24).round(0))\n",
    "address = address.drop({'metadata_block_timestamp'},axis=1)#.join( ((pd.to_datetime('2023-04-15',utc=True) - pd.to_datetime(address['metadata_block_timestamp'])).dt.total_seconds()/60/24).round(0))\n",
    "\n",
    "address = address.rename({'block_timestamp':'days_since_profile_created', 'metadata_block_timestamp':'days_since_metadata_changed'},axis=1)\n",
    "\n"
   ]
  },
  {
   "cell_type": "code",
   "execution_count": 7,
   "id": "3cb466a3-4286-413f-8f4e-cd347a577bb3",
   "metadata": {
    "tags": []
   },
   "outputs": [],
   "source": [
    "dispatcher = pd.read_csv(f'{savepath}/dispatcher_data',index_col=0)\n",
    "dispatcher = dispatcher.drop(['profile_dispatcher_address','dispatcher_setup_timestamp'],axis=1).join(pd.get_dummies(dispatcher['profile_dispatcher_address'])).join( ((pd.to_datetime('2023-04-15',utc=True) - pd.to_datetime(dispatcher['dispatcher_setup_timestamp'])).dt.total_seconds()/60/24).round(0))\n",
    "dispatcher = dispatcher.rename({'dispatcher_setup_timestamp':'days_since_dispatcher_changed'},axis=1)\n",
    "\n",
    "profile_data = pd.merge(dispatcher,address, on='profile_id', how='outer')\n",
    "\n",
    "\n",
    "worldcoin_human = pd.read_csv(f'{savepath}/worldcoin_human_check',index_col=0)\n",
    "worldcoin_human['worldcoin_human']=True\n",
    "profile_data = pd.merge(profile_data,worldcoin_human, on='profile_id', how='outer')\n",
    "\n",
    "aggregated_stats = pd.read_csv(f'{savepath}/aggregated_stats',index_col=0)\n",
    "profile_data = pd.merge(profile_data,aggregated_stats, on='profile_id', how='outer')\n",
    "\n"
   ]
  },
  {
   "cell_type": "code",
   "execution_count": 8,
   "id": "d5bc93ac-4937-4cd9-ac62-63b6856a943b",
   "metadata": {
    "tags": []
   },
   "outputs": [],
   "source": [
    "def read_insight_data(profile_data, name,group_col='profile_id'):\n",
    "    profile_data.copy()\n",
    "    df = pd.read_csv(f'{savepath}/{name}',index_col=0,skiprows=[0,2])\n",
    "    df.columns = [f'{i}_{name}' for i in df.columns]\n",
    "    profile_data = pd.merge(profile_data,df, left_on=group_col,right_index=True, how='outer')\n",
    "    return profile_data\n",
    "\n",
    "profile_data = read_insight_data(profile_data, name='post_data_insights')\n",
    "\n",
    "profile_data = read_insight_data(profile_data, name='comment_data_insights')\n",
    "\n",
    "profile_data = read_insight_data(profile_data, name='mirror_data_insights')\n",
    "\n",
    "profile_data = read_insight_data(profile_data, name='like_data_insights')\n"
   ]
  },
  {
   "cell_type": "code",
   "execution_count": 9,
   "id": "d88a138a-3f17-46fd-be08-7ce432741882",
   "metadata": {
    "tags": []
   },
   "outputs": [],
   "source": [
    "most_used_app = pd.read_csv(f'{savepath}/most_used_app',index_col=0)\n",
    "most_used_app = most_used_app.join(pd.get_dummies(most_used_app[['app_id_highest_posts','app_id_highest_comments']])).drop(['app_id_highest_posts','app_id_highest_comments'],axis=1)\n",
    "profile_data = pd.merge(profile_data,most_used_app, on='profile_id', how='outer')\n"
   ]
  },
  {
   "cell_type": "code",
   "execution_count": 10,
   "id": "771f25b4-ba7a-4ece-bcc9-92a3a308466c",
   "metadata": {
    "tags": []
   },
   "outputs": [],
   "source": [
    "ens_address = pd.read_csv(f'{savepath}/ens_address',index_col=0)\n",
    "ens_address['ens']=True\n",
    "\n",
    "proof_of_humanity = pd.read_csv(f'{savepath}/proof_of_humanity',index_col=0)\n",
    "proof_of_humanity['proof_of_humanity']=True\n",
    "\n",
    "sybil_dot_org_address_verified_twitter = pd.read_csv(f'{savepath}/sybil_dot_org_address_verified_twitter',index_col=0)\n",
    "sybil_dot_org_address_verified_twitter['sybil_dot_org_address_verified_twitter']=True\n",
    "\n",
    "address_data = pd.merge(ens_address,proof_of_humanity, on='address',how='outer')\n",
    "address_data = pd.merge(address_data,sybil_dot_org_address_verified_twitter, on='address',how='outer')\n",
    "\n",
    "address_data = read_insight_data(address_data, name='collect_data_insights',group_col='address')\n",
    "\n",
    "address_data = read_insight_data(address_data, name='paid_collect_data_insights',group_col='address')\n",
    "\n"
   ]
  },
  {
   "cell_type": "code",
   "execution_count": 11,
   "id": "24b2cf9f-770d-48eb-864c-5467737d1381",
   "metadata": {
    "tags": []
   },
   "outputs": [],
   "source": [
    "data = profile_data.merge(address_data,on='address',how='outer').drop('address',axis=1)"
   ]
  },
  {
   "cell_type": "code",
   "execution_count": 12,
   "id": "bf636d99-3640-41f8-b49f-867deafe1673",
   "metadata": {
    "tags": []
   },
   "outputs": [
    {
     "data": {
      "text/plain": [
       "(265680, 214)"
      ]
     },
     "execution_count": 12,
     "metadata": {},
     "output_type": "execute_result"
    }
   ],
   "source": [
    "data.shape"
   ]
  },
  {
   "cell_type": "code",
   "execution_count": 13,
   "id": "3b331801-e2fd-4c38-ae16-997f8a0bf535",
   "metadata": {
    "tags": []
   },
   "outputs": [],
   "source": [
    "def intify(x):\n",
    "    return int(x,16)\n",
    "\n"
   ]
  },
  {
   "cell_type": "code",
   "execution_count": 14,
   "id": "42b49332-75c9-4d0b-bfd7-4d5764bf1a4b",
   "metadata": {
    "tags": []
   },
   "outputs": [
    {
     "data": {
      "text/plain": [
       "(116488, 214)"
      ]
     },
     "execution_count": 14,
     "metadata": {},
     "output_type": "execute_result"
    }
   ],
   "source": [
    "data = data.dropna(subset=['profile_id'])\n",
    "data['id'] = data['profile_id'].apply(intify)\n",
    "data = data.set_index('profile_id')\n",
    "data.shape"
   ]
  },
  {
   "cell_type": "code",
   "execution_count": 15,
   "id": "b65cb8d3-fd46-485b-94a7-61c707cb6b15",
   "metadata": {
    "tags": []
   },
   "outputs": [
    {
     "data": {
      "text/html": [
       "<div>\n",
       "<style scoped>\n",
       "    .dataframe tbody tr th:only-of-type {\n",
       "        vertical-align: middle;\n",
       "    }\n",
       "\n",
       "    .dataframe tbody tr th {\n",
       "        vertical-align: top;\n",
       "    }\n",
       "\n",
       "    .dataframe thead th {\n",
       "        text-align: right;\n",
       "    }\n",
       "</style>\n",
       "<table border=\"1\" class=\"dataframe\">\n",
       "  <thead>\n",
       "    <tr style=\"text-align: right;\">\n",
       "      <th></th>\n",
       "      <th>0x112b57A293d99b79Fe360Af042bb3bfFc824Ab3a</th>\n",
       "      <th>0x25418Bcf53dAe1167cD5d0cad34Eec31C0C37E41</th>\n",
       "      <th>0x3530c7CAc2E47F27bA82a5d0D3671181171292DB</th>\n",
       "      <th>0x45F71328a415129CB25e3917e70f5BCA346C6151</th>\n",
       "      <th>0x46fAf146C4683663667af868dFc2F98ADc27fBd6</th>\n",
       "      <th>0x57B7bf6f792a6181Ec5aFB88cE7bcE330a9d1b67</th>\n",
       "      <th>0x62D0e168e35f87a1dB804C2b2daf63AE4D195cD1</th>\n",
       "      <th>0x6bC45934A408f7151093479bf59933cD3B75701d</th>\n",
       "      <th>0x761010EFc8826fFdcb8Ad005BD935698ed38DfE7</th>\n",
       "      <th>0x76D4fFdA8c66864FA07f0a285B8E01E11b4Bb7b3</th>\n",
       "      <th>...</th>\n",
       "      <th>min_collect_data_insights</th>\n",
       "      <th>mean_paid_collect_data_insights</th>\n",
       "      <th>median_paid_collect_data_insights</th>\n",
       "      <th>q10_paid_collect_data_insights</th>\n",
       "      <th>q25_paid_collect_data_insights</th>\n",
       "      <th>q75_paid_collect_data_insights</th>\n",
       "      <th>q90_paid_collect_data_insights</th>\n",
       "      <th>max_paid_collect_data_insights</th>\n",
       "      <th>min_paid_collect_data_insights</th>\n",
       "      <th>id</th>\n",
       "    </tr>\n",
       "    <tr>\n",
       "      <th>profile_id</th>\n",
       "      <th></th>\n",
       "      <th></th>\n",
       "      <th></th>\n",
       "      <th></th>\n",
       "      <th></th>\n",
       "      <th></th>\n",
       "      <th></th>\n",
       "      <th></th>\n",
       "      <th></th>\n",
       "      <th></th>\n",
       "      <th></th>\n",
       "      <th></th>\n",
       "      <th></th>\n",
       "      <th></th>\n",
       "      <th></th>\n",
       "      <th></th>\n",
       "      <th></th>\n",
       "      <th></th>\n",
       "      <th></th>\n",
       "      <th></th>\n",
       "      <th></th>\n",
       "    </tr>\n",
       "  </thead>\n",
       "  <tbody>\n",
       "    <tr>\n",
       "      <th>0xacae</th>\n",
       "      <td>False</td>\n",
       "      <td>False</td>\n",
       "      <td>False</td>\n",
       "      <td>True</td>\n",
       "      <td>False</td>\n",
       "      <td>False</td>\n",
       "      <td>False</td>\n",
       "      <td>False</td>\n",
       "      <td>False</td>\n",
       "      <td>False</td>\n",
       "      <td>...</td>\n",
       "      <td>34.0</td>\n",
       "      <td>NaN</td>\n",
       "      <td>NaN</td>\n",
       "      <td>NaN</td>\n",
       "      <td>NaN</td>\n",
       "      <td>NaN</td>\n",
       "      <td>NaN</td>\n",
       "      <td>NaN</td>\n",
       "      <td>NaN</td>\n",
       "      <td>44206</td>\n",
       "    </tr>\n",
       "    <tr>\n",
       "      <th>0xf803</th>\n",
       "      <td>False</td>\n",
       "      <td>False</td>\n",
       "      <td>False</td>\n",
       "      <td>False</td>\n",
       "      <td>True</td>\n",
       "      <td>False</td>\n",
       "      <td>False</td>\n",
       "      <td>False</td>\n",
       "      <td>False</td>\n",
       "      <td>False</td>\n",
       "      <td>...</td>\n",
       "      <td>NaN</td>\n",
       "      <td>NaN</td>\n",
       "      <td>NaN</td>\n",
       "      <td>NaN</td>\n",
       "      <td>NaN</td>\n",
       "      <td>NaN</td>\n",
       "      <td>NaN</td>\n",
       "      <td>NaN</td>\n",
       "      <td>NaN</td>\n",
       "      <td>63491</td>\n",
       "    </tr>\n",
       "    <tr>\n",
       "      <th>0xa738</th>\n",
       "      <td>False</td>\n",
       "      <td>False</td>\n",
       "      <td>False</td>\n",
       "      <td>False</td>\n",
       "      <td>False</td>\n",
       "      <td>False</td>\n",
       "      <td>False</td>\n",
       "      <td>True</td>\n",
       "      <td>False</td>\n",
       "      <td>False</td>\n",
       "      <td>...</td>\n",
       "      <td>NaN</td>\n",
       "      <td>NaN</td>\n",
       "      <td>NaN</td>\n",
       "      <td>NaN</td>\n",
       "      <td>NaN</td>\n",
       "      <td>NaN</td>\n",
       "      <td>NaN</td>\n",
       "      <td>NaN</td>\n",
       "      <td>NaN</td>\n",
       "      <td>42808</td>\n",
       "    </tr>\n",
       "    <tr>\n",
       "      <th>0x8d06</th>\n",
       "      <td>False</td>\n",
       "      <td>False</td>\n",
       "      <td>False</td>\n",
       "      <td>True</td>\n",
       "      <td>False</td>\n",
       "      <td>False</td>\n",
       "      <td>False</td>\n",
       "      <td>False</td>\n",
       "      <td>False</td>\n",
       "      <td>False</td>\n",
       "      <td>...</td>\n",
       "      <td>NaN</td>\n",
       "      <td>NaN</td>\n",
       "      <td>NaN</td>\n",
       "      <td>NaN</td>\n",
       "      <td>NaN</td>\n",
       "      <td>NaN</td>\n",
       "      <td>NaN</td>\n",
       "      <td>NaN</td>\n",
       "      <td>NaN</td>\n",
       "      <td>36102</td>\n",
       "    </tr>\n",
       "    <tr>\n",
       "      <th>0xe56e</th>\n",
       "      <td>False</td>\n",
       "      <td>False</td>\n",
       "      <td>False</td>\n",
       "      <td>True</td>\n",
       "      <td>False</td>\n",
       "      <td>False</td>\n",
       "      <td>False</td>\n",
       "      <td>False</td>\n",
       "      <td>False</td>\n",
       "      <td>False</td>\n",
       "      <td>...</td>\n",
       "      <td>NaN</td>\n",
       "      <td>NaN</td>\n",
       "      <td>NaN</td>\n",
       "      <td>NaN</td>\n",
       "      <td>NaN</td>\n",
       "      <td>NaN</td>\n",
       "      <td>NaN</td>\n",
       "      <td>NaN</td>\n",
       "      <td>NaN</td>\n",
       "      <td>58734</td>\n",
       "    </tr>\n",
       "  </tbody>\n",
       "</table>\n",
       "<p>5 rows × 214 columns</p>\n",
       "</div>"
      ],
      "text/plain": [
       "           0x112b57A293d99b79Fe360Af042bb3bfFc824Ab3a   \n",
       "profile_id                                              \n",
       "0xacae                                          False  \\\n",
       "0xf803                                          False   \n",
       "0xa738                                          False   \n",
       "0x8d06                                          False   \n",
       "0xe56e                                          False   \n",
       "\n",
       "           0x25418Bcf53dAe1167cD5d0cad34Eec31C0C37E41   \n",
       "profile_id                                              \n",
       "0xacae                                          False  \\\n",
       "0xf803                                          False   \n",
       "0xa738                                          False   \n",
       "0x8d06                                          False   \n",
       "0xe56e                                          False   \n",
       "\n",
       "           0x3530c7CAc2E47F27bA82a5d0D3671181171292DB   \n",
       "profile_id                                              \n",
       "0xacae                                          False  \\\n",
       "0xf803                                          False   \n",
       "0xa738                                          False   \n",
       "0x8d06                                          False   \n",
       "0xe56e                                          False   \n",
       "\n",
       "           0x45F71328a415129CB25e3917e70f5BCA346C6151   \n",
       "profile_id                                              \n",
       "0xacae                                           True  \\\n",
       "0xf803                                          False   \n",
       "0xa738                                          False   \n",
       "0x8d06                                           True   \n",
       "0xe56e                                           True   \n",
       "\n",
       "           0x46fAf146C4683663667af868dFc2F98ADc27fBd6   \n",
       "profile_id                                              \n",
       "0xacae                                          False  \\\n",
       "0xf803                                           True   \n",
       "0xa738                                          False   \n",
       "0x8d06                                          False   \n",
       "0xe56e                                          False   \n",
       "\n",
       "           0x57B7bf6f792a6181Ec5aFB88cE7bcE330a9d1b67   \n",
       "profile_id                                              \n",
       "0xacae                                          False  \\\n",
       "0xf803                                          False   \n",
       "0xa738                                          False   \n",
       "0x8d06                                          False   \n",
       "0xe56e                                          False   \n",
       "\n",
       "           0x62D0e168e35f87a1dB804C2b2daf63AE4D195cD1   \n",
       "profile_id                                              \n",
       "0xacae                                          False  \\\n",
       "0xf803                                          False   \n",
       "0xa738                                          False   \n",
       "0x8d06                                          False   \n",
       "0xe56e                                          False   \n",
       "\n",
       "           0x6bC45934A408f7151093479bf59933cD3B75701d   \n",
       "profile_id                                              \n",
       "0xacae                                          False  \\\n",
       "0xf803                                          False   \n",
       "0xa738                                           True   \n",
       "0x8d06                                          False   \n",
       "0xe56e                                          False   \n",
       "\n",
       "           0x761010EFc8826fFdcb8Ad005BD935698ed38DfE7   \n",
       "profile_id                                              \n",
       "0xacae                                          False  \\\n",
       "0xf803                                          False   \n",
       "0xa738                                          False   \n",
       "0x8d06                                          False   \n",
       "0xe56e                                          False   \n",
       "\n",
       "           0x76D4fFdA8c66864FA07f0a285B8E01E11b4Bb7b3  ...   \n",
       "profile_id                                             ...   \n",
       "0xacae                                          False  ...  \\\n",
       "0xf803                                          False  ...   \n",
       "0xa738                                          False  ...   \n",
       "0x8d06                                          False  ...   \n",
       "0xe56e                                          False  ...   \n",
       "\n",
       "           min_collect_data_insights mean_paid_collect_data_insights   \n",
       "profile_id                                                             \n",
       "0xacae                          34.0                             NaN  \\\n",
       "0xf803                           NaN                             NaN   \n",
       "0xa738                           NaN                             NaN   \n",
       "0x8d06                           NaN                             NaN   \n",
       "0xe56e                           NaN                             NaN   \n",
       "\n",
       "           median_paid_collect_data_insights q10_paid_collect_data_insights   \n",
       "profile_id                                                                    \n",
       "0xacae                                   NaN                            NaN  \\\n",
       "0xf803                                   NaN                            NaN   \n",
       "0xa738                                   NaN                            NaN   \n",
       "0x8d06                                   NaN                            NaN   \n",
       "0xe56e                                   NaN                            NaN   \n",
       "\n",
       "           q25_paid_collect_data_insights q75_paid_collect_data_insights   \n",
       "profile_id                                                                 \n",
       "0xacae                                NaN                            NaN  \\\n",
       "0xf803                                NaN                            NaN   \n",
       "0xa738                                NaN                            NaN   \n",
       "0x8d06                                NaN                            NaN   \n",
       "0xe56e                                NaN                            NaN   \n",
       "\n",
       "            q90_paid_collect_data_insights max_paid_collect_data_insights   \n",
       "profile_id                                                                  \n",
       "0xacae                                 NaN                            NaN  \\\n",
       "0xf803                                 NaN                            NaN   \n",
       "0xa738                                 NaN                            NaN   \n",
       "0x8d06                                 NaN                            NaN   \n",
       "0xe56e                                 NaN                            NaN   \n",
       "\n",
       "           min_paid_collect_data_insights     id  \n",
       "profile_id                                        \n",
       "0xacae                                NaN  44206  \n",
       "0xf803                                NaN  63491  \n",
       "0xa738                                NaN  42808  \n",
       "0x8d06                                NaN  36102  \n",
       "0xe56e                                NaN  58734  \n",
       "\n",
       "[5 rows x 214 columns]"
      ]
     },
     "execution_count": 15,
     "metadata": {},
     "output_type": "execute_result"
    }
   ],
   "source": [
    "data.head()"
   ]
  },
  {
   "cell_type": "code",
   "execution_count": 16,
   "id": "c72e0b77-bac5-403f-803b-108f53e32c05",
   "metadata": {
    "tags": []
   },
   "outputs": [],
   "source": [
    "data = data.merge(labels,on='id',how='inner')\n",
    "data = data.fillna(-1)"
   ]
  },
  {
   "cell_type": "code",
   "execution_count": 47,
   "id": "685927cc-0745-4401-a5dc-3aa91699ded8",
   "metadata": {
    "tags": []
   },
   "outputs": [
    {
     "name": "stderr",
     "output_type": "stream",
     "text": [
      "/var/folders/yt/6t964r9x3q51ryt05dfj1b3m0000gn/T/ipykernel_59536/523553640.py:4: PerformanceWarning: DataFrame is highly fragmented.  This is usually the result of calling `frame.insert` many times, which has poor performance.  Consider joining all columns at once using pd.concat(axis=1) instead. To get a de-fragmented frame, use `newframe = frame.copy()`\n",
      "  good['label'] = 1\n"
     ]
    }
   ],
   "source": [
    "bad = data.dropna(subset=['rank','total_mirrors']).query('total_mirrors>100').sort_values(by='rank').tail(500).drop(labels.columns,axis=1)\n",
    "good = data.sort_values(by='rank').head(500).drop(labels.columns,axis=1)\n",
    "bad['label'] = 0\n",
    "good['label'] = 1\n",
    "\n",
    "training_data = pd.concat([bad,good])\n",
    "validation_data = data.drop(training_data.index).drop(labels.columns,axis=1)\n"
   ]
  },
  {
   "cell_type": "code",
   "execution_count": 48,
   "id": "127b36a4-1ad4-4b68-ab94-b906be178241",
   "metadata": {
    "tags": []
   },
   "outputs": [],
   "source": [
    "def get_dtypes(data):\n",
    "    data[data.dtypes[data.dtypes=='object'].index] = data[data.dtypes[data.dtypes=='object'].index].astype('int')\n",
    "    data[data.dtypes[data.dtypes=='bool'].index] = data[data.dtypes[data.dtypes=='bool'].index].astype('int')\n",
    "\n",
    "    return data\n"
   ]
  },
  {
   "cell_type": "code",
   "execution_count": 49,
   "id": "0d40edc9-87c8-4df4-83ee-d8f9ecd4afb4",
   "metadata": {
    "tags": []
   },
   "outputs": [],
   "source": [
    "training_data = get_dtypes(training_data)\n",
    "validation_data = get_dtypes(validation_data)"
   ]
  },
  {
   "cell_type": "code",
   "execution_count": null,
   "id": "9a903dc3-66bb-4be7-8453-592d182583e7",
   "metadata": {},
   "outputs": [],
   "source": []
  },
  {
   "cell_type": "code",
   "execution_count": 50,
   "id": "0a202133-dbe1-4cb0-b7da-d7764647da04",
   "metadata": {
    "tags": []
   },
   "outputs": [],
   "source": [
    "from sklearn.model_selection import train_test_split"
   ]
  },
  {
   "cell_type": "code",
   "execution_count": 51,
   "id": "76c19990-37d5-4b85-b775-ee440b4f7940",
   "metadata": {
    "tags": []
   },
   "outputs": [],
   "source": [
    "X_train, X_test, y_train, y_test = train_test_split(training_data.drop('label',axis=1), training_data['label'], test_size=0.33, random_state=42)"
   ]
  },
  {
   "cell_type": "code",
   "execution_count": 52,
   "id": "1774cfa0-8aea-49a6-97a2-d7153daa2e3e",
   "metadata": {
    "tags": []
   },
   "outputs": [
    {
     "data": {
      "text/plain": [
       "int64      160\n",
       "float64     54\n",
       "Name: count, dtype: int64"
      ]
     },
     "execution_count": 52,
     "metadata": {},
     "output_type": "execute_result"
    }
   ],
   "source": [
    "training_data.dtypes.value_counts()"
   ]
  },
  {
   "cell_type": "code",
   "execution_count": 53,
   "id": "2dcc7efd-4cca-4353-b556-d0eb2070adc0",
   "metadata": {
    "tags": []
   },
   "outputs": [],
   "source": [
    "from pytorch_tabnet.tab_model import TabNetClassifier\n"
   ]
  },
  {
   "cell_type": "code",
   "execution_count": 58,
   "id": "160cbcb3-cccc-4cbd-8be9-3e7e9af4209f",
   "metadata": {
    "tags": []
   },
   "outputs": [],
   "source": [
    "from pytorch_tabnet.pretraining import TabNetPretrainer\n",
    "import torch\n",
    "# TabNetPretrainer\n",
    "unsupervised_model = TabNetPretrainer(\n",
    "    optimizer_fn=torch.optim.Adam,\n",
    "    optimizer_params=dict(lr=2e-2),\n",
    "    mask_type='entmax', # \"sparsemax\",\n",
    "    n_shared_decoder=1, # nb shared glu for decoding\n",
    "    n_indep_decoder=1, # nb independent glu for decoding\n",
    "#     grouped_features=[[0, 1]], # you can group features together here\n",
    "    verbose=5,\n",
    ")"
   ]
  },
  {
   "cell_type": "code",
   "execution_count": 59,
   "id": "ddf8d203-f398-44f5-981b-f93c9290b99a",
   "metadata": {
    "tags": []
   },
   "outputs": [],
   "source": [
    "max_epochs = 1000\n"
   ]
  },
  {
   "cell_type": "code",
   "execution_count": 82,
   "id": "00683ae8-23e4-402a-b2eb-76170f69c6ea",
   "metadata": {
    "tags": []
   },
   "outputs": [],
   "source": [
    "from sklearn.preprocessing import QuantileTransformer"
   ]
  },
  {
   "cell_type": "code",
   "execution_count": 83,
   "id": "877ee8c3-84f3-4b45-b4f1-5f77f3d19399",
   "metadata": {
    "tags": []
   },
   "outputs": [],
   "source": [
    "mc = QuantileTransformer()"
   ]
  },
  {
   "cell_type": "code",
   "execution_count": 84,
   "id": "11619071-2ee5-4456-be77-57af34494ef9",
   "metadata": {
    "tags": []
   },
   "outputs": [
    {
     "name": "stdout",
     "output_type": "stream",
     "text": [
      "epoch 0  | loss: 8.86875 | val_0_unsup_loss_numpy: 18190180352.0|  0:00:08s\n",
      "epoch 5  | loss: 0.24432 | val_0_unsup_loss_numpy: 1306392064.0|  0:00:51s\n",
      "epoch 10 | loss: 0.17997 | val_0_unsup_loss_numpy: 436809888.0|  0:01:37s\n",
      "epoch 15 | loss: 0.15985 | val_0_unsup_loss_numpy: 441251488.0|  0:02:29s\n",
      "epoch 20 | loss: 0.14498 | val_0_unsup_loss_numpy: 727568896.0|  0:03:22s\n",
      "epoch 25 | loss: 0.13453 | val_0_unsup_loss_numpy: 545215744.0|  0:04:14s\n",
      "\n",
      "Early stopping occurred at epoch 26 with best_epoch = 16 and best_val_0_unsup_loss_numpy = 312344704.0\n"
     ]
    },
    {
     "name": "stderr",
     "output_type": "stream",
     "text": [
      "/Users/kimmo/anaconda3/envs/lens-bot-or-not/lib/python3.10/site-packages/pytorch_tabnet/callbacks.py:172: UserWarning: Best weights from best epoch are automatically used!\n",
      "  warnings.warn(wrn_msg)\n"
     ]
    }
   ],
   "source": [
    "unsupervised_model.fit(\n",
    "     X_train=mc.fit_transform(validation_data.values),\n",
    "     eval_set=[mc.transform(training_data.drop('label',axis=1).values)],\n",
    "    \n",
    "       \n",
    "\n",
    "    max_epochs=max_epochs , patience=10,\n",
    "    batch_size=2048, virtual_batch_size=128,\n",
    "    num_workers=0,\n",
    "    drop_last=False,\n",
    "    pretraining_ratio=0.5,\n",
    ") "
   ]
  },
  {
   "cell_type": "code",
   "execution_count": 63,
   "id": "e8c5bcae-de0d-4d89-9700-47ef083ed842",
   "metadata": {
    "tags": []
   },
   "outputs": [
    {
     "name": "stderr",
     "output_type": "stream",
     "text": [
      "/Users/kimmo/anaconda3/envs/lens-bot-or-not/lib/python3.10/site-packages/pytorch_tabnet/abstract_model.py:75: UserWarning: Device used : cpu\n",
      "  warnings.warn(f\"Device used : {self.device}\")\n"
     ]
    }
   ],
   "source": [
    "clf = TabNetClassifier(optimizer_fn=torch.optim.Adam,\n",
    "                       optimizer_params=dict(lr=2e-3),\n",
    "                       scheduler_params={\"step_size\":10, # how to use learning rate scheduler\n",
    "                                         \"gamma\":0.9},\n",
    "                       scheduler_fn=torch.optim.lr_scheduler.StepLR,\n",
    "                       mask_type='sparsemax', # This will be overwritten if using pretrain model\n",
    "                       verbose=5,\n",
    "                      )"
   ]
  },
  {
   "cell_type": "code",
   "execution_count": 64,
   "id": "ed1de940-ffd8-4f0a-bcdf-9c35dc2cec7c",
   "metadata": {
    "tags": []
   },
   "outputs": [
    {
     "name": "stderr",
     "output_type": "stream",
     "text": [
      "/Users/kimmo/anaconda3/envs/lens-bot-or-not/lib/python3.10/site-packages/pytorch_tabnet/abstract_model.py:105: UserWarning: Pretraining: mask_type changed from sparsemax to entmax\n",
      "  warnings.warn(wrn_msg)\n",
      "/Users/kimmo/anaconda3/envs/lens-bot-or-not/lib/python3.10/site-packages/pytorch_tabnet/abstract_model.py:231: UserWarning: Loading weights from unsupervised pretraining\n",
      "  warnings.warn(\"Loading weights from unsupervised pretraining\")\n"
     ]
    },
    {
     "name": "stdout",
     "output_type": "stream",
     "text": [
      "epoch 0  | loss: 0.86277 | train_logloss: 0.72051 | valid_logloss: 0.7812  |  0:00:00s\n",
      "epoch 5  | loss: 0.87292 | train_logloss: 0.72321 | valid_logloss: 0.74819 |  0:00:00s\n",
      "\n",
      "Early stopping occurred at epoch 8 with best_epoch = 3 and best_valid_logloss = 0.74399\n"
     ]
    },
    {
     "name": "stderr",
     "output_type": "stream",
     "text": [
      "/Users/kimmo/anaconda3/envs/lens-bot-or-not/lib/python3.10/site-packages/pytorch_tabnet/callbacks.py:172: UserWarning: Best weights from best epoch are automatically used!\n",
      "  warnings.warn(wrn_msg)\n"
     ]
    }
   ],
   "source": [
    "clf.fit(\n",
    "    X_train=mc.fit_transform(X_train.values), y_train=y_train.values,\n",
    "    eval_set=[(mc.transform(X_train.values), y_train.values), (mc.transform(X_test.values), y_test.values)],\n",
    "    eval_name=['train', 'valid'],\n",
    "    eval_metric=['logloss'],\n",
    "    max_epochs=max_epochs , patience=5,\n",
    "    batch_size=1024, virtual_batch_size=128,\n",
    "    num_workers=0,\n",
    "    weights=1,\n",
    "    drop_last=False,\n",
    "    from_unsupervised=unsupervised_model,\n",
    "    \n",
    ") "
   ]
  },
  {
   "cell_type": "code",
   "execution_count": 65,
   "id": "3ccee89f-07a1-45e2-9bd8-d62d759db333",
   "metadata": {
    "tags": []
   },
   "outputs": [],
   "source": [
    "from sklearn.metrics import roc_auc_score\n"
   ]
  },
  {
   "cell_type": "code",
   "execution_count": 66,
   "id": "dffe80c9-90b1-447a-8287-1424c9e38837",
   "metadata": {
    "tags": []
   },
   "outputs": [
    {
     "name": "stdout",
     "output_type": "stream",
     "text": [
      "BEST VALID SCORE : 0.7439870819996505\n"
     ]
    }
   ],
   "source": [
    "preds = clf.predict_proba(mc.transform(validation_data.values))\n",
    "# test_auc = roc_auc_score(y_score=preds[:,1], y_true=y_test)\n",
    "\n",
    "\n",
    "preds_valid = clf.predict_proba(mc.transform(X_test.values))\n",
    "valid_auc = roc_auc_score(y_score=preds_valid[:,1], y_true=y_test)\n",
    "\n",
    "print(f\"BEST VALID SCORE : {clf.best_cost}\")\n",
    "#print(f\"FINAL TEST SCORE FOR {dataset_name} : {test_auc}\")"
   ]
  },
  {
   "cell_type": "code",
   "execution_count": 67,
   "id": "27abe80b-2862-4b56-bf00-d6cef9604e2b",
   "metadata": {
    "tags": []
   },
   "outputs": [
    {
     "data": {
      "text/plain": [
       "0    69670\n",
       "1    29334\n",
       "Name: count, dtype: int64"
      ]
     },
     "execution_count": 67,
     "metadata": {},
     "output_type": "execute_result"
    }
   ],
   "source": [
    "pd.Series(preds.argmax(1)).value_counts()"
   ]
  },
  {
   "cell_type": "code",
   "execution_count": 78,
   "id": "1f6a2e87-0460-4e62-949a-862812662808",
   "metadata": {},
   "outputs": [
    {
     "data": {
      "text/plain": [
       "<Axes: xlabel='rank', ylabel='label'>"
      ]
     },
     "execution_count": 78,
     "metadata": {},
     "output_type": "execute_result"
    },
    {
     "data": {
      "image/png": "[encoded data removed]",
      "text/plain": [
       "<Figure size 640x480 with 1 Axes>"
      ]
     },
     "metadata": {},
     "output_type": "display_data"
    }
   ],
   "source": [
    "pd.Series(preds.argmax(1),name='label').reset_index().join(labels).plot.scatter(x='rank',y='label',alpha=0.01)"
   ]
  },
  {
   "cell_type": "code",
   "execution_count": 80,
   "id": "c3372c87-edff-4fcf-b6f1-5554b125421a",
   "metadata": {
    "tags": []
   },
   "outputs": [
    {
     "data": {
      "text/html": [
       "<div>\n",
       "<style scoped>\n",
       "    .dataframe tbody tr th:only-of-type {\n",
       "        vertical-align: middle;\n",
       "    }\n",
       "\n",
       "    .dataframe tbody tr th {\n",
       "        vertical-align: top;\n",
       "    }\n",
       "\n",
       "    .dataframe thead th {\n",
       "        text-align: right;\n",
       "    }\n",
       "</style>\n",
       "<table border=\"1\" class=\"dataframe\">\n",
       "  <thead>\n",
       "    <tr style=\"text-align: right;\">\n",
       "      <th></th>\n",
       "      <th>index</th>\n",
       "      <th>label</th>\n",
       "      <th>score</th>\n",
       "      <th>rank</th>\n",
       "      <th>handle</th>\n",
       "      <th>followersCount</th>\n",
       "      <th>id</th>\n",
       "    </tr>\n",
       "  </thead>\n",
       "  <tbody>\n",
       "    <tr>\n",
       "      <th>0</th>\n",
       "      <td>0</td>\n",
       "      <td>1</td>\n",
       "      <td>0.064284</td>\n",
       "      <td>1</td>\n",
       "      <td>stani.lens</td>\n",
       "      <td>57607</td>\n",
       "      <td>5</td>\n",
       "    </tr>\n",
       "    <tr>\n",
       "      <th>1</th>\n",
       "      <td>1</td>\n",
       "      <td>0</td>\n",
       "      <td>0.059850</td>\n",
       "      <td>2</td>\n",
       "      <td>bradorbradley.lens</td>\n",
       "      <td>33082</td>\n",
       "      <td>36</td>\n",
       "    </tr>\n",
       "    <tr>\n",
       "      <th>2</th>\n",
       "      <td>2</td>\n",
       "      <td>0</td>\n",
       "      <td>0.059520</td>\n",
       "      <td>3</td>\n",
       "      <td>christina.lens</td>\n",
       "      <td>28154</td>\n",
       "      <td>142</td>\n",
       "    </tr>\n",
       "    <tr>\n",
       "      <th>3</th>\n",
       "      <td>3</td>\n",
       "      <td>0</td>\n",
       "      <td>0.055198</td>\n",
       "      <td>4</td>\n",
       "      <td>blackdave.lens</td>\n",
       "      <td>819</td>\n",
       "      <td>36284</td>\n",
       "    </tr>\n",
       "    <tr>\n",
       "      <th>4</th>\n",
       "      <td>4</td>\n",
       "      <td>1</td>\n",
       "      <td>0.054165</td>\n",
       "      <td>5</td>\n",
       "      <td>chriscomrie.lens</td>\n",
       "      <td>4917</td>\n",
       "      <td>73557</td>\n",
       "    </tr>\n",
       "  </tbody>\n",
       "</table>\n",
       "</div>"
      ],
      "text/plain": [
       "   index  label     score  rank              handle  followersCount     id\n",
       "0      0      1  0.064284     1          stani.lens           57607      5\n",
       "1      1      0  0.059850     2  bradorbradley.lens           33082     36\n",
       "2      2      0  0.059520     3      christina.lens           28154    142\n",
       "3      3      0  0.055198     4      blackdave.lens             819  36284\n",
       "4      4      1  0.054165     5    chriscomrie.lens            4917  73557"
      ]
     },
     "execution_count": 80,
     "metadata": {},
     "output_type": "execute_result"
    }
   ],
   "source": [
    "pd.Series(preds.argmax(1),name='label').reset_index().join(labels).head()"
   ]
  },
  {
   "cell_type": "code",
   "execution_count": null,
   "id": "c204dedc-bab3-41b6-8bc8-2561da0de7df",
   "metadata": {},
   "outputs": [],
   "source": []
  },
  {
   "cell_type": "code",
   "execution_count": null,
   "id": "d2b63325-3cf8-4600-8c86-f869e8a109ab",
   "metadata": {},
   "outputs": [],
   "source": []
  }
 ],
 "metadata": {
  "kernelspec": {
   "display_name": "Python 3 (ipykernel)",
   "language": "python",
   "name": "python3"
  },
  "language_info": {
   "codemirror_mode": {
    "name": "ipython",
    "version": 3
   },
   "file_extension": ".py",
   "mimetype": "text/x-python",
   "name": "python",
   "nbconvert_exporter": "python",
   "pygments_lexer": "ipython3",
   "version": "3.10.10"
  }
 },
 "nbformat": 4,
 "nbformat_minor": 5
}
