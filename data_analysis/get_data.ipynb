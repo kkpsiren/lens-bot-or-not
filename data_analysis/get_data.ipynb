{
 "cells": [
  {
   "cell_type": "code",
   "execution_count": null,
   "id": "c24fae80-788a-4368-87df-af98b277352c",
   "metadata": {},
   "outputs": [],
   "source": [
    "## get initial set of labels from karma3"
   ]
  },
  {
   "cell_type": "code",
   "execution_count": 1,
   "id": "141c6d19-0782-4c49-b733-e4570f0f064e",
   "metadata": {
    "tags": []
   },
   "outputs": [],
   "source": [
    "import pandas as pd\n",
    "from google.cloud import bigquery\n",
    "import pandas as pd\n",
    "import glob\n",
    "client = bigquery.Client()\n",
    "\n",
    "savepath = f\"data\""
   ]
  },
  {
   "cell_type": "code",
   "execution_count": 3,
   "id": "c0fd8570-e6f1-429f-bc5f-787f0cf85903",
   "metadata": {
    "tags": []
   },
   "outputs": [
    {
     "data": {
      "text/html": [
       "<div>\n",
       "<style scoped>\n",
       "    .dataframe tbody tr th:only-of-type {\n",
       "        vertical-align: middle;\n",
       "    }\n",
       "\n",
       "    .dataframe tbody tr th {\n",
       "        vertical-align: top;\n",
       "    }\n",
       "\n",
       "    .dataframe thead th {\n",
       "        text-align: right;\n",
       "    }\n",
       "</style>\n",
       "<table border=\"1\" class=\"dataframe\">\n",
       "  <thead>\n",
       "    <tr style=\"text-align: right;\">\n",
       "      <th></th>\n",
       "      <th>score</th>\n",
       "      <th>rank</th>\n",
       "      <th>handle</th>\n",
       "      <th>followersCount</th>\n",
       "      <th>id</th>\n",
       "    </tr>\n",
       "  </thead>\n",
       "  <tbody>\n",
       "    <tr>\n",
       "      <th>0</th>\n",
       "      <td>0.064284</td>\n",
       "      <td>1</td>\n",
       "      <td>stani.lens</td>\n",
       "      <td>57607</td>\n",
       "      <td>5</td>\n",
       "    </tr>\n",
       "    <tr>\n",
       "      <th>1</th>\n",
       "      <td>0.059850</td>\n",
       "      <td>2</td>\n",
       "      <td>bradorbradley.lens</td>\n",
       "      <td>33082</td>\n",
       "      <td>36</td>\n",
       "    </tr>\n",
       "    <tr>\n",
       "      <th>2</th>\n",
       "      <td>0.059520</td>\n",
       "      <td>3</td>\n",
       "      <td>christina.lens</td>\n",
       "      <td>28154</td>\n",
       "      <td>142</td>\n",
       "    </tr>\n",
       "    <tr>\n",
       "      <th>3</th>\n",
       "      <td>0.055198</td>\n",
       "      <td>4</td>\n",
       "      <td>blackdave.lens</td>\n",
       "      <td>819</td>\n",
       "      <td>36284</td>\n",
       "    </tr>\n",
       "    <tr>\n",
       "      <th>4</th>\n",
       "      <td>0.054165</td>\n",
       "      <td>5</td>\n",
       "      <td>chriscomrie.lens</td>\n",
       "      <td>4917</td>\n",
       "      <td>73557</td>\n",
       "    </tr>\n",
       "  </tbody>\n",
       "</table>\n",
       "</div>"
      ],
      "text/plain": [
       "      score rank              handle followersCount     id\n",
       "0  0.064284    1          stani.lens          57607      5\n",
       "1  0.059850    2  bradorbradley.lens          33082     36\n",
       "2  0.059520    3      christina.lens          28154    142\n",
       "3  0.055198    4      blackdave.lens            819  36284\n",
       "4  0.054165    5    chriscomrie.lens           4917  73557"
      ]
     },
     "execution_count": 3,
     "metadata": {},
     "output_type": "execute_result"
    }
   ],
   "source": [
    "import requests\n",
    "\n",
    "response = requests.get(\"https://lens-api.k3l.io/profile_count?strategy=creator\")\n",
    "count = response.json()['count']\n",
    "\n",
    "response = requests.get(f\"https://lens-api.k3l.io/profile_scores?strategy=creator&limit={count}\")\n",
    "karma_data = response.json()\n",
    "karma_data = pd.DataFrame(karma_data)\n",
    "karma_data.to_csv('data/karma_data.csv')\n",
    "del response\n",
    "karma_data.head()"
   ]
  },
  {
   "cell_type": "code",
   "execution_count": 4,
   "id": "ada2013f-9011-475b-ada2-1a60227d53bf",
   "metadata": {
    "tags": []
   },
   "outputs": [
    {
     "data": {
      "text/plain": [
       "(100004, 5)"
      ]
     },
     "execution_count": 4,
     "metadata": {},
     "output_type": "execute_result"
    }
   ],
   "source": [
    "karma_data.shape"
   ]
  },
  {
   "cell_type": "code",
   "execution_count": 5,
   "id": "99174db9-f898-4c2e-97d2-5985134564cf",
   "metadata": {
    "tags": []
   },
   "outputs": [],
   "source": [
    "## get bigquery data"
   ]
  },
  {
   "cell_type": "code",
   "execution_count": 13,
   "id": "c286ee5d-742e-4e08-9844-fba54cd7d4a2",
   "metadata": {
    "tags": []
   },
   "outputs": [
    {
     "data": {
      "text/plain": [
       "(82988, 3)"
      ]
     },
     "execution_count": 13,
     "metadata": {},
     "output_type": "execute_result"
    }
   ],
   "source": [
    "\n",
    "\n",
    "def dispatcher_data_query():\n",
    "    return \"\"\"\n",
    "SELECT\n",
    "  profile_id,\n",
    "  profile_dispatcher_address,\n",
    "  block_timestamp AS dispatcher_setup_timestamp\n",
    "FROM\n",
    "  `lens-public-data.polygon.public_profile_dispatcher`\n",
    "\"\"\"\n",
    "\n",
    "\n",
    "\n",
    "\n",
    "# Perform a query.\n",
    "QUERY = dispatcher_data_query()\n",
    "query_job = client.query(QUERY)  # API request\n",
    "# rows = query_job.result()  # Waits for query to finish\n",
    "df = query_job.to_dataframe()\n",
    "df.to_csv(f'{savepath}/dispatcher_data')\n",
    "df.shape"
   ]
  },
  {
   "cell_type": "code",
   "execution_count": 11,
   "id": "bf768e21-df08-46c4-a9e1-7926ebf725f3",
   "metadata": {
    "tags": []
   },
   "outputs": [
    {
     "data": {
      "text/plain": [
       "(116483, 6)"
      ]
     },
     "execution_count": 11,
     "metadata": {},
     "output_type": "execute_result"
    }
   ],
   "source": [
    "\n",
    "def aggregated_stats_query():\n",
    "    return f\"\"\"\n",
    "SELECT\n",
    "  profile_id,\n",
    "  total_posts,\n",
    "  total_comments,\n",
    "  total_mirrors,\n",
    "  total_collects,\n",
    "  datastream_metadata.source_timestamp\n",
    "FROM\n",
    "  `lens-public-data.polygon.public_profile_stats`\n",
    "\"\"\"\n",
    "\n",
    "# Perform a query.\n",
    "QUERY = aggregated_stats_query()\n",
    "query_job = client.query(QUERY)  # API request\n",
    "# rows = query_job.result()  # Waits for query to finish\n",
    "df = query_job.to_dataframe()\n",
    "df.to_csv(f'{savepath}/aggregated_stats')\n",
    "df.shape"
   ]
  },
  {
   "cell_type": "code",
   "execution_count": 12,
   "id": "07131b93-5f24-43f4-ba11-c42375b68c7f",
   "metadata": {
    "tags": []
   },
   "outputs": [
    {
     "data": {
      "text/plain": [
       "(47508, 1)"
      ]
     },
     "execution_count": 12,
     "metadata": {},
     "output_type": "execute_result"
    }
   ],
   "source": [
    "def ens_address_query():\n",
    "    return f\"\"\"\n",
    "SELECT\n",
    "  DISTINCT address\n",
    "FROM\n",
    "  `lens-public-data.polygon.ens_address_reverse_record`\n",
    "\"\"\"\n",
    "\n",
    "# Perform a query.\n",
    "QUERY = ens_address_query()\n",
    "query_job = client.query(QUERY)  # API request\n",
    "# rows = query_job.result()  # Waits for query to finish\n",
    "df = query_job.to_dataframe()\n",
    "df.to_csv(f'{savepath}/ens_address')\n",
    "df.shape"
   ]
  },
  {
   "cell_type": "code",
   "execution_count": 19,
   "id": "19c2bdaf-bb33-4ac1-afc5-617a9d28f1ce",
   "metadata": {
    "tags": []
   },
   "outputs": [
    {
     "data": {
      "text/plain": [
       "(855, 1)"
      ]
     },
     "execution_count": 19,
     "metadata": {},
     "output_type": "execute_result"
    }
   ],
   "source": [
    "def proof_of_humanity_query():\n",
    "    return f\"\"\"\n",
    "SELECT\n",
    "  DISTINCT address\n",
    "FROM\n",
    "  `lens-public-data.polygon.proof_of_humanity_address_to_proof_record`\n",
    "WHERE\n",
    "  is_registered=true\n",
    "\"\"\"\n",
    "\n",
    "# Perform a query.\n",
    "QUERY = proof_of_humanity_query()\n",
    "query_job = client.query(QUERY)  # API request\n",
    "# rows = query_job.result()  # Waits for query to finish\n",
    "df = query_job.to_dataframe()\n",
    "df.to_csv(f'{savepath}/proof_of_humanity')\n",
    "df.shape"
   ]
  },
  {
   "cell_type": "code",
   "execution_count": 20,
   "id": "ca3e0922-8661-4bc1-ac15-b751d6e273a6",
   "metadata": {
    "tags": []
   },
   "outputs": [
    {
     "data": {
      "text/plain": [
       "(2784, 1)"
      ]
     },
     "execution_count": 20,
     "metadata": {},
     "output_type": "execute_result"
    }
   ],
   "source": [
    "def sybil_dot_org_address_verified_twitter_query():\n",
    "    return f\"\"\"\n",
    "SELECT\n",
    "  DISTINCT address\n",
    "FROM\n",
    "  `lens-public-data.polygon.sybil_dot_org_address_verified_twitter`\n",
    "\"\"\"\n",
    "\n",
    "# Perform a query.\n",
    "QUERY = sybil_dot_org_address_verified_twitter_query()\n",
    "query_job = client.query(QUERY)  # API request\n",
    "# rows = query_job.result()  # Waits for query to finish\n",
    "df = query_job.to_dataframe()\n",
    "df.to_csv(f'{savepath}/sybil_dot_org_address_verified_twitter')\n",
    "df.shape"
   ]
  },
  {
   "cell_type": "code",
   "execution_count": 22,
   "id": "4f3002f1-6926-4e09-98e9-5322a7b99df5",
   "metadata": {
    "tags": []
   },
   "outputs": [
    {
     "data": {
      "text/plain": [
       "(54, 1)"
      ]
     },
     "execution_count": 22,
     "metadata": {},
     "output_type": "execute_result"
    }
   ],
   "source": [
    "def worldcoin_human_check_query():\n",
    "    return f\"\"\"\n",
    "SELECT\n",
    "  profile_id\n",
    "FROM\n",
    "  `lens-public-data.polygon.worldcoin_human_check`\n",
    "WHERE\n",
    "  verified=true\n",
    "\"\"\"\n",
    "\n",
    "# Perform a query.\n",
    "QUERY = worldcoin_human_check_query()\n",
    "query_job = client.query(QUERY)  # API request\n",
    "# rows = query_job.result()  # Waits for query to finish\n",
    "df = query_job.to_dataframe()\n",
    "df.to_csv(f'{savepath}/worldcoin_human_check')\n",
    "df.shape"
   ]
  },
  {
   "cell_type": "code",
   "execution_count": 24,
   "id": "39358b72-ff80-4813-bff2-28dceb37d5d8",
   "metadata": {
    "tags": []
   },
   "outputs": [
    {
     "data": {
      "text/plain": [
       "(94732, 3)"
      ]
     },
     "execution_count": 24,
     "metadata": {},
     "output_type": "execute_result"
    }
   ],
   "source": [
    "def most_used_app_query():\n",
    "    return f\"\"\"\n",
    "SELECT\n",
    "  profile_id,\n",
    "  ARRAY_AGG( STRUCT(app_id,\n",
    "      total_posts)\n",
    "  ORDER BY\n",
    "    total_posts DESC\n",
    "  LIMIT\n",
    "    1 )[\n",
    "OFFSET\n",
    "  (0)].app_id AS app_id_highest_posts,\n",
    "  ARRAY_AGG( STRUCT(app_id,\n",
    "      total_posts)\n",
    "  ORDER BY\n",
    "    total_comments DESC\n",
    "  LIMIT\n",
    "    1 )[\n",
    "OFFSET\n",
    "  (0)].app_id AS app_id_highest_comments,\n",
    "FROM\n",
    "  `lens-public-data.polygon.public_app_profile_stats`\n",
    "GROUP BY\n",
    "  profile_id\n",
    "\"\"\"\n",
    "\n",
    "# Perform a query.\n",
    "QUERY = most_used_app_query()\n",
    "query_job = client.query(QUERY)  # API request\n",
    "# rows = query_job.result()  # Waits for query to finish\n",
    "df = query_job.to_dataframe()\n",
    "df.to_csv(f'{savepath}/most_used_app')\n",
    "df.shape"
   ]
  },
  {
   "cell_type": "code",
   "execution_count": 2,
   "id": "0f208492-53f1-4184-9cae-ca3d85b55e94",
   "metadata": {
    "tags": []
   },
   "outputs": [],
   "source": [
    "import numpy as np\n",
    "def q90(x):\n",
    "    return x.quantile(0.9)\n",
    "def q10(x):\n",
    "    return x.quantile(0.1)\n",
    "def q25(x):\n",
    "    return x.quantile(0.25)\n",
    "def q75(x):\n",
    "    return x.quantile(0.75)\n"
   ]
  },
  {
   "cell_type": "code",
   "execution_count": 15,
   "id": "fca58738-93dc-4148-ae42-6af1c0138684",
   "metadata": {},
   "outputs": [],
   "source": [
    "def getlags(df, lags=-1, by='profile_id'):\n",
    "    df = df.sort_values(by=[by,'block_timestamp'],ascending=[True,False])\n",
    "    shifted = df.groupby(by).shift(lags)\n",
    "    df1 = df.join(shifted.rename(columns=lambda x: x+\"_lag\"))\n",
    "    df1['diff'] = (df1['block_timestamp'] - df1['block_timestamp_lag']).dt.total_seconds()\n",
    "    df1 = df1.groupby(by).agg({\"diff\": [np.mean, np.median,q10,q25,q75,q90,'max','min']})\n",
    "    df1.columns = [f'{i}_{str(lags)[1:]}' for i in df1.columns]\n",
    "    return df1"
   ]
  },
  {
   "cell_type": "code",
   "execution_count": 6,
   "id": "8a0735cc-cae0-4d15-9432-2d9e9146de59",
   "metadata": {
    "tags": []
   },
   "outputs": [
    {
     "data": {
      "text/plain": [
       "(84118, 24)"
      ]
     },
     "execution_count": 6,
     "metadata": {},
     "output_type": "execute_result"
    }
   ],
   "source": []
  },
  {
   "cell_type": "code",
   "execution_count": 4,
   "id": "5d949c20-f304-46dc-9311-a9618dadaacb",
   "metadata": {
    "tags": []
   },
   "outputs": [
    {
     "name": "stdout",
     "output_type": "stream",
     "text": [
      "running\n"
     ]
    },
    {
     "ename": "TypeError",
     "evalue": "'int' object is not subscriptable",
     "output_type": "error",
     "traceback": [
      "\u001b[0;31m---------------------------------------------------------------------------\u001b[0m",
      "\u001b[0;31mTypeError\u001b[0m                                 Traceback (most recent call last)",
      "Cell \u001b[0;32mIn[4], line 16\u001b[0m\n\u001b[1;32m     14\u001b[0m \u001b[38;5;28mprint\u001b[39m(\u001b[38;5;124m'\u001b[39m\u001b[38;5;124mrunning\u001b[39m\u001b[38;5;124m'\u001b[39m)\n\u001b[1;32m     15\u001b[0m by \u001b[38;5;241m=\u001b[39m \u001b[38;5;124m'\u001b[39m\u001b[38;5;124mprofile_id\u001b[39m\u001b[38;5;124m'\u001b[39m\n\u001b[0;32m---> 16\u001b[0m df1 \u001b[38;5;241m=\u001b[39m \u001b[43mgetlags\u001b[49m\u001b[43m(\u001b[49m\u001b[43mdf\u001b[49m\u001b[43m,\u001b[49m\u001b[43m \u001b[49m\u001b[43mlags\u001b[49m\u001b[38;5;241;43m=\u001b[39;49m\u001b[38;5;241;43m-\u001b[39;49m\u001b[38;5;241;43m1\u001b[39;49m\u001b[43m,\u001b[49m\u001b[43m \u001b[49m\u001b[43mby\u001b[49m\u001b[38;5;241;43m=\u001b[39;49m\u001b[43mby\u001b[49m\u001b[43m)\u001b[49m\n\u001b[1;32m     17\u001b[0m df2 \u001b[38;5;241m=\u001b[39m getlags(df, lags\u001b[38;5;241m=\u001b[39m\u001b[38;5;241m-\u001b[39m\u001b[38;5;241m10\u001b[39m, by\u001b[38;5;241m=\u001b[39mby)\n\u001b[1;32m     18\u001b[0m df3 \u001b[38;5;241m=\u001b[39m getlags(df, lags\u001b[38;5;241m=\u001b[39m\u001b[38;5;241m-\u001b[39m\u001b[38;5;241m20\u001b[39m, by\u001b[38;5;241m=\u001b[39mby)\n",
      "Cell \u001b[0;32mIn[3], line 7\u001b[0m, in \u001b[0;36mgetlags\u001b[0;34m(df, lags, by)\u001b[0m\n\u001b[1;32m      5\u001b[0m df1[\u001b[38;5;124m'\u001b[39m\u001b[38;5;124mdiff\u001b[39m\u001b[38;5;124m'\u001b[39m] \u001b[38;5;241m=\u001b[39m (df1[\u001b[38;5;124m'\u001b[39m\u001b[38;5;124mblock_timestamp\u001b[39m\u001b[38;5;124m'\u001b[39m] \u001b[38;5;241m-\u001b[39m df1[\u001b[38;5;124m'\u001b[39m\u001b[38;5;124mblock_timestamp_lag\u001b[39m\u001b[38;5;124m'\u001b[39m])\u001b[38;5;241m.\u001b[39mdt\u001b[38;5;241m.\u001b[39mtotal_seconds()\n\u001b[1;32m      6\u001b[0m df1 \u001b[38;5;241m=\u001b[39m df1\u001b[38;5;241m.\u001b[39mgroupby(\u001b[38;5;124m'\u001b[39m\u001b[38;5;124mprofile_id\u001b[39m\u001b[38;5;124m'\u001b[39m)\u001b[38;5;241m.\u001b[39magg({\u001b[38;5;124m\"\u001b[39m\u001b[38;5;124mdiff\u001b[39m\u001b[38;5;124m\"\u001b[39m: [np\u001b[38;5;241m.\u001b[39mmean, np\u001b[38;5;241m.\u001b[39mmedian,q10,q25,q75,q90,\u001b[38;5;124m'\u001b[39m\u001b[38;5;124mmax\u001b[39m\u001b[38;5;124m'\u001b[39m,\u001b[38;5;124m'\u001b[39m\u001b[38;5;124mmin\u001b[39m\u001b[38;5;124m'\u001b[39m]})\n\u001b[0;32m----> 7\u001b[0m df1\u001b[38;5;241m.\u001b[39mcolumns \u001b[38;5;241m=\u001b[39m [\u001b[38;5;124mf\u001b[39m\u001b[38;5;124m'\u001b[39m\u001b[38;5;132;01m{\u001b[39;00mi\u001b[38;5;132;01m}\u001b[39;00m\u001b[38;5;124m_\u001b[39m\u001b[38;5;132;01m{\u001b[39;00mlags[\u001b[38;5;241m1\u001b[39m:]\u001b[38;5;132;01m}\u001b[39;00m\u001b[38;5;124m'\u001b[39m \u001b[38;5;28;01mfor\u001b[39;00m i \u001b[38;5;129;01min\u001b[39;00m df1\u001b[38;5;241m.\u001b[39mcolumns]\n\u001b[1;32m      8\u001b[0m \u001b[38;5;28;01mreturn\u001b[39;00m df1\n",
      "Cell \u001b[0;32mIn[3], line 7\u001b[0m, in \u001b[0;36m<listcomp>\u001b[0;34m(.0)\u001b[0m\n\u001b[1;32m      5\u001b[0m df1[\u001b[38;5;124m'\u001b[39m\u001b[38;5;124mdiff\u001b[39m\u001b[38;5;124m'\u001b[39m] \u001b[38;5;241m=\u001b[39m (df1[\u001b[38;5;124m'\u001b[39m\u001b[38;5;124mblock_timestamp\u001b[39m\u001b[38;5;124m'\u001b[39m] \u001b[38;5;241m-\u001b[39m df1[\u001b[38;5;124m'\u001b[39m\u001b[38;5;124mblock_timestamp_lag\u001b[39m\u001b[38;5;124m'\u001b[39m])\u001b[38;5;241m.\u001b[39mdt\u001b[38;5;241m.\u001b[39mtotal_seconds()\n\u001b[1;32m      6\u001b[0m df1 \u001b[38;5;241m=\u001b[39m df1\u001b[38;5;241m.\u001b[39mgroupby(\u001b[38;5;124m'\u001b[39m\u001b[38;5;124mprofile_id\u001b[39m\u001b[38;5;124m'\u001b[39m)\u001b[38;5;241m.\u001b[39magg({\u001b[38;5;124m\"\u001b[39m\u001b[38;5;124mdiff\u001b[39m\u001b[38;5;124m\"\u001b[39m: [np\u001b[38;5;241m.\u001b[39mmean, np\u001b[38;5;241m.\u001b[39mmedian,q10,q25,q75,q90,\u001b[38;5;124m'\u001b[39m\u001b[38;5;124mmax\u001b[39m\u001b[38;5;124m'\u001b[39m,\u001b[38;5;124m'\u001b[39m\u001b[38;5;124mmin\u001b[39m\u001b[38;5;124m'\u001b[39m]})\n\u001b[0;32m----> 7\u001b[0m df1\u001b[38;5;241m.\u001b[39mcolumns \u001b[38;5;241m=\u001b[39m [\u001b[38;5;124mf\u001b[39m\u001b[38;5;124m'\u001b[39m\u001b[38;5;132;01m{\u001b[39;00mi\u001b[38;5;132;01m}\u001b[39;00m\u001b[38;5;124m_\u001b[39m\u001b[38;5;132;01m{\u001b[39;00m\u001b[43mlags\u001b[49m\u001b[43m[\u001b[49m\u001b[38;5;241;43m1\u001b[39;49m\u001b[43m:\u001b[49m\u001b[43m]\u001b[49m\u001b[38;5;132;01m}\u001b[39;00m\u001b[38;5;124m'\u001b[39m \u001b[38;5;28;01mfor\u001b[39;00m i \u001b[38;5;129;01min\u001b[39;00m df1\u001b[38;5;241m.\u001b[39mcolumns]\n\u001b[1;32m      8\u001b[0m \u001b[38;5;28;01mreturn\u001b[39;00m df1\n",
      "\u001b[0;31mTypeError\u001b[0m: 'int' object is not subscriptable"
     ]
    }
   ],
   "source": [
    "def like_data_insights_query():\n",
    "    return f\"\"\"\n",
    "SELECT\n",
    "actioned_by_profile_id as profile_id, action_at as block_timestamp\n",
    "FROM\n",
    "  `lens-public-data.polygon.public_publication_reaction_records`\n",
    "\"\"\"\n",
    "\n",
    "# Perform a query.\n",
    "QUERY = like_data_insights_query()\n",
    "query_job = client.query(QUERY)  # API request\n",
    "# rows = query_job.result()  # Waits for query to finish\n",
    "df = query_job.to_dataframe()\n",
    "print('running')\n",
    "by = 'profile_id'\n",
    "df1 = getlags(df, lags=-1, by=by)\n",
    "df2 = getlags(df, lags=-10, by=by)\n",
    "df3 = getlags(df, lags=-20, by=by)\n",
    "df1 = df1.join(df2,on=by).join(df3,on=by)\n",
    "\n",
    "df1.to_csv(f'{savepath}/like_data_insights')\n",
    "df1.shape"
   ]
  },
  {
   "cell_type": "code",
   "execution_count": 7,
   "id": "bbd24be8-5cd6-4962-b897-1482ab95a3f4",
   "metadata": {
    "tags": []
   },
   "outputs": [
    {
     "name": "stdout",
     "output_type": "stream",
     "text": [
      "running\n"
     ]
    },
    {
     "data": {
      "text/plain": [
       "(88681, 24)"
      ]
     },
     "execution_count": 7,
     "metadata": {},
     "output_type": "execute_result"
    }
   ],
   "source": [
    "def post_data_insights_query():\n",
    "    return f\"\"\"\n",
    "SELECT\n",
    "  profile_id,\n",
    "  block_timestamp\n",
    "FROM\n",
    "  `lens-public-data.polygon.public_profile_post`\n",
    "WHERE\n",
    "  s3_metadata_location IS NOT NULL\n",
    "  AND has_error IS FALSE\n",
    "  AND is_metadata_processed IS TRUE\n",
    "  AND is_related_to_post IS NULL\n",
    "  AND is_related_to_comment IS null\n",
    "\"\"\"\n",
    "\n",
    "# Perform a query.\n",
    "QUERY = post_data_insights_query()\n",
    "query_job = client.query(QUERY)  # API request\n",
    "# rows = query_job.result()  # Waits for query to finish\n",
    "df = query_job.to_dataframe()\n",
    "print('running')\n",
    "by = 'profile_id'\n",
    "df1 = getlags(df, lags=-1, by=by)\n",
    "df2 = getlags(df, lags=-10, by=by)\n",
    "df3 = getlags(df, lags=-20, by=by)\n",
    "df1 = df1.join(df2,on=by).join(df3,on=by)\n",
    "\n",
    "df1.to_csv(f'{savepath}/post_data_insights')\n",
    "df1.shape"
   ]
  },
  {
   "cell_type": "code",
   "execution_count": 8,
   "id": "ccbb5d82-f94d-4fc7-93cc-d955bb3661c2",
   "metadata": {
    "tags": []
   },
   "outputs": [
    {
     "name": "stdout",
     "output_type": "stream",
     "text": [
      "running\n"
     ]
    },
    {
     "data": {
      "text/plain": [
       "(74481, 24)"
      ]
     },
     "execution_count": 8,
     "metadata": {},
     "output_type": "execute_result"
    }
   ],
   "source": [
    "def mirror_data_insights_query():\n",
    "    return f\"\"\"\n",
    "SELECT\n",
    "  profile_id,\n",
    "  block_timestamp\n",
    "FROM\n",
    "  `lens-public-data.polygon.public_profile_post`\n",
    "WHERE\n",
    "  s3_metadata_location IS NOT NULL\n",
    "  AND has_error IS FALSE\n",
    "  AND is_metadata_processed IS TRUE\n",
    "  AND (is_related_to_post IS NOT NULL\n",
    "    OR is_related_to_comment IS NOT NULL)\n",
    "\"\"\"\n",
    "\n",
    "# Perform a query.\n",
    "QUERY = mirror_data_insights_query()\n",
    "query_job = client.query(QUERY)  # API request\n",
    "# rows = query_job.result()  # Waits for query to finish\n",
    "df = query_job.to_dataframe()\n",
    "print('running')\n",
    "by = 'profile_id'\n",
    "df1 = getlags(df, lags=-1, by=by)\n",
    "df2 = getlags(df, lags=-10, by=by)\n",
    "df3 = getlags(df, lags=-20, by=by)\n",
    "df1 = df1.join(df2,on=by).join(df3,on=by)\n",
    "\n",
    "df1.to_csv(f'{savepath}/mirror_data_insights')\n",
    "df1.shape"
   ]
  },
  {
   "cell_type": "code",
   "execution_count": 9,
   "id": "73ecd3fa-4f6c-437f-9da5-7d541898d9cf",
   "metadata": {
    "tags": []
   },
   "outputs": [
    {
     "name": "stdout",
     "output_type": "stream",
     "text": [
      "running\n"
     ]
    },
    {
     "data": {
      "text/plain": [
       "(72821, 24)"
      ]
     },
     "execution_count": 9,
     "metadata": {},
     "output_type": "execute_result"
    }
   ],
   "source": [
    "def comment_data_insights_query():\n",
    "    return f\"\"\"\n",
    "SELECT\n",
    "  comment_by_profile_id AS profile_id,\n",
    "  block_timestamp\n",
    "FROM\n",
    "  `lens-public-data.polygon.public_post_comment`\n",
    "WHERE\n",
    "  s3_metadata_location IS NOT NULL\n",
    "  AND has_error IS FALSE\n",
    "  AND is_metadata_processed IS true\n",
    "\"\"\"\n",
    "\n",
    "# Perform a query.\n",
    "QUERY = comment_data_insights_query()\n",
    "query_job = client.query(QUERY)  # API request\n",
    "# rows = query_job.result()  # Waits for query to finish\n",
    "df = query_job.to_dataframe()\n",
    "print('running')\n",
    "by = 'profile_id'\n",
    "df1 = getlags(df, lags=-1, by=by)\n",
    "df2 = getlags(df, lags=-10, by=by)\n",
    "df3 = getlags(df, lags=-20, by=by)\n",
    "df1 = df1.join(df2,on=by).join(df3,on=by)\n",
    "\n",
    "df1.to_csv(f'{savepath}/comment_data_insights')\n",
    "df1.shape"
   ]
  },
  {
   "cell_type": "code",
   "execution_count": 10,
   "id": "0fc3d7ea-379f-4fba-9b77-dca08909b365",
   "metadata": {
    "tags": []
   },
   "outputs": [
    {
     "name": "stdout",
     "output_type": "stream",
     "text": [
      "running\n"
     ]
    },
    {
     "ename": "KeyError",
     "evalue": "'profile_id'",
     "output_type": "error",
     "traceback": [
      "\u001b[0;31m---------------------------------------------------------------------------\u001b[0m",
      "\u001b[0;31mKeyError\u001b[0m                                  Traceback (most recent call last)",
      "Cell \u001b[0;32mIn[10], line 17\u001b[0m\n\u001b[1;32m     15\u001b[0m \u001b[38;5;28mprint\u001b[39m(\u001b[38;5;124m'\u001b[39m\u001b[38;5;124mrunning\u001b[39m\u001b[38;5;124m'\u001b[39m)\n\u001b[1;32m     16\u001b[0m by \u001b[38;5;241m=\u001b[39m \u001b[38;5;124m'\u001b[39m\u001b[38;5;124maddress\u001b[39m\u001b[38;5;124m'\u001b[39m\n\u001b[0;32m---> 17\u001b[0m df1 \u001b[38;5;241m=\u001b[39m \u001b[43mgetlags\u001b[49m\u001b[43m(\u001b[49m\u001b[43mdf\u001b[49m\u001b[43m,\u001b[49m\u001b[43m \u001b[49m\u001b[43mlags\u001b[49m\u001b[38;5;241;43m=\u001b[39;49m\u001b[38;5;241;43m-\u001b[39;49m\u001b[38;5;241;43m1\u001b[39;49m\u001b[43m,\u001b[49m\u001b[43m \u001b[49m\u001b[43mby\u001b[49m\u001b[38;5;241;43m=\u001b[39;49m\u001b[43mby\u001b[49m\u001b[43m)\u001b[49m\n\u001b[1;32m     18\u001b[0m df2 \u001b[38;5;241m=\u001b[39m getlags(df, lags\u001b[38;5;241m=\u001b[39m\u001b[38;5;241m-\u001b[39m\u001b[38;5;241m10\u001b[39m, by\u001b[38;5;241m=\u001b[39mby)\n\u001b[1;32m     19\u001b[0m df3 \u001b[38;5;241m=\u001b[39m getlags(df, lags\u001b[38;5;241m=\u001b[39m\u001b[38;5;241m-\u001b[39m\u001b[38;5;241m20\u001b[39m, by\u001b[38;5;241m=\u001b[39mby)\n",
      "Cell \u001b[0;32mIn[5], line 2\u001b[0m, in \u001b[0;36mgetlags\u001b[0;34m(df, lags, by)\u001b[0m\n\u001b[1;32m      1\u001b[0m \u001b[38;5;28;01mdef\u001b[39;00m \u001b[38;5;21mgetlags\u001b[39m(df, lags\u001b[38;5;241m=\u001b[39m\u001b[38;5;241m-\u001b[39m\u001b[38;5;241m1\u001b[39m, by\u001b[38;5;241m=\u001b[39m\u001b[38;5;124m'\u001b[39m\u001b[38;5;124mprofile_id\u001b[39m\u001b[38;5;124m'\u001b[39m):\n\u001b[0;32m----> 2\u001b[0m     df \u001b[38;5;241m=\u001b[39m \u001b[43mdf\u001b[49m\u001b[38;5;241;43m.\u001b[39;49m\u001b[43msort_values\u001b[49m\u001b[43m(\u001b[49m\u001b[43mby\u001b[49m\u001b[38;5;241;43m=\u001b[39;49m\u001b[43m[\u001b[49m\u001b[38;5;124;43m'\u001b[39;49m\u001b[38;5;124;43mprofile_id\u001b[39;49m\u001b[38;5;124;43m'\u001b[39;49m\u001b[43m,\u001b[49m\u001b[38;5;124;43m'\u001b[39;49m\u001b[38;5;124;43mblock_timestamp\u001b[39;49m\u001b[38;5;124;43m'\u001b[39;49m\u001b[43m]\u001b[49m\u001b[43m,\u001b[49m\u001b[43mascending\u001b[49m\u001b[38;5;241;43m=\u001b[39;49m\u001b[43m[\u001b[49m\u001b[38;5;28;43;01mTrue\u001b[39;49;00m\u001b[43m,\u001b[49m\u001b[38;5;28;43;01mFalse\u001b[39;49;00m\u001b[43m]\u001b[49m\u001b[43m)\u001b[49m\n\u001b[1;32m      3\u001b[0m     shifted \u001b[38;5;241m=\u001b[39m df\u001b[38;5;241m.\u001b[39mgroupby(\u001b[38;5;124m\"\u001b[39m\u001b[38;5;124mprofile_id\u001b[39m\u001b[38;5;124m\"\u001b[39m)\u001b[38;5;241m.\u001b[39mshift(lags)\n\u001b[1;32m      4\u001b[0m     df1 \u001b[38;5;241m=\u001b[39m df\u001b[38;5;241m.\u001b[39mjoin(shifted\u001b[38;5;241m.\u001b[39mrename(columns\u001b[38;5;241m=\u001b[39m\u001b[38;5;28;01mlambda\u001b[39;00m x: x\u001b[38;5;241m+\u001b[39m\u001b[38;5;124m\"\u001b[39m\u001b[38;5;124m_lag\u001b[39m\u001b[38;5;124m\"\u001b[39m))\n",
      "File \u001b[0;32m~/anaconda3/envs/lens-bot-or-not/lib/python3.10/site-packages/pandas/core/frame.py:6748\u001b[0m, in \u001b[0;36mDataFrame.sort_values\u001b[0;34m(self, by, axis, ascending, inplace, kind, na_position, ignore_index, key)\u001b[0m\n\u001b[1;32m   6743\u001b[0m     \u001b[38;5;28;01mraise\u001b[39;00m \u001b[38;5;167;01mValueError\u001b[39;00m(\n\u001b[1;32m   6744\u001b[0m         \u001b[38;5;124mf\u001b[39m\u001b[38;5;124m\"\u001b[39m\u001b[38;5;124mLength of ascending (\u001b[39m\u001b[38;5;132;01m{\u001b[39;00m\u001b[38;5;28mlen\u001b[39m(ascending)\u001b[38;5;132;01m}\u001b[39;00m\u001b[38;5;124m)\u001b[39m\u001b[38;5;124m\"\u001b[39m  \u001b[38;5;66;03m# type: ignore[arg-type]\u001b[39;00m\n\u001b[1;32m   6745\u001b[0m         \u001b[38;5;124mf\u001b[39m\u001b[38;5;124m\"\u001b[39m\u001b[38;5;124m != length of by (\u001b[39m\u001b[38;5;132;01m{\u001b[39;00m\u001b[38;5;28mlen\u001b[39m(by)\u001b[38;5;132;01m}\u001b[39;00m\u001b[38;5;124m)\u001b[39m\u001b[38;5;124m\"\u001b[39m\n\u001b[1;32m   6746\u001b[0m     )\n\u001b[1;32m   6747\u001b[0m \u001b[38;5;28;01mif\u001b[39;00m \u001b[38;5;28mlen\u001b[39m(by) \u001b[38;5;241m>\u001b[39m \u001b[38;5;241m1\u001b[39m:\n\u001b[0;32m-> 6748\u001b[0m     keys \u001b[38;5;241m=\u001b[39m [\u001b[38;5;28mself\u001b[39m\u001b[38;5;241m.\u001b[39m_get_label_or_level_values(x, axis\u001b[38;5;241m=\u001b[39maxis) \u001b[38;5;28;01mfor\u001b[39;00m x \u001b[38;5;129;01min\u001b[39;00m by]\n\u001b[1;32m   6750\u001b[0m     \u001b[38;5;66;03m# need to rewrap columns in Series to apply key function\u001b[39;00m\n\u001b[1;32m   6751\u001b[0m     \u001b[38;5;28;01mif\u001b[39;00m key \u001b[38;5;129;01mis\u001b[39;00m \u001b[38;5;129;01mnot\u001b[39;00m \u001b[38;5;28;01mNone\u001b[39;00m:\n\u001b[1;32m   6752\u001b[0m         \u001b[38;5;66;03m# error: List comprehension has incompatible type List[Series];\u001b[39;00m\n\u001b[1;32m   6753\u001b[0m         \u001b[38;5;66;03m# expected List[ndarray]\u001b[39;00m\n",
      "File \u001b[0;32m~/anaconda3/envs/lens-bot-or-not/lib/python3.10/site-packages/pandas/core/frame.py:6748\u001b[0m, in \u001b[0;36m<listcomp>\u001b[0;34m(.0)\u001b[0m\n\u001b[1;32m   6743\u001b[0m     \u001b[38;5;28;01mraise\u001b[39;00m \u001b[38;5;167;01mValueError\u001b[39;00m(\n\u001b[1;32m   6744\u001b[0m         \u001b[38;5;124mf\u001b[39m\u001b[38;5;124m\"\u001b[39m\u001b[38;5;124mLength of ascending (\u001b[39m\u001b[38;5;132;01m{\u001b[39;00m\u001b[38;5;28mlen\u001b[39m(ascending)\u001b[38;5;132;01m}\u001b[39;00m\u001b[38;5;124m)\u001b[39m\u001b[38;5;124m\"\u001b[39m  \u001b[38;5;66;03m# type: ignore[arg-type]\u001b[39;00m\n\u001b[1;32m   6745\u001b[0m         \u001b[38;5;124mf\u001b[39m\u001b[38;5;124m\"\u001b[39m\u001b[38;5;124m != length of by (\u001b[39m\u001b[38;5;132;01m{\u001b[39;00m\u001b[38;5;28mlen\u001b[39m(by)\u001b[38;5;132;01m}\u001b[39;00m\u001b[38;5;124m)\u001b[39m\u001b[38;5;124m\"\u001b[39m\n\u001b[1;32m   6746\u001b[0m     )\n\u001b[1;32m   6747\u001b[0m \u001b[38;5;28;01mif\u001b[39;00m \u001b[38;5;28mlen\u001b[39m(by) \u001b[38;5;241m>\u001b[39m \u001b[38;5;241m1\u001b[39m:\n\u001b[0;32m-> 6748\u001b[0m     keys \u001b[38;5;241m=\u001b[39m [\u001b[38;5;28;43mself\u001b[39;49m\u001b[38;5;241;43m.\u001b[39;49m\u001b[43m_get_label_or_level_values\u001b[49m\u001b[43m(\u001b[49m\u001b[43mx\u001b[49m\u001b[43m,\u001b[49m\u001b[43m \u001b[49m\u001b[43maxis\u001b[49m\u001b[38;5;241;43m=\u001b[39;49m\u001b[43maxis\u001b[49m\u001b[43m)\u001b[49m \u001b[38;5;28;01mfor\u001b[39;00m x \u001b[38;5;129;01min\u001b[39;00m by]\n\u001b[1;32m   6750\u001b[0m     \u001b[38;5;66;03m# need to rewrap columns in Series to apply key function\u001b[39;00m\n\u001b[1;32m   6751\u001b[0m     \u001b[38;5;28;01mif\u001b[39;00m key \u001b[38;5;129;01mis\u001b[39;00m \u001b[38;5;129;01mnot\u001b[39;00m \u001b[38;5;28;01mNone\u001b[39;00m:\n\u001b[1;32m   6752\u001b[0m         \u001b[38;5;66;03m# error: List comprehension has incompatible type List[Series];\u001b[39;00m\n\u001b[1;32m   6753\u001b[0m         \u001b[38;5;66;03m# expected List[ndarray]\u001b[39;00m\n",
      "File \u001b[0;32m~/anaconda3/envs/lens-bot-or-not/lib/python3.10/site-packages/pandas/core/generic.py:1778\u001b[0m, in \u001b[0;36mNDFrame._get_label_or_level_values\u001b[0;34m(self, key, axis)\u001b[0m\n\u001b[1;32m   1776\u001b[0m     values \u001b[38;5;241m=\u001b[39m \u001b[38;5;28mself\u001b[39m\u001b[38;5;241m.\u001b[39maxes[axis]\u001b[38;5;241m.\u001b[39mget_level_values(key)\u001b[38;5;241m.\u001b[39m_values\n\u001b[1;32m   1777\u001b[0m \u001b[38;5;28;01melse\u001b[39;00m:\n\u001b[0;32m-> 1778\u001b[0m     \u001b[38;5;28;01mraise\u001b[39;00m \u001b[38;5;167;01mKeyError\u001b[39;00m(key)\n\u001b[1;32m   1780\u001b[0m \u001b[38;5;66;03m# Check for duplicates\u001b[39;00m\n\u001b[1;32m   1781\u001b[0m \u001b[38;5;28;01mif\u001b[39;00m values\u001b[38;5;241m.\u001b[39mndim \u001b[38;5;241m>\u001b[39m \u001b[38;5;241m1\u001b[39m:\n",
      "\u001b[0;31mKeyError\u001b[0m: 'profile_id'"
     ]
    }
   ],
   "source": [
    "def collect_data_insights_query():\n",
    "    return f\"\"\"\n",
    "SELECT\n",
    "  collected_by AS address,\n",
    "  block_timestamp\n",
    "FROM\n",
    "  `lens-public-data.polygon.public_publication_collect_module_collected_records`\n",
    "\"\"\"\n",
    "\n",
    "# Perform a query.\n",
    "QUERY = collect_data_insights_query()\n",
    "query_job = client.query(QUERY)  # API request\n",
    "# rows = query_job.result()  # Waits for query to finish\n",
    "df = query_job.to_dataframe()\n",
    "print('running')\n",
    "by = 'address'\n",
    "df1 = getlags(df, lags=-1, by=by)\n",
    "df2 = getlags(df, lags=-10, by=by)\n",
    "df3 = getlags(df, lags=-20, by=by)\n",
    "df1 = df1.join(df2,on=by).join(df3,on=by)\n",
    "\n",
    "df1.to_csv(f'{savepath}/collect_data_insights')\n",
    "df1.shape"
   ]
  },
  {
   "cell_type": "code",
   "execution_count": 18,
   "id": "59e46c4d-269a-4b4b-97da-814172f51003",
   "metadata": {
    "tags": []
   },
   "outputs": [
    {
     "name": "stdout",
     "output_type": "stream",
     "text": [
      "running\n"
     ]
    },
    {
     "data": {
      "text/plain": [
       "(47945, 24)"
      ]
     },
     "execution_count": 18,
     "metadata": {},
     "output_type": "execute_result"
    }
   ],
   "source": [
    "def paid_collect_data_insights_query():\n",
    "    return f\"\"\"\n",
    "WITH\n",
    "  paid_pubs AS (\n",
    "  SELECT\n",
    "    publication_id\n",
    "  FROM\n",
    "    `lens-public-data.polygon.public_publication_collect_module_details`\n",
    "  WHERE\n",
    "    amount IS NOT NULL )\n",
    "SELECT\n",
    "  collected_by AS address,\n",
    "  block_timestamp\n",
    "FROM\n",
    "  `lens-public-data.polygon.public_publication_collect_module_collected_records`\n",
    "WHERE\n",
    "  publication_id IN (\n",
    "  SELECT\n",
    "    publication_id\n",
    "  FROM\n",
    "    paid_pubs)\n",
    "\"\"\"\n",
    "\n",
    "# Perform a query.\n",
    "QUERY = paid_collect_data_insights_query()\n",
    "query_job = client.query(QUERY)  # API request\n",
    "# rows = query_job.result()  # Waits for query to finish\n",
    "df = query_job.to_dataframe()\n",
    "print('running')\n",
    "by = 'address'\n",
    "df1 = getlags(df, lags=-1, by=by)\n",
    "df2 = getlags(df, lags=-10, by=by)\n",
    "df3 = getlags(df, lags=-20, by=by)\n",
    "df1 = df1.join(df2,on=by).join(df3,on=by)\n",
    "\n",
    "df1.to_csv(f'{savepath}/paid_collect_data_insights')\n",
    "df1.shape"
   ]
  },
  {
   "cell_type": "code",
   "execution_count": 97,
   "id": "b2f828b5-5d64-47a8-aee4-744eb5f23822",
   "metadata": {
    "tags": []
   },
   "outputs": [
    {
     "data": {
      "text/plain": [
       "(116487, 5)"
      ]
     },
     "execution_count": 97,
     "metadata": {},
     "output_type": "execute_result"
    }
   ],
   "source": [
    "def address_query():\n",
    "    return f\"\"\"\n",
    "SELECT\n",
    "profile_id,\n",
    "owned_by as address,\n",
    "is_default,\n",
    "metadata_block_timestamp,\n",
    "block_timestamp\n",
    "FROM\n",
    "  `lens-public-data.polygon.public_profile`\n",
    "\"\"\"\n",
    "\n",
    "# Perform a query.\n",
    "QUERY = address_query()\n",
    "query_job = client.query(QUERY)  # API request\n",
    "# rows = query_job.result()  # Waits for query to finish\n",
    "df = query_job.to_dataframe()\n",
    "\n",
    "df.to_csv(f'{savepath}/address')\n",
    "df.shape"
   ]
  }
 ],
 "metadata": {
  "kernelspec": {
   "display_name": "Python 3 (ipykernel)",
   "language": "python",
   "name": "python3"
  },
  "language_info": {
   "codemirror_mode": {
    "name": "ipython",
    "version": 3
   },
   "file_extension": ".py",
   "mimetype": "text/x-python",
   "name": "python",
   "nbconvert_exporter": "python",
   "pygments_lexer": "ipython3",
   "version": "3.10.10"
  }
 },
 "nbformat": 4,
 "nbformat_minor": 5
}
