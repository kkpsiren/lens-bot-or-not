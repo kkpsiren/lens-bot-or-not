{
 "cells": [
  {
   "cell_type": "code",
   "execution_count": null,
   "id": "c24fae80-788a-4368-87df-af98b277352c",
   "metadata": {},
   "outputs": [],
   "source": [
    "## get initial set of labels from karma3"
   ]
  },
  {
   "cell_type": "code",
   "execution_count": 6,
   "id": "141c6d19-0782-4c49-b733-e4570f0f064e",
   "metadata": {
    "tags": []
   },
   "outputs": [],
   "source": [
    "import pandas as pd\n",
    "from google.cloud import bigquery\n",
    "import pandas as pd\n",
    "import glob\n",
    "client = bigquery.Client()\n",
    "\n",
    "savepath = f\"data\""
   ]
  },
  {
   "cell_type": "code",
   "execution_count": 3,
   "id": "c0fd8570-e6f1-429f-bc5f-787f0cf85903",
   "metadata": {
    "tags": []
   },
   "outputs": [
    {
     "data": {
      "text/html": [
       "<div>\n",
       "<style scoped>\n",
       "    .dataframe tbody tr th:only-of-type {\n",
       "        vertical-align: middle;\n",
       "    }\n",
       "\n",
       "    .dataframe tbody tr th {\n",
       "        vertical-align: top;\n",
       "    }\n",
       "\n",
       "    .dataframe thead th {\n",
       "        text-align: right;\n",
       "    }\n",
       "</style>\n",
       "<table border=\"1\" class=\"dataframe\">\n",
       "  <thead>\n",
       "    <tr style=\"text-align: right;\">\n",
       "      <th></th>\n",
       "      <th>score</th>\n",
       "      <th>rank</th>\n",
       "      <th>handle</th>\n",
       "      <th>followersCount</th>\n",
       "      <th>id</th>\n",
       "    </tr>\n",
       "  </thead>\n",
       "  <tbody>\n",
       "    <tr>\n",
       "      <th>0</th>\n",
       "      <td>0.064284</td>\n",
       "      <td>1</td>\n",
       "      <td>stani.lens</td>\n",
       "      <td>57607</td>\n",
       "      <td>5</td>\n",
       "    </tr>\n",
       "    <tr>\n",
       "      <th>1</th>\n",
       "      <td>0.059850</td>\n",
       "      <td>2</td>\n",
       "      <td>bradorbradley.lens</td>\n",
       "      <td>33082</td>\n",
       "      <td>36</td>\n",
       "    </tr>\n",
       "    <tr>\n",
       "      <th>2</th>\n",
       "      <td>0.059520</td>\n",
       "      <td>3</td>\n",
       "      <td>christina.lens</td>\n",
       "      <td>28154</td>\n",
       "      <td>142</td>\n",
       "    </tr>\n",
       "    <tr>\n",
       "      <th>3</th>\n",
       "      <td>0.055198</td>\n",
       "      <td>4</td>\n",
       "      <td>blackdave.lens</td>\n",
       "      <td>819</td>\n",
       "      <td>36284</td>\n",
       "    </tr>\n",
       "    <tr>\n",
       "      <th>4</th>\n",
       "      <td>0.054165</td>\n",
       "      <td>5</td>\n",
       "      <td>chriscomrie.lens</td>\n",
       "      <td>4917</td>\n",
       "      <td>73557</td>\n",
       "    </tr>\n",
       "  </tbody>\n",
       "</table>\n",
       "</div>"
      ],
      "text/plain": [
       "      score rank              handle followersCount     id\n",
       "0  0.064284    1          stani.lens          57607      5\n",
       "1  0.059850    2  bradorbradley.lens          33082     36\n",
       "2  0.059520    3      christina.lens          28154    142\n",
       "3  0.055198    4      blackdave.lens            819  36284\n",
       "4  0.054165    5    chriscomrie.lens           4917  73557"
      ]
     },
     "execution_count": 3,
     "metadata": {},
     "output_type": "execute_result"
    }
   ],
   "source": [
    "import requests\n",
    "\n",
    "response = requests.get(\"https://lens-api.k3l.io/profile_count?strategy=creator\")\n",
    "count = response.json()['count']\n",
    "\n",
    "response = requests.get(f\"https://lens-api.k3l.io/profile_scores?strategy=creator&limit={count}\")\n",
    "karma_data = response.json()\n",
    "karma_data = pd.DataFrame(karma_data)\n",
    "karma_data.to_csv('data/karma_data.csv')\n",
    "del response\n",
    "karma_data.head()"
   ]
  },
  {
   "cell_type": "code",
   "execution_count": 4,
   "id": "ada2013f-9011-475b-ada2-1a60227d53bf",
   "metadata": {
    "tags": []
   },
   "outputs": [
    {
     "data": {
      "text/plain": [
       "(100004, 5)"
      ]
     },
     "execution_count": 4,
     "metadata": {},
     "output_type": "execute_result"
    }
   ],
   "source": [
    "karma_data.shape"
   ]
  },
  {
   "cell_type": "code",
   "execution_count": 5,
   "id": "99174db9-f898-4c2e-97d2-5985134564cf",
   "metadata": {
    "tags": []
   },
   "outputs": [],
   "source": [
    "## get bigquery data"
   ]
  },
  {
   "cell_type": "code",
   "execution_count": 13,
   "id": "c286ee5d-742e-4e08-9844-fba54cd7d4a2",
   "metadata": {
    "tags": []
   },
   "outputs": [
    {
     "data": {
      "text/plain": [
       "(82988, 3)"
      ]
     },
     "execution_count": 13,
     "metadata": {},
     "output_type": "execute_result"
    }
   ],
   "source": [
    "\n",
    "\n",
    "def dispatcher_data_query():\n",
    "    return \"\"\"\n",
    "SELECT\n",
    "  profile_id,\n",
    "  profile_dispatcher_address,\n",
    "  block_timestamp AS dispatcher_setup_timestamp\n",
    "FROM\n",
    "  `lens-public-data.polygon.public_profile_dispatcher`\n",
    "\"\"\"\n",
    "\n",
    "\n",
    "\n",
    "\n",
    "# Perform a query.\n",
    "QUERY = dispatcher_data_query()\n",
    "query_job = client.query(QUERY)  # API request\n",
    "# rows = query_job.result()  # Waits for query to finish\n",
    "df = query_job.to_dataframe()\n",
    "df.to_csv(f'{savepath}/dispatcher_data')\n",
    "df.shape"
   ]
  },
  {
   "cell_type": "code",
   "execution_count": 11,
   "id": "bf768e21-df08-46c4-a9e1-7926ebf725f3",
   "metadata": {
    "tags": []
   },
   "outputs": [
    {
     "data": {
      "text/plain": [
       "(116483, 6)"
      ]
     },
     "execution_count": 11,
     "metadata": {},
     "output_type": "execute_result"
    }
   ],
   "source": [
    "\n",
    "def aggregated_stats_query():\n",
    "    return f\"\"\"\n",
    "SELECT\n",
    "  profile_id,\n",
    "  total_posts,\n",
    "  total_comments,\n",
    "  total_mirrors,\n",
    "  total_collects,\n",
    "  datastream_metadata.source_timestamp\n",
    "FROM\n",
    "  `lens-public-data.polygon.public_profile_stats`\n",
    "\"\"\"\n",
    "\n",
    "# Perform a query.\n",
    "QUERY = aggregated_stats_query()\n",
    "query_job = client.query(QUERY)  # API request\n",
    "# rows = query_job.result()  # Waits for query to finish\n",
    "df = query_job.to_dataframe()\n",
    "df.to_csv(f'{savepath}/aggregated_stats')\n",
    "df.shape"
   ]
  },
  {
   "cell_type": "code",
   "execution_count": 12,
   "id": "07131b93-5f24-43f4-ba11-c42375b68c7f",
   "metadata": {
    "tags": []
   },
   "outputs": [
    {
     "data": {
      "text/plain": [
       "(47508, 1)"
      ]
     },
     "execution_count": 12,
     "metadata": {},
     "output_type": "execute_result"
    }
   ],
   "source": [
    "def ens_address_query():\n",
    "    return f\"\"\"\n",
    "SELECT\n",
    "  DISTINCT address\n",
    "FROM\n",
    "  `lens-public-data.polygon.ens_address_reverse_record`\n",
    "\"\"\"\n",
    "\n",
    "# Perform a query.\n",
    "QUERY = ens_address_query()\n",
    "query_job = client.query(QUERY)  # API request\n",
    "# rows = query_job.result()  # Waits for query to finish\n",
    "df = query_job.to_dataframe()\n",
    "df.to_csv(f'{savepath}/ens_address')\n",
    "df.shape"
   ]
  },
  {
   "cell_type": "code",
   "execution_count": 19,
   "id": "19c2bdaf-bb33-4ac1-afc5-617a9d28f1ce",
   "metadata": {
    "tags": []
   },
   "outputs": [
    {
     "data": {
      "text/plain": [
       "(855, 1)"
      ]
     },
     "execution_count": 19,
     "metadata": {},
     "output_type": "execute_result"
    }
   ],
   "source": [
    "def proof_of_humanity_query():\n",
    "    return f\"\"\"\n",
    "SELECT\n",
    "  DISTINCT address\n",
    "FROM\n",
    "  `lens-public-data.polygon.proof_of_humanity_address_to_proof_record`\n",
    "WHERE\n",
    "  is_registered=true\n",
    "\"\"\"\n",
    "\n",
    "# Perform a query.\n",
    "QUERY = proof_of_humanity_query()\n",
    "query_job = client.query(QUERY)  # API request\n",
    "# rows = query_job.result()  # Waits for query to finish\n",
    "df = query_job.to_dataframe()\n",
    "df.to_csv(f'{savepath}/proof_of_humanity')\n",
    "df.shape"
   ]
  },
  {
   "cell_type": "code",
   "execution_count": 20,
   "id": "ca3e0922-8661-4bc1-ac15-b751d6e273a6",
   "metadata": {
    "tags": []
   },
   "outputs": [
    {
     "data": {
      "text/plain": [
       "(2784, 1)"
      ]
     },
     "execution_count": 20,
     "metadata": {},
     "output_type": "execute_result"
    }
   ],
   "source": [
    "def sybil_dot_org_address_verified_twitter_query():\n",
    "    return f\"\"\"\n",
    "SELECT\n",
    "  DISTINCT address\n",
    "FROM\n",
    "  `lens-public-data.polygon.sybil_dot_org_address_verified_twitter`\n",
    "\"\"\"\n",
    "\n",
    "# Perform a query.\n",
    "QUERY = sybil_dot_org_address_verified_twitter_query()\n",
    "query_job = client.query(QUERY)  # API request\n",
    "# rows = query_job.result()  # Waits for query to finish\n",
    "df = query_job.to_dataframe()\n",
    "df.to_csv(f'{savepath}/sybil_dot_org_address_verified_twitter')\n",
    "df.shape"
   ]
  },
  {
   "cell_type": "code",
   "execution_count": 22,
   "id": "4f3002f1-6926-4e09-98e9-5322a7b99df5",
   "metadata": {
    "tags": []
   },
   "outputs": [
    {
     "data": {
      "text/plain": [
       "(54, 1)"
      ]
     },
     "execution_count": 22,
     "metadata": {},
     "output_type": "execute_result"
    }
   ],
   "source": [
    "def worldcoin_human_check_query():\n",
    "    return f\"\"\"\n",
    "SELECT\n",
    "  profile_id\n",
    "FROM\n",
    "  `lens-public-data.polygon.worldcoin_human_check`\n",
    "WHERE\n",
    "  verified=true\n",
    "\"\"\"\n",
    "\n",
    "# Perform a query.\n",
    "QUERY = worldcoin_human_check_query()\n",
    "query_job = client.query(QUERY)  # API request\n",
    "# rows = query_job.result()  # Waits for query to finish\n",
    "df = query_job.to_dataframe()\n",
    "df.to_csv(f'{savepath}/worldcoin_human_check')\n",
    "df.shape"
   ]
  },
  {
   "cell_type": "code",
   "execution_count": 24,
   "id": "39358b72-ff80-4813-bff2-28dceb37d5d8",
   "metadata": {
    "tags": []
   },
   "outputs": [
    {
     "data": {
      "text/plain": [
       "(94732, 3)"
      ]
     },
     "execution_count": 24,
     "metadata": {},
     "output_type": "execute_result"
    }
   ],
   "source": [
    "def most_used_app_query():\n",
    "    return f\"\"\"\n",
    "SELECT\n",
    "  profile_id,\n",
    "  ARRAY_AGG( STRUCT(app_id,\n",
    "      total_posts)\n",
    "  ORDER BY\n",
    "    total_posts DESC\n",
    "  LIMIT\n",
    "    1 )[\n",
    "OFFSET\n",
    "  (0)].app_id AS app_id_highest_posts,\n",
    "  ARRAY_AGG( STRUCT(app_id,\n",
    "      total_posts)\n",
    "  ORDER BY\n",
    "    total_comments DESC\n",
    "  LIMIT\n",
    "    1 )[\n",
    "OFFSET\n",
    "  (0)].app_id AS app_id_highest_comments,\n",
    "FROM\n",
    "  `lens-public-data.polygon.public_app_profile_stats`\n",
    "GROUP BY\n",
    "  profile_id\n",
    "\"\"\"\n",
    "\n",
    "# Perform a query.\n",
    "QUERY = most_used_app_query()\n",
    "query_job = client.query(QUERY)  # API request\n",
    "# rows = query_job.result()  # Waits for query to finish\n",
    "df = query_job.to_dataframe()\n",
    "df.to_csv(f'{savepath}/most_used_app')\n",
    "df.shape"
   ]
  },
  {
   "cell_type": "code",
   "execution_count": 4,
   "id": "0f208492-53f1-4184-9cae-ca3d85b55e94",
   "metadata": {
    "tags": []
   },
   "outputs": [],
   "source": [
    "import numpy as np\n",
    "def q90(x):\n",
    "    return x.quantile(0.9)\n",
    "def q10(x):\n",
    "    return x.quantile(0.1)\n",
    "def q25(x):\n",
    "    return x.quantile(0.25)\n",
    "def q75(x):\n",
    "    return x.quantile(0.75)\n"
   ]
  },
  {
   "cell_type": "code",
   "execution_count": 7,
   "id": "bbd24be8-5cd6-4962-b897-1482ab95a3f4",
   "metadata": {
    "tags": []
   },
   "outputs": [
    {
     "name": "stdout",
     "output_type": "stream",
     "text": [
      "running\n"
     ]
    },
    {
     "data": {
      "text/plain": [
       "(88645, 8)"
      ]
     },
     "execution_count": 7,
     "metadata": {},
     "output_type": "execute_result"
    }
   ],
   "source": [
    "def post_data_insights_query():\n",
    "    return f\"\"\"\n",
    "SELECT\n",
    "  profile_id,\n",
    "  block_timestamp\n",
    "FROM\n",
    "  `lens-public-data.polygon.public_profile_post`\n",
    "WHERE\n",
    "  s3_metadata_location IS NOT NULL\n",
    "  AND has_error IS FALSE\n",
    "  AND is_metadata_processed IS TRUE\n",
    "  AND is_related_to_post IS NULL\n",
    "  AND is_related_to_comment IS null\n",
    "\"\"\"\n",
    "\n",
    "# Perform a query.\n",
    "QUERY = post_data_insights_query()\n",
    "query_job = client.query(QUERY)  # API request\n",
    "# rows = query_job.result()  # Waits for query to finish\n",
    "df = query_job.to_dataframe()\n",
    "print('running')\n",
    "df = df.sort_values(by=['profile_id','block_timestamp'],ascending=[True,False])\n",
    "shifted = df.groupby(\"profile_id\").shift(-1)\n",
    "df1 = df.join(shifted.rename(columns=lambda x: x+\"_lag\"))\n",
    "df1['diff'] = (df1['block_timestamp'] - df1['block_timestamp_lag']).dt.total_seconds()\n",
    "df1 = df1.groupby('profile_id').agg({\"diff\": [np.mean, np.median,q10,q25,q75,q90,'max','min']})\n",
    "\n",
    "df1.to_csv(f'{savepath}/post_data_insights')\n",
    "df1.shape"
   ]
  },
  {
   "cell_type": "code",
   "execution_count": 8,
   "id": "ccbb5d82-f94d-4fc7-93cc-d955bb3661c2",
   "metadata": {
    "tags": []
   },
   "outputs": [
    {
     "name": "stdout",
     "output_type": "stream",
     "text": [
      "running\n"
     ]
    },
    {
     "data": {
      "text/plain": [
       "(74423, 8)"
      ]
     },
     "execution_count": 8,
     "metadata": {},
     "output_type": "execute_result"
    }
   ],
   "source": [
    "def mirror_data_insights_query():\n",
    "    return f\"\"\"\n",
    "SELECT\n",
    "  profile_id,\n",
    "  block_timestamp\n",
    "FROM\n",
    "  `lens-public-data.polygon.public_profile_post`\n",
    "WHERE\n",
    "  s3_metadata_location IS NOT NULL\n",
    "  AND has_error IS FALSE\n",
    "  AND is_metadata_processed IS TRUE\n",
    "  AND (is_related_to_post IS NOT NULL\n",
    "    OR is_related_to_comment IS NOT NULL)\n",
    "\"\"\"\n",
    "\n",
    "# Perform a query.\n",
    "QUERY = mirror_data_insights_query()\n",
    "query_job = client.query(QUERY)  # API request\n",
    "# rows = query_job.result()  # Waits for query to finish\n",
    "df = query_job.to_dataframe()\n",
    "print('running')\n",
    "df = df.sort_values(by=['profile_id','block_timestamp'],ascending=[True,False])\n",
    "shifted = df.groupby(\"profile_id\").shift(-1)\n",
    "df1 = df.join(shifted.rename(columns=lambda x: x+\"_lag\"))\n",
    "df1['diff'] = (df1['block_timestamp'] - df1['block_timestamp_lag']).dt.total_seconds()\n",
    "df1 = df1.groupby('profile_id').agg({\"diff\": [np.mean, np.median,q10,q25,q75,q90,'max','min']})\n",
    "\n",
    "df1.to_csv(f'{savepath}/mirror_data_insights')\n",
    "df1.shape"
   ]
  },
  {
   "cell_type": "code",
   "execution_count": 11,
   "id": "73ecd3fa-4f6c-437f-9da5-7d541898d9cf",
   "metadata": {
    "tags": []
   },
   "outputs": [
    {
     "name": "stdout",
     "output_type": "stream",
     "text": [
      "running\n"
     ]
    },
    {
     "data": {
      "text/plain": [
       "(72763, 8)"
      ]
     },
     "execution_count": 11,
     "metadata": {},
     "output_type": "execute_result"
    }
   ],
   "source": [
    "def comment_data_insights_query():\n",
    "    return f\"\"\"\n",
    "SELECT\n",
    "  comment_by_profile_id AS profile_id,\n",
    "  block_timestamp\n",
    "FROM\n",
    "  `lens-public-data.polygon.public_post_comment`\n",
    "WHERE\n",
    "  s3_metadata_location IS NOT NULL\n",
    "  AND has_error IS FALSE\n",
    "  AND is_metadata_processed IS true\n",
    "\"\"\"\n",
    "\n",
    "# Perform a query.\n",
    "QUERY = comment_data_insights_query()\n",
    "query_job = client.query(QUERY)  # API request\n",
    "# rows = query_job.result()  # Waits for query to finish\n",
    "df = query_job.to_dataframe()\n",
    "print('running')\n",
    "df = df.sort_values(by=['profile_id','block_timestamp'],ascending=[True,False])\n",
    "shifted = df.groupby(\"profile_id\").shift(-1)\n",
    "df1 = df.join(shifted.rename(columns=lambda x: x+\"_lag\"))\n",
    "df1['diff'] = (df1['block_timestamp'] - df1['block_timestamp_lag']).dt.total_seconds()\n",
    "df1 = df1.groupby('profile_id').agg({\"diff\": [np.mean, np.median,q10,q25,q75,q90,'max','min']})\n",
    "\n",
    "df1.to_csv(f'{savepath}/comment_data_insights')\n",
    "df1.shape"
   ]
  },
  {
   "cell_type": "code",
   "execution_count": 12,
   "id": "0fc3d7ea-379f-4fba-9b77-dca08909b365",
   "metadata": {
    "tags": []
   },
   "outputs": [
    {
     "name": "stdout",
     "output_type": "stream",
     "text": [
      "running\n"
     ]
    },
    {
     "data": {
      "text/plain": [
       "(226908, 8)"
      ]
     },
     "execution_count": 12,
     "metadata": {},
     "output_type": "execute_result"
    }
   ],
   "source": [
    "def collect_data_insights_query():\n",
    "    return f\"\"\"\n",
    "SELECT\n",
    "  collected_by AS address,\n",
    "  block_timestamp\n",
    "FROM\n",
    "  `lens-public-data.polygon.public_publication_collect_module_collected_records`\n",
    "\"\"\"\n",
    "\n",
    "# Perform a query.\n",
    "QUERY = collect_data_insights_query()\n",
    "query_job = client.query(QUERY)  # API request\n",
    "# rows = query_job.result()  # Waits for query to finish\n",
    "df = query_job.to_dataframe()\n",
    "print('running')\n",
    "df = df.sort_values(by=['address','block_timestamp'],ascending=[True,False])\n",
    "shifted = df.groupby(\"address\").shift(-1)\n",
    "df1 = df.join(shifted.rename(columns=lambda x: x+\"_lag\"))\n",
    "df1['diff'] = (df1['block_timestamp'] - df1['block_timestamp_lag']).dt.total_seconds()\n",
    "df1 = df1.groupby('address').agg({\"diff\": [np.mean, np.median,q10,q25,q75,q90,'max','min']})\n",
    "\n",
    "df1.to_csv(f'{savepath}/collect_data_insights')\n",
    "df1.shape"
   ]
  },
  {
   "cell_type": "code",
   "execution_count": 14,
   "id": "59e46c4d-269a-4b4b-97da-814172f51003",
   "metadata": {
    "tags": []
   },
   "outputs": [
    {
     "name": "stdout",
     "output_type": "stream",
     "text": [
      "running\n"
     ]
    },
    {
     "data": {
      "text/plain": [
       "(47881, 8)"
      ]
     },
     "execution_count": 14,
     "metadata": {},
     "output_type": "execute_result"
    }
   ],
   "source": [
    "def paid_collect_data_insights_query():\n",
    "    return f\"\"\"\n",
    "WITH\n",
    "  paid_pubs AS (\n",
    "  SELECT\n",
    "    publication_id\n",
    "  FROM\n",
    "    `lens-public-data.polygon.public_publication_collect_module_details`\n",
    "  WHERE\n",
    "    amount IS NOT NULL )\n",
    "SELECT\n",
    "  collected_by AS address,\n",
    "  block_timestamp\n",
    "FROM\n",
    "  `lens-public-data.polygon.public_publication_collect_module_collected_records`\n",
    "WHERE\n",
    "  publication_id IN (\n",
    "  SELECT\n",
    "    publication_id\n",
    "  FROM\n",
    "    paid_pubs)\n",
    "\"\"\"\n",
    "\n",
    "# Perform a query.\n",
    "QUERY = paid_collect_data_insights_query()\n",
    "query_job = client.query(QUERY)  # API request\n",
    "# rows = query_job.result()  # Waits for query to finish\n",
    "df = query_job.to_dataframe()\n",
    "print('running')\n",
    "df = df.sort_values(by=['address','block_timestamp'],ascending=[True,False])\n",
    "shifted = df.groupby(\"address\").shift(-1)\n",
    "df1 = df.join(shifted.rename(columns=lambda x: x+\"_lag\"))\n",
    "df1['diff'] = (df1['block_timestamp'] - df1['block_timestamp_lag']).dt.total_seconds()\n",
    "df1 = df1.groupby('address').agg({\"diff\": [np.mean, np.median,q10,q25,q75,q90,'max','min']})\n",
    "\n",
    "df1.to_csv(f'{savepath}/paid_collect_data_insights')\n",
    "df1.shape"
   ]
  },
  {
   "cell_type": "code",
   "execution_count": 97,
   "id": "b2f828b5-5d64-47a8-aee4-744eb5f23822",
   "metadata": {
    "tags": []
   },
   "outputs": [
    {
     "data": {
      "text/plain": [
       "(116487, 5)"
      ]
     },
     "execution_count": 97,
     "metadata": {},
     "output_type": "execute_result"
    }
   ],
   "source": [
    "def address_query():\n",
    "    return f\"\"\"\n",
    "SELECT\n",
    "profile_id,\n",
    "owned_by as address,\n",
    "is_default,\n",
    "metadata_block_timestamp,\n",
    "block_timestamp\n",
    "FROM\n",
    "  `lens-public-data.polygon.public_profile`\n",
    "\"\"\"\n",
    "\n",
    "# Perform a query.\n",
    "QUERY = address_query()\n",
    "query_job = client.query(QUERY)  # API request\n",
    "# rows = query_job.result()  # Waits for query to finish\n",
    "df = query_job.to_dataframe()\n",
    "\n",
    "df.to_csv(f'{savepath}/address')\n",
    "df.shape"
   ]
  },
  {
   "cell_type": "markdown",
   "id": "2f90ff1f-ce21-4968-aba4-64d93641c565",
   "metadata": {
    "tags": []
   },
   "source": [
    "# read data and make a csv"
   ]
  },
  {
   "cell_type": "code",
   "execution_count": 26,
   "id": "87facb3a-6e73-46a3-b5bd-b8fe52ca0fa6",
   "metadata": {
    "tags": []
   },
   "outputs": [],
   "source": [
    "files = glob.glob(f'{savepath}/*')"
   ]
  },
  {
   "cell_type": "code",
   "execution_count": 22,
   "id": "94e89c2e-177d-4a18-a798-ad87c2df8371",
   "metadata": {
    "tags": []
   },
   "outputs": [],
   "source": [
    "for file in files[:1]:\n",
    "    name = file.split('/')[-1]\n",
    "    df = pd.read_csv(file,index_col=0)"
   ]
  },
  {
   "cell_type": "code",
   "execution_count": 27,
   "id": "94cc6e67-cf4b-460d-908e-5d1ca760a5ae",
   "metadata": {
    "tags": []
   },
   "outputs": [
    {
     "data": {
      "text/plain": [
       "['data/dispatcher_data',\n",
       " 'data/post_data_insights',\n",
       " 'data/collect_data_insights',\n",
       " 'data/comment_data_insights',\n",
       " 'data/ens_address',\n",
       " 'data/mirror_data_insights',\n",
       " 'data/most_used_app',\n",
       " 'data/karma_data.csv',\n",
       " 'data/sybil_dot_org_address_verified_twitter',\n",
       " 'data/proof_of_humanity',\n",
       " 'data/worldcoin_human_check',\n",
       " 'data/aggregated_stats',\n",
       " 'data/paid_collect_data_insights']"
      ]
     },
     "execution_count": 27,
     "metadata": {},
     "output_type": "execute_result"
    }
   ],
   "source": [
    "files"
   ]
  },
  {
   "cell_type": "code",
   "execution_count": 92,
   "id": "b66f4b53-25f1-41af-864c-8cf3de6945ea",
   "metadata": {
    "tags": []
   },
   "outputs": [],
   "source": [
    "labels = pd.read_csv(f'{savepath}/karma_data.csv',index_col=0)\n"
   ]
  },
  {
   "cell_type": "code",
   "execution_count": 96,
   "id": "a6a13117-e75c-4127-9061-23103d93aced",
   "metadata": {
    "tags": []
   },
   "outputs": [
    {
     "data": {
      "text/html": [
       "<div>\n",
       "<style scoped>\n",
       "    .dataframe tbody tr th:only-of-type {\n",
       "        vertical-align: middle;\n",
       "    }\n",
       "\n",
       "    .dataframe tbody tr th {\n",
       "        vertical-align: top;\n",
       "    }\n",
       "\n",
       "    .dataframe thead th {\n",
       "        text-align: right;\n",
       "    }\n",
       "</style>\n",
       "<table border=\"1\" class=\"dataframe\">\n",
       "  <thead>\n",
       "    <tr style=\"text-align: right;\">\n",
       "      <th></th>\n",
       "      <th>profile_id</th>\n",
       "      <th>address</th>\n",
       "      <th>is_default</th>\n",
       "      <th>block_timestamp</th>\n",
       "    </tr>\n",
       "  </thead>\n",
       "  <tbody>\n",
       "    <tr>\n",
       "      <th>0</th>\n",
       "      <td>0x01bc29</td>\n",
       "      <td>0x0784D6612b11943Dc5F6A609b69e6a49a4661Bed</td>\n",
       "      <td>False</td>\n",
       "      <td>NaN</td>\n",
       "    </tr>\n",
       "    <tr>\n",
       "      <th>1</th>\n",
       "      <td>0x01be2b</td>\n",
       "      <td>0xb27C9bF2cefE91325faCb311935816F82A6e2112</td>\n",
       "      <td>False</td>\n",
       "      <td>NaN</td>\n",
       "    </tr>\n",
       "    <tr>\n",
       "      <th>2</th>\n",
       "      <td>0x01be2c</td>\n",
       "      <td>0x2779A132721D6Ef4598f7C1fbcb19dB411E58124</td>\n",
       "      <td>False</td>\n",
       "      <td>NaN</td>\n",
       "    </tr>\n",
       "    <tr>\n",
       "      <th>3</th>\n",
       "      <td>0x01c4b8</td>\n",
       "      <td>0x22084410C6364eDD08FBbd9A9E3aE79f4016e92A</td>\n",
       "      <td>False</td>\n",
       "      <td>NaN</td>\n",
       "    </tr>\n",
       "    <tr>\n",
       "      <th>4</th>\n",
       "      <td>0x9435</td>\n",
       "      <td>0x21295CF3fD3665Cea1A79CdbeE5E4dd77DC287bF</td>\n",
       "      <td>False</td>\n",
       "      <td>2008.0</td>\n",
       "    </tr>\n",
       "    <tr>\n",
       "      <th>...</th>\n",
       "      <td>...</td>\n",
       "      <td>...</td>\n",
       "      <td>...</td>\n",
       "      <td>...</td>\n",
       "    </tr>\n",
       "    <tr>\n",
       "      <th>116482</th>\n",
       "      <td>0x4d69</td>\n",
       "      <td>0x886C48Fe5067Eb417a3D350d9862068184fC97dC</td>\n",
       "      <td>True</td>\n",
       "      <td>18855.0</td>\n",
       "    </tr>\n",
       "    <tr>\n",
       "      <th>116483</th>\n",
       "      <td>0x012a3e</td>\n",
       "      <td>0x87579E8F61e6b9e19C49de457EAB79644Fca399D</td>\n",
       "      <td>True</td>\n",
       "      <td>11852.0</td>\n",
       "    </tr>\n",
       "    <tr>\n",
       "      <th>116484</th>\n",
       "      <td>0x07aa</td>\n",
       "      <td>0x497dfDf509dC68CD05c509b9D68C34B6595916aD</td>\n",
       "      <td>True</td>\n",
       "      <td>19882.0</td>\n",
       "    </tr>\n",
       "    <tr>\n",
       "      <th>116485</th>\n",
       "      <td>0x53d1</td>\n",
       "      <td>0x0E324F7754C5B2A14AB924a81F70B1E2A3DeB654</td>\n",
       "      <td>True</td>\n",
       "      <td>18776.0</td>\n",
       "    </tr>\n",
       "    <tr>\n",
       "      <th>116486</th>\n",
       "      <td>0xa87c</td>\n",
       "      <td>0xf07e72263Ecf927246D917844292E24f3809E2a1</td>\n",
       "      <td>True</td>\n",
       "      <td>16470.0</td>\n",
       "    </tr>\n",
       "  </tbody>\n",
       "</table>\n",
       "<p>116487 rows × 4 columns</p>\n",
       "</div>"
      ],
      "text/plain": [
       "       profile_id                                     address  is_default   \n",
       "0        0x01bc29  0x0784D6612b11943Dc5F6A609b69e6a49a4661Bed       False  \\\n",
       "1        0x01be2b  0xb27C9bF2cefE91325faCb311935816F82A6e2112       False   \n",
       "2        0x01be2c  0x2779A132721D6Ef4598f7C1fbcb19dB411E58124       False   \n",
       "3        0x01c4b8  0x22084410C6364eDD08FBbd9A9E3aE79f4016e92A       False   \n",
       "4          0x9435  0x21295CF3fD3665Cea1A79CdbeE5E4dd77DC287bF       False   \n",
       "...           ...                                         ...         ...   \n",
       "116482     0x4d69  0x886C48Fe5067Eb417a3D350d9862068184fC97dC        True   \n",
       "116483   0x012a3e  0x87579E8F61e6b9e19C49de457EAB79644Fca399D        True   \n",
       "116484     0x07aa  0x497dfDf509dC68CD05c509b9D68C34B6595916aD        True   \n",
       "116485     0x53d1  0x0E324F7754C5B2A14AB924a81F70B1E2A3DeB654        True   \n",
       "116486     0xa87c  0xf07e72263Ecf927246D917844292E24f3809E2a1        True   \n",
       "\n",
       "        block_timestamp  \n",
       "0                   NaN  \n",
       "1                   NaN  \n",
       "2                   NaN  \n",
       "3                   NaN  \n",
       "4                2008.0  \n",
       "...                 ...  \n",
       "116482          18855.0  \n",
       "116483          11852.0  \n",
       "116484          19882.0  \n",
       "116485          18776.0  \n",
       "116486          16470.0  \n",
       "\n",
       "[116487 rows x 4 columns]"
      ]
     },
     "execution_count": 96,
     "metadata": {},
     "output_type": "execute_result"
    }
   ],
   "source": [
    "address"
   ]
  },
  {
   "cell_type": "code",
   "execution_count": 135,
   "id": "8c505bc8-9d55-4d77-89ce-4eab6d1cc38c",
   "metadata": {
    "tags": []
   },
   "outputs": [],
   "source": [
    "address = pd.read_csv(f'{savepath}/address',index_col=0)\n",
    "address = address.drop({'block_timestamp'},axis=1)#.join( ((pd.to_datetime('2023-04-15',utc=True) - pd.to_datetime(address['block_timestamp'])).dt.total_seconds()/60/24).round(0))\n",
    "address = address.drop({'metadata_block_timestamp'},axis=1)#.join( ((pd.to_datetime('2023-04-15',utc=True) - pd.to_datetime(address['metadata_block_timestamp'])).dt.total_seconds()/60/24).round(0))\n",
    "\n",
    "address = address.rename({'block_timestamp':'days_since_profile_created', 'metadata_block_timestamp':'days_since_metadata_changed'},axis=1)\n",
    "\n"
   ]
  },
  {
   "cell_type": "code",
   "execution_count": 136,
   "id": "3cb466a3-4286-413f-8f4e-cd347a577bb3",
   "metadata": {
    "tags": []
   },
   "outputs": [],
   "source": [
    "dispatcher = pd.read_csv(f'{savepath}/dispatcher_data',index_col=0)\n",
    "dispatcher = dispatcher.drop(['profile_dispatcher_address','dispatcher_setup_timestamp'],axis=1).join(pd.get_dummies(dispatcher['profile_dispatcher_address'])).join( ((pd.to_datetime('2023-04-15',utc=True) - pd.to_datetime(dispatcher['dispatcher_setup_timestamp'])).dt.total_seconds()/60/24).round(0))\n",
    "dispatcher = dispatcher.rename({'dispatcher_setup_timestamp':'days_since_dispatcher_changed'},axis=1)\n",
    "\n",
    "profile_data = pd.merge(dispatcher,address, on='profile_id', how='outer')\n",
    "\n",
    "\n",
    "worldcoin_human = pd.read_csv(f'{savepath}/worldcoin_human_check',index_col=0)\n",
    "worldcoin_human['worldcoin_human']=True\n",
    "profile_data = pd.merge(profile_data,worldcoin_human, on='profile_id', how='outer')\n",
    "\n",
    "aggregated_stats = pd.read_csv(f'{savepath}/aggregated_stats',index_col=0)\n",
    "profile_data = pd.merge(profile_data,aggregated_stats, on='profile_id', how='outer')\n",
    "\n"
   ]
  },
  {
   "cell_type": "code",
   "execution_count": 137,
   "id": "d5bc93ac-4937-4cd9-ac62-63b6856a943b",
   "metadata": {
    "tags": []
   },
   "outputs": [],
   "source": [
    "def read_insight_data(profile_data, name,group_col='profile_id'):\n",
    "    profile_data.copy()\n",
    "    df = pd.read_csv(f'{savepath}/{name}',index_col=0,skiprows=[0,2])\n",
    "    df.columns = [f'{i}_{name}' for i in df.columns]\n",
    "    profile_data = pd.merge(profile_data,df, left_on=group_col,right_index=True, how='outer')\n",
    "    return profile_data\n",
    "\n",
    "profile_data = read_insight_data(profile_data, name='post_data_insights')\n",
    "\n",
    "profile_data = read_insight_data(profile_data, name='comment_data_insights')\n",
    "\n",
    "profile_data = read_insight_data(profile_data, name='mirror_data_insights')\n",
    "\n"
   ]
  },
  {
   "cell_type": "code",
   "execution_count": 138,
   "id": "d88a138a-3f17-46fd-be08-7ce432741882",
   "metadata": {
    "tags": []
   },
   "outputs": [],
   "source": [
    "most_used_app = pd.read_csv(f'{savepath}/most_used_app',index_col=0)\n",
    "profile_data = pd.merge(profile_data,most_used_app, on='profile_id', how='outer')\n"
   ]
  },
  {
   "cell_type": "code",
   "execution_count": 139,
   "id": "771f25b4-ba7a-4ece-bcc9-92a3a308466c",
   "metadata": {
    "tags": []
   },
   "outputs": [],
   "source": [
    "ens_address = pd.read_csv(f'{savepath}/ens_address',index_col=0)\n",
    "ens_address['ens']=True\n",
    "\n",
    "proof_of_humanity = pd.read_csv(f'{savepath}/proof_of_humanity',index_col=0)\n",
    "proof_of_humanity['proof_of_humanity']=True\n",
    "\n",
    "sybil_dot_org_address_verified_twitter = pd.read_csv(f'{savepath}/sybil_dot_org_address_verified_twitter',index_col=0)\n",
    "sybil_dot_org_address_verified_twitter['sybil_dot_org_address_verified_twitter']=True\n",
    "\n",
    "address_data = pd.merge(ens_address,proof_of_humanity, on='address',how='outer')\n",
    "address_data = pd.merge(address_data,sybil_dot_org_address_verified_twitter, on='address',how='outer')\n",
    "\n",
    "address_data = read_insight_data(address_data, name='collect_data_insights',group_col='address')\n",
    "\n",
    "address_data = read_insight_data(address_data, name='paid_collect_data_insights',group_col='address')\n",
    "\n"
   ]
  },
  {
   "cell_type": "code",
   "execution_count": 171,
   "id": "24b2cf9f-770d-48eb-864c-5467737d1381",
   "metadata": {
    "tags": []
   },
   "outputs": [],
   "source": [
    "data = profile_data.merge(address_data,on='address',how='outer').drop('address',axis=1)"
   ]
  },
  {
   "cell_type": "code",
   "execution_count": 172,
   "id": "bf636d99-3640-41f8-b49f-867deafe1673",
   "metadata": {
    "tags": []
   },
   "outputs": [
    {
     "data": {
      "text/plain": [
       "(265679, 70)"
      ]
     },
     "execution_count": 172,
     "metadata": {},
     "output_type": "execute_result"
    }
   ],
   "source": [
    "data.shape"
   ]
  },
  {
   "cell_type": "code",
   "execution_count": 173,
   "id": "42b49332-75c9-4d0b-bfd7-4d5764bf1a4b",
   "metadata": {
    "tags": []
   },
   "outputs": [
    {
     "data": {
      "text/plain": [
       "(116487, 70)"
      ]
     },
     "execution_count": 173,
     "metadata": {},
     "output_type": "execute_result"
    }
   ],
   "source": [
    "data = data.dropna(subset=['profile_id'])\n",
    "data['id'] = data['profile_id'].apply(intify)\n",
    "data = data.set_index('profile_id')\n",
    "data.shape"
   ]
  },
  {
   "cell_type": "code",
   "execution_count": 174,
   "id": "b65cb8d3-fd46-485b-94a7-61c707cb6b15",
   "metadata": {
    "tags": []
   },
   "outputs": [
    {
     "data": {
      "text/html": [
       "<div>\n",
       "<style scoped>\n",
       "    .dataframe tbody tr th:only-of-type {\n",
       "        vertical-align: middle;\n",
       "    }\n",
       "\n",
       "    .dataframe tbody tr th {\n",
       "        vertical-align: top;\n",
       "    }\n",
       "\n",
       "    .dataframe thead th {\n",
       "        text-align: right;\n",
       "    }\n",
       "</style>\n",
       "<table border=\"1\" class=\"dataframe\">\n",
       "  <thead>\n",
       "    <tr style=\"text-align: right;\">\n",
       "      <th></th>\n",
       "      <th>0x112b57A293d99b79Fe360Af042bb3bfFc824Ab3a</th>\n",
       "      <th>0x25418Bcf53dAe1167cD5d0cad34Eec31C0C37E41</th>\n",
       "      <th>0x3530c7CAc2E47F27bA82a5d0D3671181171292DB</th>\n",
       "      <th>0x45F71328a415129CB25e3917e70f5BCA346C6151</th>\n",
       "      <th>0x46fAf146C4683663667af868dFc2F98ADc27fBd6</th>\n",
       "      <th>0x57B7bf6f792a6181Ec5aFB88cE7bcE330a9d1b67</th>\n",
       "      <th>0x62D0e168e35f87a1dB804C2b2daf63AE4D195cD1</th>\n",
       "      <th>0x6bC45934A408f7151093479bf59933cD3B75701d</th>\n",
       "      <th>0x761010EFc8826fFdcb8Ad005BD935698ed38DfE7</th>\n",
       "      <th>0x76D4fFdA8c66864FA07f0a285B8E01E11b4Bb7b3</th>\n",
       "      <th>...</th>\n",
       "      <th>min_collect_data_insights</th>\n",
       "      <th>mean_paid_collect_data_insights</th>\n",
       "      <th>median_paid_collect_data_insights</th>\n",
       "      <th>q10_paid_collect_data_insights</th>\n",
       "      <th>q25_paid_collect_data_insights</th>\n",
       "      <th>q75_paid_collect_data_insights</th>\n",
       "      <th>q90_paid_collect_data_insights</th>\n",
       "      <th>max_paid_collect_data_insights</th>\n",
       "      <th>min_paid_collect_data_insights</th>\n",
       "      <th>id</th>\n",
       "    </tr>\n",
       "    <tr>\n",
       "      <th>profile_id</th>\n",
       "      <th></th>\n",
       "      <th></th>\n",
       "      <th></th>\n",
       "      <th></th>\n",
       "      <th></th>\n",
       "      <th></th>\n",
       "      <th></th>\n",
       "      <th></th>\n",
       "      <th></th>\n",
       "      <th></th>\n",
       "      <th></th>\n",
       "      <th></th>\n",
       "      <th></th>\n",
       "      <th></th>\n",
       "      <th></th>\n",
       "      <th></th>\n",
       "      <th></th>\n",
       "      <th></th>\n",
       "      <th></th>\n",
       "      <th></th>\n",
       "      <th></th>\n",
       "    </tr>\n",
       "  </thead>\n",
       "  <tbody>\n",
       "    <tr>\n",
       "      <th>0xacae</th>\n",
       "      <td>False</td>\n",
       "      <td>False</td>\n",
       "      <td>False</td>\n",
       "      <td>True</td>\n",
       "      <td>False</td>\n",
       "      <td>False</td>\n",
       "      <td>False</td>\n",
       "      <td>False</td>\n",
       "      <td>False</td>\n",
       "      <td>False</td>\n",
       "      <td>...</td>\n",
       "      <td>34.0</td>\n",
       "      <td>NaN</td>\n",
       "      <td>NaN</td>\n",
       "      <td>NaN</td>\n",
       "      <td>NaN</td>\n",
       "      <td>NaN</td>\n",
       "      <td>NaN</td>\n",
       "      <td>NaN</td>\n",
       "      <td>NaN</td>\n",
       "      <td>44206</td>\n",
       "    </tr>\n",
       "    <tr>\n",
       "      <th>0xf803</th>\n",
       "      <td>False</td>\n",
       "      <td>False</td>\n",
       "      <td>False</td>\n",
       "      <td>False</td>\n",
       "      <td>True</td>\n",
       "      <td>False</td>\n",
       "      <td>False</td>\n",
       "      <td>False</td>\n",
       "      <td>False</td>\n",
       "      <td>False</td>\n",
       "      <td>...</td>\n",
       "      <td>NaN</td>\n",
       "      <td>NaN</td>\n",
       "      <td>NaN</td>\n",
       "      <td>NaN</td>\n",
       "      <td>NaN</td>\n",
       "      <td>NaN</td>\n",
       "      <td>NaN</td>\n",
       "      <td>NaN</td>\n",
       "      <td>NaN</td>\n",
       "      <td>63491</td>\n",
       "    </tr>\n",
       "    <tr>\n",
       "      <th>0xa738</th>\n",
       "      <td>False</td>\n",
       "      <td>False</td>\n",
       "      <td>False</td>\n",
       "      <td>False</td>\n",
       "      <td>False</td>\n",
       "      <td>False</td>\n",
       "      <td>False</td>\n",
       "      <td>True</td>\n",
       "      <td>False</td>\n",
       "      <td>False</td>\n",
       "      <td>...</td>\n",
       "      <td>NaN</td>\n",
       "      <td>NaN</td>\n",
       "      <td>NaN</td>\n",
       "      <td>NaN</td>\n",
       "      <td>NaN</td>\n",
       "      <td>NaN</td>\n",
       "      <td>NaN</td>\n",
       "      <td>NaN</td>\n",
       "      <td>NaN</td>\n",
       "      <td>42808</td>\n",
       "    </tr>\n",
       "    <tr>\n",
       "      <th>0x8d06</th>\n",
       "      <td>False</td>\n",
       "      <td>False</td>\n",
       "      <td>False</td>\n",
       "      <td>True</td>\n",
       "      <td>False</td>\n",
       "      <td>False</td>\n",
       "      <td>False</td>\n",
       "      <td>False</td>\n",
       "      <td>False</td>\n",
       "      <td>False</td>\n",
       "      <td>...</td>\n",
       "      <td>NaN</td>\n",
       "      <td>NaN</td>\n",
       "      <td>NaN</td>\n",
       "      <td>NaN</td>\n",
       "      <td>NaN</td>\n",
       "      <td>NaN</td>\n",
       "      <td>NaN</td>\n",
       "      <td>NaN</td>\n",
       "      <td>NaN</td>\n",
       "      <td>36102</td>\n",
       "    </tr>\n",
       "    <tr>\n",
       "      <th>0xe56e</th>\n",
       "      <td>False</td>\n",
       "      <td>False</td>\n",
       "      <td>False</td>\n",
       "      <td>True</td>\n",
       "      <td>False</td>\n",
       "      <td>False</td>\n",
       "      <td>False</td>\n",
       "      <td>False</td>\n",
       "      <td>False</td>\n",
       "      <td>False</td>\n",
       "      <td>...</td>\n",
       "      <td>NaN</td>\n",
       "      <td>NaN</td>\n",
       "      <td>NaN</td>\n",
       "      <td>NaN</td>\n",
       "      <td>NaN</td>\n",
       "      <td>NaN</td>\n",
       "      <td>NaN</td>\n",
       "      <td>NaN</td>\n",
       "      <td>NaN</td>\n",
       "      <td>58734</td>\n",
       "    </tr>\n",
       "  </tbody>\n",
       "</table>\n",
       "<p>5 rows × 70 columns</p>\n",
       "</div>"
      ],
      "text/plain": [
       "           0x112b57A293d99b79Fe360Af042bb3bfFc824Ab3a   \n",
       "profile_id                                              \n",
       "0xacae                                          False  \\\n",
       "0xf803                                          False   \n",
       "0xa738                                          False   \n",
       "0x8d06                                          False   \n",
       "0xe56e                                          False   \n",
       "\n",
       "           0x25418Bcf53dAe1167cD5d0cad34Eec31C0C37E41   \n",
       "profile_id                                              \n",
       "0xacae                                          False  \\\n",
       "0xf803                                          False   \n",
       "0xa738                                          False   \n",
       "0x8d06                                          False   \n",
       "0xe56e                                          False   \n",
       "\n",
       "           0x3530c7CAc2E47F27bA82a5d0D3671181171292DB   \n",
       "profile_id                                              \n",
       "0xacae                                          False  \\\n",
       "0xf803                                          False   \n",
       "0xa738                                          False   \n",
       "0x8d06                                          False   \n",
       "0xe56e                                          False   \n",
       "\n",
       "           0x45F71328a415129CB25e3917e70f5BCA346C6151   \n",
       "profile_id                                              \n",
       "0xacae                                           True  \\\n",
       "0xf803                                          False   \n",
       "0xa738                                          False   \n",
       "0x8d06                                           True   \n",
       "0xe56e                                           True   \n",
       "\n",
       "           0x46fAf146C4683663667af868dFc2F98ADc27fBd6   \n",
       "profile_id                                              \n",
       "0xacae                                          False  \\\n",
       "0xf803                                           True   \n",
       "0xa738                                          False   \n",
       "0x8d06                                          False   \n",
       "0xe56e                                          False   \n",
       "\n",
       "           0x57B7bf6f792a6181Ec5aFB88cE7bcE330a9d1b67   \n",
       "profile_id                                              \n",
       "0xacae                                          False  \\\n",
       "0xf803                                          False   \n",
       "0xa738                                          False   \n",
       "0x8d06                                          False   \n",
       "0xe56e                                          False   \n",
       "\n",
       "           0x62D0e168e35f87a1dB804C2b2daf63AE4D195cD1   \n",
       "profile_id                                              \n",
       "0xacae                                          False  \\\n",
       "0xf803                                          False   \n",
       "0xa738                                          False   \n",
       "0x8d06                                          False   \n",
       "0xe56e                                          False   \n",
       "\n",
       "           0x6bC45934A408f7151093479bf59933cD3B75701d   \n",
       "profile_id                                              \n",
       "0xacae                                          False  \\\n",
       "0xf803                                          False   \n",
       "0xa738                                           True   \n",
       "0x8d06                                          False   \n",
       "0xe56e                                          False   \n",
       "\n",
       "           0x761010EFc8826fFdcb8Ad005BD935698ed38DfE7   \n",
       "profile_id                                              \n",
       "0xacae                                          False  \\\n",
       "0xf803                                          False   \n",
       "0xa738                                          False   \n",
       "0x8d06                                          False   \n",
       "0xe56e                                          False   \n",
       "\n",
       "           0x76D4fFdA8c66864FA07f0a285B8E01E11b4Bb7b3  ...   \n",
       "profile_id                                             ...   \n",
       "0xacae                                          False  ...  \\\n",
       "0xf803                                          False  ...   \n",
       "0xa738                                          False  ...   \n",
       "0x8d06                                          False  ...   \n",
       "0xe56e                                          False  ...   \n",
       "\n",
       "           min_collect_data_insights mean_paid_collect_data_insights   \n",
       "profile_id                                                             \n",
       "0xacae                          34.0                             NaN  \\\n",
       "0xf803                           NaN                             NaN   \n",
       "0xa738                           NaN                             NaN   \n",
       "0x8d06                           NaN                             NaN   \n",
       "0xe56e                           NaN                             NaN   \n",
       "\n",
       "           median_paid_collect_data_insights q10_paid_collect_data_insights   \n",
       "profile_id                                                                    \n",
       "0xacae                                   NaN                            NaN  \\\n",
       "0xf803                                   NaN                            NaN   \n",
       "0xa738                                   NaN                            NaN   \n",
       "0x8d06                                   NaN                            NaN   \n",
       "0xe56e                                   NaN                            NaN   \n",
       "\n",
       "           q25_paid_collect_data_insights q75_paid_collect_data_insights   \n",
       "profile_id                                                                 \n",
       "0xacae                                NaN                            NaN  \\\n",
       "0xf803                                NaN                            NaN   \n",
       "0xa738                                NaN                            NaN   \n",
       "0x8d06                                NaN                            NaN   \n",
       "0xe56e                                NaN                            NaN   \n",
       "\n",
       "            q90_paid_collect_data_insights max_paid_collect_data_insights   \n",
       "profile_id                                                                  \n",
       "0xacae                                 NaN                            NaN  \\\n",
       "0xf803                                 NaN                            NaN   \n",
       "0xa738                                 NaN                            NaN   \n",
       "0x8d06                                 NaN                            NaN   \n",
       "0xe56e                                 NaN                            NaN   \n",
       "\n",
       "           min_paid_collect_data_insights     id  \n",
       "profile_id                                        \n",
       "0xacae                                NaN  44206  \n",
       "0xf803                                NaN  63491  \n",
       "0xa738                                NaN  42808  \n",
       "0x8d06                                NaN  36102  \n",
       "0xe56e                                NaN  58734  \n",
       "\n",
       "[5 rows x 70 columns]"
      ]
     },
     "execution_count": 174,
     "metadata": {},
     "output_type": "execute_result"
    }
   ],
   "source": [
    "data.head()"
   ]
  },
  {
   "cell_type": "code",
   "execution_count": 175,
   "id": "59a63bba-5d5d-48d4-922f-62a9c5cb6dd9",
   "metadata": {
    "tags": []
   },
   "outputs": [],
   "source": [
    "def intify(x):\n",
    "    return int(x,16)\n",
    "\n"
   ]
  },
  {
   "cell_type": "code",
   "execution_count": 176,
   "id": "c72e0b77-bac5-403f-803b-108f53e32c05",
   "metadata": {
    "tags": []
   },
   "outputs": [],
   "source": [
    "data = data.merge(labels,on='id',how='left')"
   ]
  },
  {
   "cell_type": "code",
   "execution_count": 205,
   "id": "685927cc-0745-4401-a5dc-3aa91699ded8",
   "metadata": {
    "tags": []
   },
   "outputs": [],
   "source": [
    "bad = data.dropna(subset=['rank','total_mirrors']).query('total_mirrors>100').sort_values(by='rank').tail(100).drop(labels.columns,axis=1)\n",
    "good = data.sort_values(by='rank').head(100).drop(labels.columns,axis=1)\n",
    "bad['label'] = 0\n",
    "good['label'] = 1\n",
    "\n",
    "training_data = pd.concat([bad,good])\n",
    "validation_data = data.drop(training_data.index).drop(labels.columns,axis=1)"
   ]
  },
  {
   "cell_type": "code",
   "execution_count": 206,
   "id": "0a202133-dbe1-4cb0-b7da-d7764647da04",
   "metadata": {
    "tags": []
   },
   "outputs": [],
   "source": [
    "from sklearn.model_selection import train_test_split"
   ]
  },
  {
   "cell_type": "code",
   "execution_count": 207,
   "id": "76c19990-37d5-4b85-b775-ee440b4f7940",
   "metadata": {
    "tags": []
   },
   "outputs": [],
   "source": [
    "X_train, X_test, y_train, y_test = train_test_split(training_data.drop('label',axis=1), training_data['label'], test_size=0.33, random_state=42)"
   ]
  },
  {
   "cell_type": "code",
   "execution_count": null,
   "id": "63ab8301-48e2-4751-bffc-e6c2c0169da6",
   "metadata": {},
   "outputs": [],
   "source": []
  },
  {
   "cell_type": "code",
   "execution_count": null,
   "id": "0c9a6390-f939-4ec5-88b3-b2fc77cea003",
   "metadata": {},
   "outputs": [],
   "source": []
  }
 ],
 "metadata": {
  "kernelspec": {
   "display_name": "Python 3 (ipykernel)",
   "language": "python",
   "name": "python3"
  },
  "language_info": {
   "codemirror_mode": {
    "name": "ipython",
    "version": 3
   },
   "file_extension": ".py",
   "mimetype": "text/x-python",
   "name": "python",
   "nbconvert_exporter": "python",
   "pygments_lexer": "ipython3",
   "version": "3.10.10"
  }
 },
 "nbformat": 4,
 "nbformat_minor": 5
}
